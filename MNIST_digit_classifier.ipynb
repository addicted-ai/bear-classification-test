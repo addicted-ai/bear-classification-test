{
  "nbformat": 4,
  "nbformat_minor": 0,
  "metadata": {
    "colab": {
      "name": "MNIST_digit_classifier.ipynb",
      "provenance": [],
      "collapsed_sections": [],
      "toc_visible": true,
      "authorship_tag": "ABX9TyPEbP+fJb8hdzY99GD9MxWB",
      "include_colab_link": true
    },
    "kernelspec": {
      "name": "python3",
      "display_name": "Python 3"
    },
    "language_info": {
      "name": "python"
    },
    "accelerator": "GPU"
  },
  "cells": [
    {
      "cell_type": "markdown",
      "metadata": {
        "id": "view-in-github",
        "colab_type": "text"
      },
      "source": [
        "<a href=\"https://colab.research.google.com/github/addicted-ai/fastai-tests/blob/main/MNIST_digit_classifier.ipynb\" target=\"_parent\"><img src=\"https://colab.research.google.com/assets/colab-badge.svg\" alt=\"Open In Colab\"/></a>"
      ]
    },
    {
      "cell_type": "markdown",
      "metadata": {
        "id": "RFIu6EC3CK3z"
      },
      "source": [
        "## Importing Necessary Libraries"
      ]
    },
    {
      "cell_type": "code",
      "metadata": {
        "id": "D02V4GtRqnlK"
      },
      "source": [
        "# supressing warnings\n",
        "import warnings\n",
        "warnings.filterwarnings(\"ignore\")"
      ],
      "execution_count": 1,
      "outputs": []
    },
    {
      "cell_type": "code",
      "metadata": {
        "id": "VpjNGBb-sc8d",
        "colab": {
          "base_uri": "https://localhost:8080/"
        },
        "outputId": "18504a2f-1af4-42ad-da15-597288e22f6c"
      },
      "source": [
        "import numpy as np\n",
        "import pandas as pd\n",
        "import os\n",
        "\n",
        "# mount google drive\n",
        "from google.colab import drive\n",
        "drive.mount('/content/gdrive')"
      ],
      "execution_count": 2,
      "outputs": [
        {
          "output_type": "stream",
          "text": [
            "Mounted at /content/gdrive\n"
          ],
          "name": "stdout"
        }
      ]
    },
    {
      "cell_type": "code",
      "metadata": {
        "colab": {
          "base_uri": "https://localhost:8080/"
        },
        "id": "jVluSz4Jsgtm",
        "outputId": "ca2a498d-9655-4afc-e01d-e7aab7555c6e"
      },
      "source": [
        "!pip install -Uqq fastbook\n",
        "import fastbook\n",
        "fastbook.setup_book()"
      ],
      "execution_count": 3,
      "outputs": [
        {
          "output_type": "stream",
          "text": [
            "\u001b[K     |████████████████████████████████| 720 kB 7.2 MB/s \n",
            "\u001b[K     |████████████████████████████████| 1.2 MB 15.2 MB/s \n",
            "\u001b[K     |████████████████████████████████| 46 kB 5.2 MB/s \n",
            "\u001b[K     |████████████████████████████████| 188 kB 37.3 MB/s \n",
            "\u001b[K     |████████████████████████████████| 54 kB 3.4 MB/s \n",
            "\u001b[K     |████████████████████████████████| 51 kB 390 kB/s \n",
            "\u001b[?25h"
          ],
          "name": "stdout"
        }
      ]
    },
    {
      "cell_type": "code",
      "metadata": {
        "id": "UK3guib6td2d"
      },
      "source": [
        "from fastai.vision.all import *\n",
        "from fastbook import *"
      ],
      "execution_count": 4,
      "outputs": []
    },
    {
      "cell_type": "markdown",
      "metadata": {
        "id": "cvMowx1HCRcz"
      },
      "source": [
        "## Loading Dataset & Visualizing it in different way"
      ]
    },
    {
      "cell_type": "code",
      "metadata": {
        "colab": {
          "base_uri": "https://localhost:8080/",
          "height": 34
        },
        "id": "2hW3zg38teVh",
        "outputId": "c41bb2c9-a0cf-432d-b76e-9c6bb0a11009"
      },
      "source": [
        "path = untar_data(URLs.MNIST_SAMPLE)\n",
        "# Checking path\n",
        "path.ls()"
      ],
      "execution_count": 5,
      "outputs": [
        {
          "output_type": "display_data",
          "data": {
            "text/html": [
              ""
            ],
            "text/plain": [
              "<IPython.core.display.HTML object>"
            ]
          },
          "metadata": {
            "tags": []
          }
        },
        {
          "output_type": "execute_result",
          "data": {
            "text/plain": [
              "(#3) [Path('/root/.fastai/data/mnist_sample/labels.csv'),Path('/root/.fastai/data/mnist_sample/valid'),Path('/root/.fastai/data/mnist_sample/train')]"
            ]
          },
          "metadata": {
            "tags": []
          },
          "execution_count": 5
        }
      ]
    },
    {
      "cell_type": "code",
      "metadata": {
        "colab": {
          "base_uri": "https://localhost:8080/"
        },
        "id": "S3396ua-unTu",
        "outputId": "3e9573e4-aa82-4e8e-fc4b-6bfbcbef9518"
      },
      "source": [
        "# storing path of 3 & 7 of train dataset\n",
        "threes = (path/'train'/'3').ls().sorted()\n",
        "sevens = (path/'train'/'7').ls().sorted()\n",
        "threes"
      ],
      "execution_count": 6,
      "outputs": [
        {
          "output_type": "execute_result",
          "data": {
            "text/plain": [
              "(#6131) [Path('/root/.fastai/data/mnist_sample/train/3/10.png'),Path('/root/.fastai/data/mnist_sample/train/3/10000.png'),Path('/root/.fastai/data/mnist_sample/train/3/10011.png'),Path('/root/.fastai/data/mnist_sample/train/3/10031.png'),Path('/root/.fastai/data/mnist_sample/train/3/10034.png'),Path('/root/.fastai/data/mnist_sample/train/3/10042.png'),Path('/root/.fastai/data/mnist_sample/train/3/10052.png'),Path('/root/.fastai/data/mnist_sample/train/3/1007.png'),Path('/root/.fastai/data/mnist_sample/train/3/10074.png'),Path('/root/.fastai/data/mnist_sample/train/3/10091.png')...]"
            ]
          },
          "metadata": {
            "tags": []
          },
          "execution_count": 6
        }
      ]
    },
    {
      "cell_type": "code",
      "metadata": {
        "colab": {
          "base_uri": "https://localhost:8080/",
          "height": 45
        },
        "id": "ggxnEVaeus6X",
        "outputId": "09256b21-afb9-4478-ba9e-5d6cdf125c94"
      },
      "source": [
        "# checking single image of 3\n",
        "im3_path = threes[1]\n",
        "im3 = Image.open(im3_path) # uses PIL library in bg\n",
        "im3"
      ],
      "execution_count": 7,
      "outputs": [
        {
          "output_type": "execute_result",
          "data": {
            "image/png": "[encoded data removed]",
            "text/plain": [
              "<PIL.PngImagePlugin.PngImageFile image mode=L size=28x28 at 0x7F96D552AF50>"
            ]
          },
          "metadata": {
            "tags": []
          },
          "execution_count": 7
        }
      ]
    },
    {
      "cell_type": "code",
      "metadata": {
        "colab": {
          "base_uri": "https://localhost:8080/"
        },
        "id": "r2I-mzU4wEU0",
        "outputId": "174a3cf4-9045-425a-e890-35cd88d7238d"
      },
      "source": [
        "# visualizing pixels of im3 image in numpy array\n",
        "array(im3)"
      ],
      "execution_count": 8,
      "outputs": [
        {
          "output_type": "execute_result",
          "data": {
            "text/plain": [
              "array([[  0,   0,   0,   0,   0,   0,   0,   0,   0,   0,   0,   0,   0,   0,   0,   0,   0,   0,   0,   0,   0,   0,   0,   0,   0,   0,   0,   0],\n",
              "       [  0,   0,   0,   0,   0,   0,   0,   0,   0,   0,   0,   0,   0,   0,   0,   0,   0,   0,   0,   0,   0,   0,   0,   0,   0,   0,   0,   0],\n",
              "       [  0,   0,   0,   0,   0,   0,   0,   0,   0,   0,   0,   0,   0,   0,   0,   0,   0,   0,   0,   0,   0,   0,   0,   0,   0,   0,   0,   0],\n",
              "       [  0,   0,   0,   0,   0,   0,   0,   0,   0,   0,   0,   0,   0,   0,   0,   0,   0,   0,   0,   0,   0,   0,   0,   0,   0,   0,   0,   0],\n",
              "       [  0,   0,   0,   0,   0,   0,   0,   0,   0,   0,   0,   0,   0,   0,   0,   0,   0,   0,   0,   0,   0,   0,   0,   0,   0,   0,   0,   0],\n",
              "       [  0,   0,   0,   0,   0,   0,   0,   0,   0,  29, 150, 195, 254, 255, 254, 176, 193, 150,  96,   0,   0,   0,   0,   0,   0,   0,   0,   0],\n",
              "       [  0,   0,   0,   0,   0,   0,   0,  48, 166, 224, 253, 253, 234, 196, 253, 253, 253, 253, 233,   0,   0,   0,   0,   0,   0,   0,   0,   0],\n",
              "       [  0,   0,   0,   0,   0,  93, 244, 249, 253, 187,  46,  10,   8,   4,  10, 194, 253, 253, 233,   0,   0,   0,   0,   0,   0,   0,   0,   0],\n",
              "       [  0,   0,   0,   0,   0, 107, 253, 253, 230,  48,   0,   0,   0,   0,   0, 192, 253, 253, 156,   0,   0,   0,   0,   0,   0,   0,   0,   0],\n",
              "       [  0,   0,   0,   0,   0,   3,  20,  20,  15,   0,   0,   0,   0,   0,  43, 224, 253, 245,  74,   0,   0,   0,   0,   0,   0,   0,   0,   0],\n",
              "       [  0,   0,   0,   0,   0,   0,   0,   0,   0,   0,   0,   0,   0,   0, 249, 253, 245, 126,   0,   0,   0,   0,   0,   0,   0,   0,   0,   0],\n",
              "       [  0,   0,   0,   0,   0,   0,   0,   0,   0,   0,   0,  14, 101, 223, 253, 248, 124,   0,   0,   0,   0,   0,   0,   0,   0,   0,   0,   0],\n",
              "       [  0,   0,   0,   0,   0,   0,   0,   0,   0,  11, 166, 239, 253, 253, 253, 187,  30,   0,   0,   0,   0,   0,   0,   0,   0,   0,   0,   0],\n",
              "       [  0,   0,   0,   0,   0,   0,   0,   0,   0,  16, 248, 250, 253, 253, 253, 253, 232, 213, 111,   2,   0,   0,   0,   0,   0,   0,   0,   0],\n",
              "       [  0,   0,   0,   0,   0,   0,   0,   0,   0,   0,   0,  43,  98,  98, 208, 253, 253, 253, 253, 187,  22,   0,   0,   0,   0,   0,   0,   0],\n",
              "       [  0,   0,   0,   0,   0,   0,   0,   0,   0,   0,   0,   0,   0,   0,   9,  51, 119, 253, 253, 253,  76,   0,   0,   0,   0,   0,   0,   0],\n",
              "       [  0,   0,   0,   0,   0,   0,   0,   0,   0,   0,   0,   0,   0,   0,   0,   0,   1, 183, 253, 253, 139,   0,   0,   0,   0,   0,   0,   0],\n",
              "       [  0,   0,   0,   0,   0,   0,   0,   0,   0,   0,   0,   0,   0,   0,   0,   0,   0, 182, 253, 253, 104,   0,   0,   0,   0,   0,   0,   0],\n",
              "       [  0,   0,   0,   0,   0,   0,   0,   0,   0,   0,   0,   0,   0,   0,   0,   0,  85, 249, 253, 253,  36,   0,   0,   0,   0,   0,   0,   0],\n",
              "       [  0,   0,   0,   0,   0,   0,   0,   0,   0,   0,   0,   0,   0,   0,   0,  60, 214, 253, 253, 173,  11,   0,   0,   0,   0,   0,   0,   0],\n",
              "       [  0,   0,   0,   0,   0,   0,   0,   0,   0,   0,   0,   0,   0,   0,  98, 247, 253, 253, 226,   9,   0,   0,   0,   0,   0,   0,   0,   0],\n",
              "       [  0,   0,   0,   0,   0,   0,   0,   0,   0,   0,   0,   0,  42, 150, 252, 253, 253, 233,  53,   0,   0,   0,   0,   0,   0,   0,   0,   0],\n",
              "       [  0,   0,   0,   0,   0,   0,  42, 115,  42,  60, 115, 159, 240, 253, 253, 250, 175,  25,   0,   0,   0,   0,   0,   0,   0,   0,   0,   0],\n",
              "       [  0,   0,   0,   0,   0,   0, 187, 253, 253, 253, 253, 253, 253, 253, 197,  86,   0,   0,   0,   0,   0,   0,   0,   0,   0,   0,   0,   0],\n",
              "       [  0,   0,   0,   0,   0,   0, 103, 253, 253, 253, 253, 253, 232,  67,   1,   0,   0,   0,   0,   0,   0,   0,   0,   0,   0,   0,   0,   0],\n",
              "       [  0,   0,   0,   0,   0,   0,   0,   0,   0,   0,   0,   0,   0,   0,   0,   0,   0,   0,   0,   0,   0,   0,   0,   0,   0,   0,   0,   0],\n",
              "       [  0,   0,   0,   0,   0,   0,   0,   0,   0,   0,   0,   0,   0,   0,   0,   0,   0,   0,   0,   0,   0,   0,   0,   0,   0,   0,   0,   0],\n",
              "       [  0,   0,   0,   0,   0,   0,   0,   0,   0,   0,   0,   0,   0,   0,   0,   0,   0,   0,   0,   0,   0,   0,   0,   0,   0,   0,   0,   0]], dtype=uint8)"
            ]
          },
          "metadata": {
            "tags": []
          },
          "execution_count": 8
        }
      ]
    },
    {
      "cell_type": "code",
      "metadata": {
        "colab": {
          "base_uri": "https://localhost:8080/"
        },
        "id": "58McA6yzvxp2",
        "outputId": "1e187300-52f4-4787-acaa-4dc39d35b602"
      },
      "source": [
        "# visualizing pixels of im3 image in tensor object\n",
        "tensor(im3)"
      ],
      "execution_count": 9,
      "outputs": [
        {
          "output_type": "execute_result",
          "data": {
            "text/plain": [
              "tensor([[  0,   0,   0,   0,   0,   0,   0,   0,   0,   0,   0,   0,   0,   0,   0,   0,   0,   0,   0,   0,   0,   0,   0,   0,   0,   0,   0,   0],\n",
              "        [  0,   0,   0,   0,   0,   0,   0,   0,   0,   0,   0,   0,   0,   0,   0,   0,   0,   0,   0,   0,   0,   0,   0,   0,   0,   0,   0,   0],\n",
              "        [  0,   0,   0,   0,   0,   0,   0,   0,   0,   0,   0,   0,   0,   0,   0,   0,   0,   0,   0,   0,   0,   0,   0,   0,   0,   0,   0,   0],\n",
              "        [  0,   0,   0,   0,   0,   0,   0,   0,   0,   0,   0,   0,   0,   0,   0,   0,   0,   0,   0,   0,   0,   0,   0,   0,   0,   0,   0,   0],\n",
              "        [  0,   0,   0,   0,   0,   0,   0,   0,   0,   0,   0,   0,   0,   0,   0,   0,   0,   0,   0,   0,   0,   0,   0,   0,   0,   0,   0,   0],\n",
              "        [  0,   0,   0,   0,   0,   0,   0,   0,   0,  29, 150, 195, 254, 255, 254, 176, 193, 150,  96,   0,   0,   0,   0,   0,   0,   0,   0,   0],\n",
              "        [  0,   0,   0,   0,   0,   0,   0,  48, 166, 224, 253, 253, 234, 196, 253, 253, 253, 253, 233,   0,   0,   0,   0,   0,   0,   0,   0,   0],\n",
              "        [  0,   0,   0,   0,   0,  93, 244, 249, 253, 187,  46,  10,   8,   4,  10, 194, 253, 253, 233,   0,   0,   0,   0,   0,   0,   0,   0,   0],\n",
              "        [  0,   0,   0,   0,   0, 107, 253, 253, 230,  48,   0,   0,   0,   0,   0, 192, 253, 253, 156,   0,   0,   0,   0,   0,   0,   0,   0,   0],\n",
              "        [  0,   0,   0,   0,   0,   3,  20,  20,  15,   0,   0,   0,   0,   0,  43, 224, 253, 245,  74,   0,   0,   0,   0,   0,   0,   0,   0,   0],\n",
              "        [  0,   0,   0,   0,   0,   0,   0,   0,   0,   0,   0,   0,   0,   0, 249, 253, 245, 126,   0,   0,   0,   0,   0,   0,   0,   0,   0,   0],\n",
              "        [  0,   0,   0,   0,   0,   0,   0,   0,   0,   0,   0,  14, 101, 223, 253, 248, 124,   0,   0,   0,   0,   0,   0,   0,   0,   0,   0,   0],\n",
              "        [  0,   0,   0,   0,   0,   0,   0,   0,   0,  11, 166, 239, 253, 253, 253, 187,  30,   0,   0,   0,   0,   0,   0,   0,   0,   0,   0,   0],\n",
              "        [  0,   0,   0,   0,   0,   0,   0,   0,   0,  16, 248, 250, 253, 253, 253, 253, 232, 213, 111,   2,   0,   0,   0,   0,   0,   0,   0,   0],\n",
              "        [  0,   0,   0,   0,   0,   0,   0,   0,   0,   0,   0,  43,  98,  98, 208, 253, 253, 253, 253, 187,  22,   0,   0,   0,   0,   0,   0,   0],\n",
              "        [  0,   0,   0,   0,   0,   0,   0,   0,   0,   0,   0,   0,   0,   0,   9,  51, 119, 253, 253, 253,  76,   0,   0,   0,   0,   0,   0,   0],\n",
              "        [  0,   0,   0,   0,   0,   0,   0,   0,   0,   0,   0,   0,   0,   0,   0,   0,   1, 183, 253, 253, 139,   0,   0,   0,   0,   0,   0,   0],\n",
              "        [  0,   0,   0,   0,   0,   0,   0,   0,   0,   0,   0,   0,   0,   0,   0,   0,   0, 182, 253, 253, 104,   0,   0,   0,   0,   0,   0,   0],\n",
              "        [  0,   0,   0,   0,   0,   0,   0,   0,   0,   0,   0,   0,   0,   0,   0,   0,  85, 249, 253, 253,  36,   0,   0,   0,   0,   0,   0,   0],\n",
              "        [  0,   0,   0,   0,   0,   0,   0,   0,   0,   0,   0,   0,   0,   0,   0,  60, 214, 253, 253, 173,  11,   0,   0,   0,   0,   0,   0,   0],\n",
              "        [  0,   0,   0,   0,   0,   0,   0,   0,   0,   0,   0,   0,   0,   0,  98, 247, 253, 253, 226,   9,   0,   0,   0,   0,   0,   0,   0,   0],\n",
              "        [  0,   0,   0,   0,   0,   0,   0,   0,   0,   0,   0,   0,  42, 150, 252, 253, 253, 233,  53,   0,   0,   0,   0,   0,   0,   0,   0,   0],\n",
              "        [  0,   0,   0,   0,   0,   0,  42, 115,  42,  60, 115, 159, 240, 253, 253, 250, 175,  25,   0,   0,   0,   0,   0,   0,   0,   0,   0,   0],\n",
              "        [  0,   0,   0,   0,   0,   0, 187, 253, 253, 253, 253, 253, 253, 253, 197,  86,   0,   0,   0,   0,   0,   0,   0,   0,   0,   0,   0,   0],\n",
              "        [  0,   0,   0,   0,   0,   0, 103, 253, 253, 253, 253, 253, 232,  67,   1,   0,   0,   0,   0,   0,   0,   0,   0,   0,   0,   0,   0,   0],\n",
              "        [  0,   0,   0,   0,   0,   0,   0,   0,   0,   0,   0,   0,   0,   0,   0,   0,   0,   0,   0,   0,   0,   0,   0,   0,   0,   0,   0,   0],\n",
              "        [  0,   0,   0,   0,   0,   0,   0,   0,   0,   0,   0,   0,   0,   0,   0,   0,   0,   0,   0,   0,   0,   0,   0,   0,   0,   0,   0,   0],\n",
              "        [  0,   0,   0,   0,   0,   0,   0,   0,   0,   0,   0,   0,   0,   0,   0,   0,   0,   0,   0,   0,   0,   0,   0,   0,   0,   0,   0,   0]], dtype=torch.uint8)"
            ]
          },
          "metadata": {
            "tags": []
          },
          "execution_count": 9
        }
      ]
    },
    {
      "cell_type": "code",
      "metadata": {
        "colab": {
          "base_uri": "https://localhost:8080/",
          "height": 502
        },
        "id": "zGACR9JGwIxE",
        "outputId": "edd4f9f3-492f-4a83-dfeb-9b99e7e3cf69"
      },
      "source": [
        "#@title\n",
        "im3_t = tensor(im3)\n",
        "df = pd.DataFrame(im3_t[3:25,4:21]) # total 28*28\n",
        "df.style.set_properties(**{'font-size':'6pt'}).background_gradient('Greys')"
      ],
      "execution_count": 10,
      "outputs": [
        {
          "output_type": "execute_result",
          "data": {
            "text/html": [
              "<style  type=\"text/css\" >\n",
              "#T_eb3b24ba_f175_11eb_9f18_0242ac1c0002row0_col0,#T_eb3b24ba_f175_11eb_9f18_0242ac1c0002row0_col1,#T_eb3b24ba_f175_11eb_9f18_0242ac1c0002row0_col2,#T_eb3b24ba_f175_11eb_9f18_0242ac1c0002row0_col3,#T_eb3b24ba_f175_11eb_9f18_0242ac1c0002row0_col4,#T_eb3b24ba_f175_11eb_9f18_0242ac1c0002row0_col5,#T_eb3b24ba_f175_11eb_9f18_0242ac1c0002row0_col6,#T_eb3b24ba_f175_11eb_9f18_0242ac1c0002row0_col7,#T_eb3b24ba_f175_11eb_9f18_0242ac1c0002row0_col8,#T_eb3b24ba_f175_11eb_9f18_0242ac1c0002row0_col9,#T_eb3b24ba_f175_11eb_9f18_0242ac1c0002row0_col10,#T_eb3b24ba_f175_11eb_9f18_0242ac1c0002row0_col11,#T_eb3b24ba_f175_11eb_9f18_0242ac1c0002row0_col12,#T_eb3b24ba_f175_11eb_9f18_0242ac1c0002row0_col13,#T_eb3b24ba_f175_11eb_9f18_0242ac1c0002row0_col14,#T_eb3b24ba_f175_11eb_9f18_0242ac1c0002row0_col15,#T_eb3b24ba_f175_11eb_9f18_0242ac1c0002row0_col16,#T_eb3b24ba_f175_11eb_9f18_0242ac1c0002row1_col0,#T_eb3b24ba_f175_11eb_9f18_0242ac1c0002row1_col1,#T_eb3b24ba_f175_11eb_9f18_0242ac1c0002row1_col2,#T_eb3b24ba_f175_11eb_9f18_0242ac1c0002row1_col3,#T_eb3b24ba_f175_11eb_9f18_0242ac1c0002row1_col4,#T_eb3b24ba_f175_11eb_9f18_0242ac1c0002row1_col5,#T_eb3b24ba_f175_11eb_9f18_0242ac1c0002row1_col6,#T_eb3b24ba_f175_11eb_9f18_0242ac1c0002row1_col7,#T_eb3b24ba_f175_11eb_9f18_0242ac1c0002row1_col8,#T_eb3b24ba_f175_11eb_9f18_0242ac1c0002row1_col9,#T_eb3b24ba_f175_11eb_9f18_0242ac1c0002row1_col10,#T_eb3b24ba_f175_11eb_9f18_0242ac1c0002row1_col11,#T_eb3b24ba_f175_11eb_9f18_0242ac1c0002row1_col12,#T_eb3b24ba_f175_11eb_9f18_0242ac1c0002row1_col13,#T_eb3b24ba_f175_11eb_9f18_0242ac1c0002row1_col14,#T_eb3b24ba_f175_11eb_9f18_0242ac1c0002row1_col15,#T_eb3b24ba_f175_11eb_9f18_0242ac1c0002row1_col16,#T_eb3b24ba_f175_11eb_9f18_0242ac1c0002row2_col0,#T_eb3b24ba_f175_11eb_9f18_0242ac1c0002row2_col1,#T_eb3b24ba_f175_11eb_9f18_0242ac1c0002row2_col2,#T_eb3b24ba_f175_11eb_9f18_0242ac1c0002row2_col3,#T_eb3b24ba_f175_11eb_9f18_0242ac1c0002row2_col4,#T_eb3b24ba_f175_11eb_9f18_0242ac1c0002row2_col15,#T_eb3b24ba_f175_11eb_9f18_0242ac1c0002row2_col16,#T_eb3b24ba_f175_11eb_9f18_0242ac1c0002row3_col0,#T_eb3b24ba_f175_11eb_9f18_0242ac1c0002row3_col1,#T_eb3b24ba_f175_11eb_9f18_0242ac1c0002row3_col2,#T_eb3b24ba_f175_11eb_9f18_0242ac1c0002row3_col15,#T_eb3b24ba_f175_11eb_9f18_0242ac1c0002row3_col16,#T_eb3b24ba_f175_11eb_9f18_0242ac1c0002row4_col0,#T_eb3b24ba_f175_11eb_9f18_0242ac1c0002row4_col15,#T_eb3b24ba_f175_11eb_9f18_0242ac1c0002row4_col16,#T_eb3b24ba_f175_11eb_9f18_0242ac1c0002row5_col0,#T_eb3b24ba_f175_11eb_9f18_0242ac1c0002row5_col6,#T_eb3b24ba_f175_11eb_9f18_0242ac1c0002row5_col7,#T_eb3b24ba_f175_11eb_9f18_0242ac1c0002row5_col8,#T_eb3b24ba_f175_11eb_9f18_0242ac1c0002row5_col9,#T_eb3b24ba_f175_11eb_9f18_0242ac1c0002row5_col10,#T_eb3b24ba_f175_11eb_9f18_0242ac1c0002row5_col15,#T_eb3b24ba_f175_11eb_9f18_0242ac1c0002row5_col16,#T_eb3b24ba_f175_11eb_9f18_0242ac1c0002row6_col0,#T_eb3b24ba_f175_11eb_9f18_0242ac1c0002row6_col5,#T_eb3b24ba_f175_11eb_9f18_0242ac1c0002row6_col6,#T_eb3b24ba_f175_11eb_9f18_0242ac1c0002row6_col7,#T_eb3b24ba_f175_11eb_9f18_0242ac1c0002row6_col8,#T_eb3b24ba_f175_11eb_9f18_0242ac1c0002row6_col9,#T_eb3b24ba_f175_11eb_9f18_0242ac1c0002row6_col15,#T_eb3b24ba_f175_11eb_9f18_0242ac1c0002row6_col16,#T_eb3b24ba_f175_11eb_9f18_0242ac1c0002row7_col0,#T_eb3b24ba_f175_11eb_9f18_0242ac1c0002row7_col1,#T_eb3b24ba_f175_11eb_9f18_0242ac1c0002row7_col2,#T_eb3b24ba_f175_11eb_9f18_0242ac1c0002row7_col3,#T_eb3b24ba_f175_11eb_9f18_0242ac1c0002row7_col4,#T_eb3b24ba_f175_11eb_9f18_0242ac1c0002row7_col5,#T_eb3b24ba_f175_11eb_9f18_0242ac1c0002row7_col6,#T_eb3b24ba_f175_11eb_9f18_0242ac1c0002row7_col7,#T_eb3b24ba_f175_11eb_9f18_0242ac1c0002row7_col8,#T_eb3b24ba_f175_11eb_9f18_0242ac1c0002row7_col9,#T_eb3b24ba_f175_11eb_9f18_0242ac1c0002row7_col14,#T_eb3b24ba_f175_11eb_9f18_0242ac1c0002row7_col15,#T_eb3b24ba_f175_11eb_9f18_0242ac1c0002row7_col16,#T_eb3b24ba_f175_11eb_9f18_0242ac1c0002row8_col0,#T_eb3b24ba_f175_11eb_9f18_0242ac1c0002row8_col1,#T_eb3b24ba_f175_11eb_9f18_0242ac1c0002row8_col2,#T_eb3b24ba_f175_11eb_9f18_0242ac1c0002row8_col3,#T_eb3b24ba_f175_11eb_9f18_0242ac1c0002row8_col4,#T_eb3b24ba_f175_11eb_9f18_0242ac1c0002row8_col5,#T_eb3b24ba_f175_11eb_9f18_0242ac1c0002row8_col6,#T_eb3b24ba_f175_11eb_9f18_0242ac1c0002row8_col13,#T_eb3b24ba_f175_11eb_9f18_0242ac1c0002row8_col14,#T_eb3b24ba_f175_11eb_9f18_0242ac1c0002row8_col15,#T_eb3b24ba_f175_11eb_9f18_0242ac1c0002row8_col16,#T_eb3b24ba_f175_11eb_9f18_0242ac1c0002row9_col0,#T_eb3b24ba_f175_11eb_9f18_0242ac1c0002row9_col1,#T_eb3b24ba_f175_11eb_9f18_0242ac1c0002row9_col2,#T_eb3b24ba_f175_11eb_9f18_0242ac1c0002row9_col3,#T_eb3b24ba_f175_11eb_9f18_0242ac1c0002row9_col4,#T_eb3b24ba_f175_11eb_9f18_0242ac1c0002row9_col13,#T_eb3b24ba_f175_11eb_9f18_0242ac1c0002row9_col14,#T_eb3b24ba_f175_11eb_9f18_0242ac1c0002row9_col15,#T_eb3b24ba_f175_11eb_9f18_0242ac1c0002row9_col16,#T_eb3b24ba_f175_11eb_9f18_0242ac1c0002row10_col0,#T_eb3b24ba_f175_11eb_9f18_0242ac1c0002row10_col1,#T_eb3b24ba_f175_11eb_9f18_0242ac1c0002row10_col2,#T_eb3b24ba_f175_11eb_9f18_0242ac1c0002row10_col3,#T_eb3b24ba_f175_11eb_9f18_0242ac1c0002row10_col4,#T_eb3b24ba_f175_11eb_9f18_0242ac1c0002row10_col16,#T_eb3b24ba_f175_11eb_9f18_0242ac1c0002row11_col0,#T_eb3b24ba_f175_11eb_9f18_0242ac1c0002row11_col1,#T_eb3b24ba_f175_11eb_9f18_0242ac1c0002row11_col2,#T_eb3b24ba_f175_11eb_9f18_0242ac1c0002row11_col3,#T_eb3b24ba_f175_11eb_9f18_0242ac1c0002row11_col4,#T_eb3b24ba_f175_11eb_9f18_0242ac1c0002row11_col5,#T_eb3b24ba_f175_11eb_9f18_0242ac1c0002row11_col6,#T_eb3b24ba_f175_11eb_9f18_0242ac1c0002row12_col0,#T_eb3b24ba_f175_11eb_9f18_0242ac1c0002row12_col1,#T_eb3b24ba_f175_11eb_9f18_0242ac1c0002row12_col2,#T_eb3b24ba_f175_11eb_9f18_0242ac1c0002row12_col3,#T_eb3b24ba_f175_11eb_9f18_0242ac1c0002row12_col4,#T_eb3b24ba_f175_11eb_9f18_0242ac1c0002row12_col5,#T_eb3b24ba_f175_11eb_9f18_0242ac1c0002row12_col6,#T_eb3b24ba_f175_11eb_9f18_0242ac1c0002row12_col7,#T_eb3b24ba_f175_11eb_9f18_0242ac1c0002row12_col8,#T_eb3b24ba_f175_11eb_9f18_0242ac1c0002row12_col9,#T_eb3b24ba_f175_11eb_9f18_0242ac1c0002row13_col0,#T_eb3b24ba_f175_11eb_9f18_0242ac1c0002row13_col1,#T_eb3b24ba_f175_11eb_9f18_0242ac1c0002row13_col2,#T_eb3b24ba_f175_11eb_9f18_0242ac1c0002row13_col3,#T_eb3b24ba_f175_11eb_9f18_0242ac1c0002row13_col4,#T_eb3b24ba_f175_11eb_9f18_0242ac1c0002row13_col5,#T_eb3b24ba_f175_11eb_9f18_0242ac1c0002row13_col6,#T_eb3b24ba_f175_11eb_9f18_0242ac1c0002row13_col7,#T_eb3b24ba_f175_11eb_9f18_0242ac1c0002row13_col8,#T_eb3b24ba_f175_11eb_9f18_0242ac1c0002row13_col9,#T_eb3b24ba_f175_11eb_9f18_0242ac1c0002row13_col10,#T_eb3b24ba_f175_11eb_9f18_0242ac1c0002row13_col11,#T_eb3b24ba_f175_11eb_9f18_0242ac1c0002row13_col12,#T_eb3b24ba_f175_11eb_9f18_0242ac1c0002row14_col0,#T_eb3b24ba_f175_11eb_9f18_0242ac1c0002row14_col1,#T_eb3b24ba_f175_11eb_9f18_0242ac1c0002row14_col2,#T_eb3b24ba_f175_11eb_9f18_0242ac1c0002row14_col3,#T_eb3b24ba_f175_11eb_9f18_0242ac1c0002row14_col4,#T_eb3b24ba_f175_11eb_9f18_0242ac1c0002row14_col5,#T_eb3b24ba_f175_11eb_9f18_0242ac1c0002row14_col6,#T_eb3b24ba_f175_11eb_9f18_0242ac1c0002row14_col7,#T_eb3b24ba_f175_11eb_9f18_0242ac1c0002row14_col8,#T_eb3b24ba_f175_11eb_9f18_0242ac1c0002row14_col9,#T_eb3b24ba_f175_11eb_9f18_0242ac1c0002row14_col10,#T_eb3b24ba_f175_11eb_9f18_0242ac1c0002row14_col11,#T_eb3b24ba_f175_11eb_9f18_0242ac1c0002row14_col12,#T_eb3b24ba_f175_11eb_9f18_0242ac1c0002row15_col0,#T_eb3b24ba_f175_11eb_9f18_0242ac1c0002row15_col1,#T_eb3b24ba_f175_11eb_9f18_0242ac1c0002row15_col2,#T_eb3b24ba_f175_11eb_9f18_0242ac1c0002row15_col3,#T_eb3b24ba_f175_11eb_9f18_0242ac1c0002row15_col4,#T_eb3b24ba_f175_11eb_9f18_0242ac1c0002row15_col5,#T_eb3b24ba_f175_11eb_9f18_0242ac1c0002row15_col6,#T_eb3b24ba_f175_11eb_9f18_0242ac1c0002row15_col7,#T_eb3b24ba_f175_11eb_9f18_0242ac1c0002row15_col8,#T_eb3b24ba_f175_11eb_9f18_0242ac1c0002row15_col9,#T_eb3b24ba_f175_11eb_9f18_0242ac1c0002row15_col10,#T_eb3b24ba_f175_11eb_9f18_0242ac1c0002row15_col11,#T_eb3b24ba_f175_11eb_9f18_0242ac1c0002row16_col0,#T_eb3b24ba_f175_11eb_9f18_0242ac1c0002row16_col1,#T_eb3b24ba_f175_11eb_9f18_0242ac1c0002row16_col2,#T_eb3b24ba_f175_11eb_9f18_0242ac1c0002row16_col3,#T_eb3b24ba_f175_11eb_9f18_0242ac1c0002row16_col4,#T_eb3b24ba_f175_11eb_9f18_0242ac1c0002row16_col5,#T_eb3b24ba_f175_11eb_9f18_0242ac1c0002row16_col6,#T_eb3b24ba_f175_11eb_9f18_0242ac1c0002row16_col7,#T_eb3b24ba_f175_11eb_9f18_0242ac1c0002row16_col8,#T_eb3b24ba_f175_11eb_9f18_0242ac1c0002row16_col9,#T_eb3b24ba_f175_11eb_9f18_0242ac1c0002row16_col10,#T_eb3b24ba_f175_11eb_9f18_0242ac1c0002row17_col0,#T_eb3b24ba_f175_11eb_9f18_0242ac1c0002row17_col1,#T_eb3b24ba_f175_11eb_9f18_0242ac1c0002row17_col2,#T_eb3b24ba_f175_11eb_9f18_0242ac1c0002row17_col3,#T_eb3b24ba_f175_11eb_9f18_0242ac1c0002row17_col4,#T_eb3b24ba_f175_11eb_9f18_0242ac1c0002row17_col5,#T_eb3b24ba_f175_11eb_9f18_0242ac1c0002row17_col6,#T_eb3b24ba_f175_11eb_9f18_0242ac1c0002row17_col7,#T_eb3b24ba_f175_11eb_9f18_0242ac1c0002row17_col8,#T_eb3b24ba_f175_11eb_9f18_0242ac1c0002row17_col9,#T_eb3b24ba_f175_11eb_9f18_0242ac1c0002row17_col16,#T_eb3b24ba_f175_11eb_9f18_0242ac1c0002row18_col0,#T_eb3b24ba_f175_11eb_9f18_0242ac1c0002row18_col1,#T_eb3b24ba_f175_11eb_9f18_0242ac1c0002row18_col2,#T_eb3b24ba_f175_11eb_9f18_0242ac1c0002row18_col3,#T_eb3b24ba_f175_11eb_9f18_0242ac1c0002row18_col4,#T_eb3b24ba_f175_11eb_9f18_0242ac1c0002row18_col5,#T_eb3b24ba_f175_11eb_9f18_0242ac1c0002row18_col6,#T_eb3b24ba_f175_11eb_9f18_0242ac1c0002row18_col7,#T_eb3b24ba_f175_11eb_9f18_0242ac1c0002row18_col15,#T_eb3b24ba_f175_11eb_9f18_0242ac1c0002row18_col16,#T_eb3b24ba_f175_11eb_9f18_0242ac1c0002row19_col0,#T_eb3b24ba_f175_11eb_9f18_0242ac1c0002row19_col1,#T_eb3b24ba_f175_11eb_9f18_0242ac1c0002row19_col14,#T_eb3b24ba_f175_11eb_9f18_0242ac1c0002row19_col15,#T_eb3b24ba_f175_11eb_9f18_0242ac1c0002row19_col16,#T_eb3b24ba_f175_11eb_9f18_0242ac1c0002row20_col0,#T_eb3b24ba_f175_11eb_9f18_0242ac1c0002row20_col1,#T_eb3b24ba_f175_11eb_9f18_0242ac1c0002row20_col12,#T_eb3b24ba_f175_11eb_9f18_0242ac1c0002row20_col13,#T_eb3b24ba_f175_11eb_9f18_0242ac1c0002row20_col14,#T_eb3b24ba_f175_11eb_9f18_0242ac1c0002row20_col15,#T_eb3b24ba_f175_11eb_9f18_0242ac1c0002row20_col16,#T_eb3b24ba_f175_11eb_9f18_0242ac1c0002row21_col0,#T_eb3b24ba_f175_11eb_9f18_0242ac1c0002row21_col1,#T_eb3b24ba_f175_11eb_9f18_0242ac1c0002row21_col10,#T_eb3b24ba_f175_11eb_9f18_0242ac1c0002row21_col11,#T_eb3b24ba_f175_11eb_9f18_0242ac1c0002row21_col12,#T_eb3b24ba_f175_11eb_9f18_0242ac1c0002row21_col13,#T_eb3b24ba_f175_11eb_9f18_0242ac1c0002row21_col14,#T_eb3b24ba_f175_11eb_9f18_0242ac1c0002row21_col15,#T_eb3b24ba_f175_11eb_9f18_0242ac1c0002row21_col16{\n",
              "            font-size:  6pt;\n",
              "            background-color:  #ffffff;\n",
              "            color:  #000000;\n",
              "        }#T_eb3b24ba_f175_11eb_9f18_0242ac1c0002row2_col5,#T_eb3b24ba_f175_11eb_9f18_0242ac1c0002row9_col12{\n",
              "            font-size:  6pt;\n",
              "            background-color:  #f1f1f1;\n",
              "            color:  #000000;\n",
              "        }#T_eb3b24ba_f175_11eb_9f18_0242ac1c0002row2_col6,#T_eb3b24ba_f175_11eb_9f18_0242ac1c0002row2_col13{\n",
              "            font-size:  6pt;\n",
              "            background-color:  #7c7c7c;\n",
              "            color:  #000000;\n",
              "        }#T_eb3b24ba_f175_11eb_9f18_0242ac1c0002row2_col7{\n",
              "            font-size:  6pt;\n",
              "            background-color:  #4a4a4a;\n",
              "            color:  #f1f1f1;\n",
              "        }#T_eb3b24ba_f175_11eb_9f18_0242ac1c0002row2_col8,#T_eb3b24ba_f175_11eb_9f18_0242ac1c0002row2_col9,#T_eb3b24ba_f175_11eb_9f18_0242ac1c0002row2_col10,#T_eb3b24ba_f175_11eb_9f18_0242ac1c0002row3_col6,#T_eb3b24ba_f175_11eb_9f18_0242ac1c0002row3_col7,#T_eb3b24ba_f175_11eb_9f18_0242ac1c0002row3_col11,#T_eb3b24ba_f175_11eb_9f18_0242ac1c0002row3_col12,#T_eb3b24ba_f175_11eb_9f18_0242ac1c0002row3_col13,#T_eb3b24ba_f175_11eb_9f18_0242ac1c0002row4_col4,#T_eb3b24ba_f175_11eb_9f18_0242ac1c0002row4_col12,#T_eb3b24ba_f175_11eb_9f18_0242ac1c0002row4_col13,#T_eb3b24ba_f175_11eb_9f18_0242ac1c0002row5_col1,#T_eb3b24ba_f175_11eb_9f18_0242ac1c0002row5_col2,#T_eb3b24ba_f175_11eb_9f18_0242ac1c0002row5_col3,#T_eb3b24ba_f175_11eb_9f18_0242ac1c0002row5_col12,#T_eb3b24ba_f175_11eb_9f18_0242ac1c0002row5_col13,#T_eb3b24ba_f175_11eb_9f18_0242ac1c0002row6_col12,#T_eb3b24ba_f175_11eb_9f18_0242ac1c0002row7_col11,#T_eb3b24ba_f175_11eb_9f18_0242ac1c0002row10_col11,#T_eb3b24ba_f175_11eb_9f18_0242ac1c0002row11_col11,#T_eb3b24ba_f175_11eb_9f18_0242ac1c0002row11_col12,#T_eb3b24ba_f175_11eb_9f18_0242ac1c0002row11_col13,#T_eb3b24ba_f175_11eb_9f18_0242ac1c0002row11_col14,#T_eb3b24ba_f175_11eb_9f18_0242ac1c0002row12_col13,#T_eb3b24ba_f175_11eb_9f18_0242ac1c0002row12_col14,#T_eb3b24ba_f175_11eb_9f18_0242ac1c0002row12_col15,#T_eb3b24ba_f175_11eb_9f18_0242ac1c0002row13_col14,#T_eb3b24ba_f175_11eb_9f18_0242ac1c0002row13_col15,#T_eb3b24ba_f175_11eb_9f18_0242ac1c0002row13_col16,#T_eb3b24ba_f175_11eb_9f18_0242ac1c0002row14_col14,#T_eb3b24ba_f175_11eb_9f18_0242ac1c0002row14_col15,#T_eb3b24ba_f175_11eb_9f18_0242ac1c0002row15_col14,#T_eb3b24ba_f175_11eb_9f18_0242ac1c0002row15_col15,#T_eb3b24ba_f175_11eb_9f18_0242ac1c0002row16_col13,#T_eb3b24ba_f175_11eb_9f18_0242ac1c0002row16_col14,#T_eb3b24ba_f175_11eb_9f18_0242ac1c0002row17_col12,#T_eb3b24ba_f175_11eb_9f18_0242ac1c0002row17_col13,#T_eb3b24ba_f175_11eb_9f18_0242ac1c0002row18_col11,#T_eb3b24ba_f175_11eb_9f18_0242ac1c0002row18_col12,#T_eb3b24ba_f175_11eb_9f18_0242ac1c0002row20_col3,#T_eb3b24ba_f175_11eb_9f18_0242ac1c0002row20_col4,#T_eb3b24ba_f175_11eb_9f18_0242ac1c0002row20_col5,#T_eb3b24ba_f175_11eb_9f18_0242ac1c0002row20_col6,#T_eb3b24ba_f175_11eb_9f18_0242ac1c0002row20_col7,#T_eb3b24ba_f175_11eb_9f18_0242ac1c0002row21_col3,#T_eb3b24ba_f175_11eb_9f18_0242ac1c0002row21_col4,#T_eb3b24ba_f175_11eb_9f18_0242ac1c0002row21_col5,#T_eb3b24ba_f175_11eb_9f18_0242ac1c0002row21_col6,#T_eb3b24ba_f175_11eb_9f18_0242ac1c0002row21_col7{\n",
              "            font-size:  6pt;\n",
              "            background-color:  #000000;\n",
              "            color:  #f1f1f1;\n",
              "        }#T_eb3b24ba_f175_11eb_9f18_0242ac1c0002row2_col11{\n",
              "            font-size:  6pt;\n",
              "            background-color:  #606060;\n",
              "            color:  #f1f1f1;\n",
              "        }#T_eb3b24ba_f175_11eb_9f18_0242ac1c0002row2_col12{\n",
              "            font-size:  6pt;\n",
              "            background-color:  #4d4d4d;\n",
              "            color:  #f1f1f1;\n",
              "        }#T_eb3b24ba_f175_11eb_9f18_0242ac1c0002row2_col14{\n",
              "            font-size:  6pt;\n",
              "            background-color:  #bbbbbb;\n",
              "            color:  #000000;\n",
              "        }#T_eb3b24ba_f175_11eb_9f18_0242ac1c0002row3_col3,#T_eb3b24ba_f175_11eb_9f18_0242ac1c0002row5_col5{\n",
              "            font-size:  6pt;\n",
              "            background-color:  #e4e4e4;\n",
              "            color:  #000000;\n",
              "        }#T_eb3b24ba_f175_11eb_9f18_0242ac1c0002row3_col4,#T_eb3b24ba_f175_11eb_9f18_0242ac1c0002row9_col6{\n",
              "            font-size:  6pt;\n",
              "            background-color:  #6b6b6b;\n",
              "            color:  #000000;\n",
              "        }#T_eb3b24ba_f175_11eb_9f18_0242ac1c0002row3_col5,#T_eb3b24ba_f175_11eb_9f18_0242ac1c0002row6_col11{\n",
              "            font-size:  6pt;\n",
              "            background-color:  #222222;\n",
              "            color:  #f1f1f1;\n",
              "        }#T_eb3b24ba_f175_11eb_9f18_0242ac1c0002row3_col8,#T_eb3b24ba_f175_11eb_9f18_0242ac1c0002row3_col14,#T_eb3b24ba_f175_11eb_9f18_0242ac1c0002row4_col14,#T_eb3b24ba_f175_11eb_9f18_0242ac1c0002row18_col13{\n",
              "            font-size:  6pt;\n",
              "            background-color:  #171717;\n",
              "            color:  #f1f1f1;\n",
              "        }#T_eb3b24ba_f175_11eb_9f18_0242ac1c0002row3_col9,#T_eb3b24ba_f175_11eb_9f18_0242ac1c0002row4_col11{\n",
              "            font-size:  6pt;\n",
              "            background-color:  #4b4b4b;\n",
              "            color:  #f1f1f1;\n",
              "        }#T_eb3b24ba_f175_11eb_9f18_0242ac1c0002row3_col10,#T_eb3b24ba_f175_11eb_9f18_0242ac1c0002row8_col10,#T_eb3b24ba_f175_11eb_9f18_0242ac1c0002row9_col8,#T_eb3b24ba_f175_11eb_9f18_0242ac1c0002row9_col10,#T_eb3b24ba_f175_11eb_9f18_0242ac1c0002row10_col8,#T_eb3b24ba_f175_11eb_9f18_0242ac1c0002row10_col10,#T_eb3b24ba_f175_11eb_9f18_0242ac1c0002row19_col10,#T_eb3b24ba_f175_11eb_9f18_0242ac1c0002row20_col8{\n",
              "            font-size:  6pt;\n",
              "            background-color:  #010101;\n",
              "            color:  #f1f1f1;\n",
              "        }#T_eb3b24ba_f175_11eb_9f18_0242ac1c0002row4_col1{\n",
              "            font-size:  6pt;\n",
              "            background-color:  #272727;\n",
              "            color:  #f1f1f1;\n",
              "        }#T_eb3b24ba_f175_11eb_9f18_0242ac1c0002row4_col2{\n",
              "            font-size:  6pt;\n",
              "            background-color:  #0a0a0a;\n",
              "            color:  #f1f1f1;\n",
              "        }#T_eb3b24ba_f175_11eb_9f18_0242ac1c0002row4_col3,#T_eb3b24ba_f175_11eb_9f18_0242ac1c0002row15_col13{\n",
              "            font-size:  6pt;\n",
              "            background-color:  #050505;\n",
              "            color:  #f1f1f1;\n",
              "        }#T_eb3b24ba_f175_11eb_9f18_0242ac1c0002row4_col5,#T_eb3b24ba_f175_11eb_9f18_0242ac1c0002row9_col11,#T_eb3b24ba_f175_11eb_9f18_0242ac1c0002row11_col15,#T_eb3b24ba_f175_11eb_9f18_0242ac1c0002row20_col2{\n",
              "            font-size:  6pt;\n",
              "            background-color:  #545454;\n",
              "            color:  #f1f1f1;\n",
              "        }#T_eb3b24ba_f175_11eb_9f18_0242ac1c0002row4_col6{\n",
              "            font-size:  6pt;\n",
              "            background-color:  #e6e6e6;\n",
              "            color:  #000000;\n",
              "        }#T_eb3b24ba_f175_11eb_9f18_0242ac1c0002row4_col7,#T_eb3b24ba_f175_11eb_9f18_0242ac1c0002row4_col10,#T_eb3b24ba_f175_11eb_9f18_0242ac1c0002row9_col5{\n",
              "            font-size:  6pt;\n",
              "            background-color:  #fafafa;\n",
              "            color:  #000000;\n",
              "        }#T_eb3b24ba_f175_11eb_9f18_0242ac1c0002row4_col8,#T_eb3b24ba_f175_11eb_9f18_0242ac1c0002row12_col10,#T_eb3b24ba_f175_11eb_9f18_0242ac1c0002row17_col15{\n",
              "            font-size:  6pt;\n",
              "            background-color:  #fbfbfb;\n",
              "            color:  #000000;\n",
              "        }#T_eb3b24ba_f175_11eb_9f18_0242ac1c0002row4_col9{\n",
              "            font-size:  6pt;\n",
              "            background-color:  #fdfdfd;\n",
              "            color:  #000000;\n",
              "        }#T_eb3b24ba_f175_11eb_9f18_0242ac1c0002row5_col4{\n",
              "            font-size:  6pt;\n",
              "            background-color:  #1b1b1b;\n",
              "            color:  #f1f1f1;\n",
              "        }#T_eb3b24ba_f175_11eb_9f18_0242ac1c0002row5_col11{\n",
              "            font-size:  6pt;\n",
              "            background-color:  #4e4e4e;\n",
              "            color:  #f1f1f1;\n",
              "        }#T_eb3b24ba_f175_11eb_9f18_0242ac1c0002row5_col14{\n",
              "            font-size:  6pt;\n",
              "            background-color:  #767676;\n",
              "            color:  #000000;\n",
              "        }#T_eb3b24ba_f175_11eb_9f18_0242ac1c0002row6_col1{\n",
              "            font-size:  6pt;\n",
              "            background-color:  #fcfcfc;\n",
              "            color:  #000000;\n",
              "        }#T_eb3b24ba_f175_11eb_9f18_0242ac1c0002row6_col2,#T_eb3b24ba_f175_11eb_9f18_0242ac1c0002row6_col3,#T_eb3b24ba_f175_11eb_9f18_0242ac1c0002row16_col16{\n",
              "            font-size:  6pt;\n",
              "            background-color:  #f6f6f6;\n",
              "            color:  #000000;\n",
              "        }#T_eb3b24ba_f175_11eb_9f18_0242ac1c0002row6_col4,#T_eb3b24ba_f175_11eb_9f18_0242ac1c0002row8_col7{\n",
              "            font-size:  6pt;\n",
              "            background-color:  #f8f8f8;\n",
              "            color:  #000000;\n",
              "        }#T_eb3b24ba_f175_11eb_9f18_0242ac1c0002row6_col10,#T_eb3b24ba_f175_11eb_9f18_0242ac1c0002row11_col7{\n",
              "            font-size:  6pt;\n",
              "            background-color:  #e8e8e8;\n",
              "            color:  #000000;\n",
              "        }#T_eb3b24ba_f175_11eb_9f18_0242ac1c0002row6_col13,#T_eb3b24ba_f175_11eb_9f18_0242ac1c0002row7_col12{\n",
              "            font-size:  6pt;\n",
              "            background-color:  #090909;\n",
              "            color:  #f1f1f1;\n",
              "        }#T_eb3b24ba_f175_11eb_9f18_0242ac1c0002row6_col14{\n",
              "            font-size:  6pt;\n",
              "            background-color:  #d0d0d0;\n",
              "            color:  #000000;\n",
              "        }#T_eb3b24ba_f175_11eb_9f18_0242ac1c0002row7_col10,#T_eb3b24ba_f175_11eb_9f18_0242ac1c0002row8_col11,#T_eb3b24ba_f175_11eb_9f18_0242ac1c0002row10_col6{\n",
              "            font-size:  6pt;\n",
              "            background-color:  #060606;\n",
              "            color:  #f1f1f1;\n",
              "        }#T_eb3b24ba_f175_11eb_9f18_0242ac1c0002row7_col13{\n",
              "            font-size:  6pt;\n",
              "            background-color:  #979797;\n",
              "            color:  #000000;\n",
              "        }#T_eb3b24ba_f175_11eb_9f18_0242ac1c0002row8_col8{\n",
              "            font-size:  6pt;\n",
              "            background-color:  #b6b6b6;\n",
              "            color:  #000000;\n",
              "        }#T_eb3b24ba_f175_11eb_9f18_0242ac1c0002row8_col9{\n",
              "            font-size:  6pt;\n",
              "            background-color:  #252525;\n",
              "            color:  #f1f1f1;\n",
              "        }#T_eb3b24ba_f175_11eb_9f18_0242ac1c0002row8_col12{\n",
              "            font-size:  6pt;\n",
              "            background-color:  #999999;\n",
              "            color:  #000000;\n",
              "        }#T_eb3b24ba_f175_11eb_9f18_0242ac1c0002row9_col7,#T_eb3b24ba_f175_11eb_9f18_0242ac1c0002row19_col8{\n",
              "            font-size:  6pt;\n",
              "            background-color:  #101010;\n",
              "            color:  #f1f1f1;\n",
              "        }#T_eb3b24ba_f175_11eb_9f18_0242ac1c0002row9_col9,#T_eb3b24ba_f175_11eb_9f18_0242ac1c0002row10_col9,#T_eb3b24ba_f175_11eb_9f18_0242ac1c0002row18_col10,#T_eb3b24ba_f175_11eb_9f18_0242ac1c0002row19_col9,#T_eb3b24ba_f175_11eb_9f18_0242ac1c0002row20_col9{\n",
              "            font-size:  6pt;\n",
              "            background-color:  #020202;\n",
              "            color:  #f1f1f1;\n",
              "        }#T_eb3b24ba_f175_11eb_9f18_0242ac1c0002row10_col5{\n",
              "            font-size:  6pt;\n",
              "            background-color:  #f7f7f7;\n",
              "            color:  #000000;\n",
              "        }#T_eb3b24ba_f175_11eb_9f18_0242ac1c0002row10_col7,#T_eb3b24ba_f175_11eb_9f18_0242ac1c0002row19_col11{\n",
              "            font-size:  6pt;\n",
              "            background-color:  #030303;\n",
              "            color:  #f1f1f1;\n",
              "        }#T_eb3b24ba_f175_11eb_9f18_0242ac1c0002row10_col12{\n",
              "            font-size:  6pt;\n",
              "            background-color:  #181818;\n",
              "            color:  #f1f1f1;\n",
              "        }#T_eb3b24ba_f175_11eb_9f18_0242ac1c0002row10_col13{\n",
              "            font-size:  6pt;\n",
              "            background-color:  #303030;\n",
              "            color:  #f1f1f1;\n",
              "        }#T_eb3b24ba_f175_11eb_9f18_0242ac1c0002row10_col14{\n",
              "            font-size:  6pt;\n",
              "            background-color:  #a9a9a9;\n",
              "            color:  #000000;\n",
              "        }#T_eb3b24ba_f175_11eb_9f18_0242ac1c0002row10_col15{\n",
              "            font-size:  6pt;\n",
              "            background-color:  #fefefe;\n",
              "            color:  #000000;\n",
              "        }#T_eb3b24ba_f175_11eb_9f18_0242ac1c0002row11_col8,#T_eb3b24ba_f175_11eb_9f18_0242ac1c0002row11_col9,#T_eb3b24ba_f175_11eb_9f18_0242ac1c0002row17_col10{\n",
              "            font-size:  6pt;\n",
              "            background-color:  #bababa;\n",
              "            color:  #000000;\n",
              "        }#T_eb3b24ba_f175_11eb_9f18_0242ac1c0002row11_col10{\n",
              "            font-size:  6pt;\n",
              "            background-color:  #393939;\n",
              "            color:  #f1f1f1;\n",
              "        }#T_eb3b24ba_f175_11eb_9f18_0242ac1c0002row11_col16{\n",
              "            font-size:  6pt;\n",
              "            background-color:  #eaeaea;\n",
              "            color:  #000000;\n",
              "        }#T_eb3b24ba_f175_11eb_9f18_0242ac1c0002row12_col11{\n",
              "            font-size:  6pt;\n",
              "            background-color:  #e2e2e2;\n",
              "            color:  #000000;\n",
              "        }#T_eb3b24ba_f175_11eb_9f18_0242ac1c0002row12_col12{\n",
              "            font-size:  6pt;\n",
              "            background-color:  #9f9f9f;\n",
              "            color:  #000000;\n",
              "        }#T_eb3b24ba_f175_11eb_9f18_0242ac1c0002row12_col16{\n",
              "            font-size:  6pt;\n",
              "            background-color:  #898989;\n",
              "            color:  #000000;\n",
              "        }#T_eb3b24ba_f175_11eb_9f18_0242ac1c0002row13_col13{\n",
              "            font-size:  6pt;\n",
              "            background-color:  #585858;\n",
              "            color:  #f1f1f1;\n",
              "        }#T_eb3b24ba_f175_11eb_9f18_0242ac1c0002row14_col13{\n",
              "            font-size:  6pt;\n",
              "            background-color:  #5a5a5a;\n",
              "            color:  #f1f1f1;\n",
              "        }#T_eb3b24ba_f175_11eb_9f18_0242ac1c0002row14_col16{\n",
              "            font-size:  6pt;\n",
              "            background-color:  #525252;\n",
              "            color:  #f1f1f1;\n",
              "        }#T_eb3b24ba_f175_11eb_9f18_0242ac1c0002row15_col12,#T_eb3b24ba_f175_11eb_9f18_0242ac1c0002row20_col11{\n",
              "            font-size:  6pt;\n",
              "            background-color:  #c5c5c5;\n",
              "            color:  #000000;\n",
              "        }#T_eb3b24ba_f175_11eb_9f18_0242ac1c0002row15_col16{\n",
              "            font-size:  6pt;\n",
              "            background-color:  #d7d7d7;\n",
              "            color:  #000000;\n",
              "        }#T_eb3b24ba_f175_11eb_9f18_0242ac1c0002row16_col11,#T_eb3b24ba_f175_11eb_9f18_0242ac1c0002row19_col5{\n",
              "            font-size:  6pt;\n",
              "            background-color:  #dcdcdc;\n",
              "            color:  #000000;\n",
              "        }#T_eb3b24ba_f175_11eb_9f18_0242ac1c0002row16_col12{\n",
              "            font-size:  6pt;\n",
              "            background-color:  #2f2f2f;\n",
              "            color:  #f1f1f1;\n",
              "        }#T_eb3b24ba_f175_11eb_9f18_0242ac1c0002row16_col15{\n",
              "            font-size:  6pt;\n",
              "            background-color:  #636363;\n",
              "            color:  #f1f1f1;\n",
              "        }#T_eb3b24ba_f175_11eb_9f18_0242ac1c0002row17_col11{\n",
              "            font-size:  6pt;\n",
              "            background-color:  #070707;\n",
              "            color:  #f1f1f1;\n",
              "        }#T_eb3b24ba_f175_11eb_9f18_0242ac1c0002row17_col14{\n",
              "            font-size:  6pt;\n",
              "            background-color:  #1f1f1f;\n",
              "            color:  #f1f1f1;\n",
              "        }#T_eb3b24ba_f175_11eb_9f18_0242ac1c0002row18_col8,#T_eb3b24ba_f175_11eb_9f18_0242ac1c0002row19_col2,#T_eb3b24ba_f175_11eb_9f18_0242ac1c0002row19_col4{\n",
              "            font-size:  6pt;\n",
              "            background-color:  #e9e9e9;\n",
              "            color:  #000000;\n",
              "        }#T_eb3b24ba_f175_11eb_9f18_0242ac1c0002row18_col9{\n",
              "            font-size:  6pt;\n",
              "            background-color:  #7d7d7d;\n",
              "            color:  #000000;\n",
              "        }#T_eb3b24ba_f175_11eb_9f18_0242ac1c0002row18_col14{\n",
              "            font-size:  6pt;\n",
              "            background-color:  #e1e1e1;\n",
              "            color:  #000000;\n",
              "        }#T_eb3b24ba_f175_11eb_9f18_0242ac1c0002row19_col3,#T_eb3b24ba_f175_11eb_9f18_0242ac1c0002row19_col6{\n",
              "            font-size:  6pt;\n",
              "            background-color:  #a4a4a4;\n",
              "            color:  #000000;\n",
              "        }#T_eb3b24ba_f175_11eb_9f18_0242ac1c0002row19_col7{\n",
              "            font-size:  6pt;\n",
              "            background-color:  #727272;\n",
              "            color:  #000000;\n",
              "        }#T_eb3b24ba_f175_11eb_9f18_0242ac1c0002row19_col12{\n",
              "            font-size:  6pt;\n",
              "            background-color:  #616161;\n",
              "            color:  #f1f1f1;\n",
              "        }#T_eb3b24ba_f175_11eb_9f18_0242ac1c0002row19_col13{\n",
              "            font-size:  6pt;\n",
              "            background-color:  #f3f3f3;\n",
              "            color:  #000000;\n",
              "        }#T_eb3b24ba_f175_11eb_9f18_0242ac1c0002row20_col10{\n",
              "            font-size:  6pt;\n",
              "            background-color:  #484848;\n",
              "            color:  #f1f1f1;\n",
              "        }#T_eb3b24ba_f175_11eb_9f18_0242ac1c0002row21_col2{\n",
              "            font-size:  6pt;\n",
              "            background-color:  #b3b3b3;\n",
              "            color:  #000000;\n",
              "        }#T_eb3b24ba_f175_11eb_9f18_0242ac1c0002row21_col8{\n",
              "            font-size:  6pt;\n",
              "            background-color:  #1a1a1a;\n",
              "            color:  #f1f1f1;\n",
              "        }#T_eb3b24ba_f175_11eb_9f18_0242ac1c0002row21_col9{\n",
              "            font-size:  6pt;\n",
              "            background-color:  #d6d6d6;\n",
              "            color:  #000000;\n",
              "        }</style><table id=\"T_eb3b24ba_f175_11eb_9f18_0242ac1c0002\" ><thead>    <tr>        <th class=\"blank level0\" ></th>        <th class=\"col_heading level0 col0\" >0</th>        <th class=\"col_heading level0 col1\" >1</th>        <th class=\"col_heading level0 col2\" >2</th>        <th class=\"col_heading level0 col3\" >3</th>        <th class=\"col_heading level0 col4\" >4</th>        <th class=\"col_heading level0 col5\" >5</th>        <th class=\"col_heading level0 col6\" >6</th>        <th class=\"col_heading level0 col7\" >7</th>        <th class=\"col_heading level0 col8\" >8</th>        <th class=\"col_heading level0 col9\" >9</th>        <th class=\"col_heading level0 col10\" >10</th>        <th class=\"col_heading level0 col11\" >11</th>        <th class=\"col_heading level0 col12\" >12</th>        <th class=\"col_heading level0 col13\" >13</th>        <th class=\"col_heading level0 col14\" >14</th>        <th class=\"col_heading level0 col15\" >15</th>        <th class=\"col_heading level0 col16\" >16</th>    </tr></thead><tbody>\n",
              "                <tr>\n",
              "                        <th id=\"T_eb3b24ba_f175_11eb_9f18_0242ac1c0002level0_row0\" class=\"row_heading level0 row0\" >0</th>\n",
              "                        <td id=\"T_eb3b24ba_f175_11eb_9f18_0242ac1c0002row0_col0\" class=\"data row0 col0\" >0</td>\n",
              "                        <td id=\"T_eb3b24ba_f175_11eb_9f18_0242ac1c0002row0_col1\" class=\"data row0 col1\" >0</td>\n",
              "                        <td id=\"T_eb3b24ba_f175_11eb_9f18_0242ac1c0002row0_col2\" class=\"data row0 col2\" >0</td>\n",
              "                        <td id=\"T_eb3b24ba_f175_11eb_9f18_0242ac1c0002row0_col3\" class=\"data row0 col3\" >0</td>\n",
              "                        <td id=\"T_eb3b24ba_f175_11eb_9f18_0242ac1c0002row0_col4\" class=\"data row0 col4\" >0</td>\n",
              "                        <td id=\"T_eb3b24ba_f175_11eb_9f18_0242ac1c0002row0_col5\" class=\"data row0 col5\" >0</td>\n",
              "                        <td id=\"T_eb3b24ba_f175_11eb_9f18_0242ac1c0002row0_col6\" class=\"data row0 col6\" >0</td>\n",
              "                        <td id=\"T_eb3b24ba_f175_11eb_9f18_0242ac1c0002row0_col7\" class=\"data row0 col7\" >0</td>\n",
              "                        <td id=\"T_eb3b24ba_f175_11eb_9f18_0242ac1c0002row0_col8\" class=\"data row0 col8\" >0</td>\n",
              "                        <td id=\"T_eb3b24ba_f175_11eb_9f18_0242ac1c0002row0_col9\" class=\"data row0 col9\" >0</td>\n",
              "                        <td id=\"T_eb3b24ba_f175_11eb_9f18_0242ac1c0002row0_col10\" class=\"data row0 col10\" >0</td>\n",
              "                        <td id=\"T_eb3b24ba_f175_11eb_9f18_0242ac1c0002row0_col11\" class=\"data row0 col11\" >0</td>\n",
              "                        <td id=\"T_eb3b24ba_f175_11eb_9f18_0242ac1c0002row0_col12\" class=\"data row0 col12\" >0</td>\n",
              "                        <td id=\"T_eb3b24ba_f175_11eb_9f18_0242ac1c0002row0_col13\" class=\"data row0 col13\" >0</td>\n",
              "                        <td id=\"T_eb3b24ba_f175_11eb_9f18_0242ac1c0002row0_col14\" class=\"data row0 col14\" >0</td>\n",
              "                        <td id=\"T_eb3b24ba_f175_11eb_9f18_0242ac1c0002row0_col15\" class=\"data row0 col15\" >0</td>\n",
              "                        <td id=\"T_eb3b24ba_f175_11eb_9f18_0242ac1c0002row0_col16\" class=\"data row0 col16\" >0</td>\n",
              "            </tr>\n",
              "            <tr>\n",
              "                        <th id=\"T_eb3b24ba_f175_11eb_9f18_0242ac1c0002level0_row1\" class=\"row_heading level0 row1\" >1</th>\n",
              "                        <td id=\"T_eb3b24ba_f175_11eb_9f18_0242ac1c0002row1_col0\" class=\"data row1 col0\" >0</td>\n",
              "                        <td id=\"T_eb3b24ba_f175_11eb_9f18_0242ac1c0002row1_col1\" class=\"data row1 col1\" >0</td>\n",
              "                        <td id=\"T_eb3b24ba_f175_11eb_9f18_0242ac1c0002row1_col2\" class=\"data row1 col2\" >0</td>\n",
              "                        <td id=\"T_eb3b24ba_f175_11eb_9f18_0242ac1c0002row1_col3\" class=\"data row1 col3\" >0</td>\n",
              "                        <td id=\"T_eb3b24ba_f175_11eb_9f18_0242ac1c0002row1_col4\" class=\"data row1 col4\" >0</td>\n",
              "                        <td id=\"T_eb3b24ba_f175_11eb_9f18_0242ac1c0002row1_col5\" class=\"data row1 col5\" >0</td>\n",
              "                        <td id=\"T_eb3b24ba_f175_11eb_9f18_0242ac1c0002row1_col6\" class=\"data row1 col6\" >0</td>\n",
              "                        <td id=\"T_eb3b24ba_f175_11eb_9f18_0242ac1c0002row1_col7\" class=\"data row1 col7\" >0</td>\n",
              "                        <td id=\"T_eb3b24ba_f175_11eb_9f18_0242ac1c0002row1_col8\" class=\"data row1 col8\" >0</td>\n",
              "                        <td id=\"T_eb3b24ba_f175_11eb_9f18_0242ac1c0002row1_col9\" class=\"data row1 col9\" >0</td>\n",
              "                        <td id=\"T_eb3b24ba_f175_11eb_9f18_0242ac1c0002row1_col10\" class=\"data row1 col10\" >0</td>\n",
              "                        <td id=\"T_eb3b24ba_f175_11eb_9f18_0242ac1c0002row1_col11\" class=\"data row1 col11\" >0</td>\n",
              "                        <td id=\"T_eb3b24ba_f175_11eb_9f18_0242ac1c0002row1_col12\" class=\"data row1 col12\" >0</td>\n",
              "                        <td id=\"T_eb3b24ba_f175_11eb_9f18_0242ac1c0002row1_col13\" class=\"data row1 col13\" >0</td>\n",
              "                        <td id=\"T_eb3b24ba_f175_11eb_9f18_0242ac1c0002row1_col14\" class=\"data row1 col14\" >0</td>\n",
              "                        <td id=\"T_eb3b24ba_f175_11eb_9f18_0242ac1c0002row1_col15\" class=\"data row1 col15\" >0</td>\n",
              "                        <td id=\"T_eb3b24ba_f175_11eb_9f18_0242ac1c0002row1_col16\" class=\"data row1 col16\" >0</td>\n",
              "            </tr>\n",
              "            <tr>\n",
              "                        <th id=\"T_eb3b24ba_f175_11eb_9f18_0242ac1c0002level0_row2\" class=\"row_heading level0 row2\" >2</th>\n",
              "                        <td id=\"T_eb3b24ba_f175_11eb_9f18_0242ac1c0002row2_col0\" class=\"data row2 col0\" >0</td>\n",
              "                        <td id=\"T_eb3b24ba_f175_11eb_9f18_0242ac1c0002row2_col1\" class=\"data row2 col1\" >0</td>\n",
              "                        <td id=\"T_eb3b24ba_f175_11eb_9f18_0242ac1c0002row2_col2\" class=\"data row2 col2\" >0</td>\n",
              "                        <td id=\"T_eb3b24ba_f175_11eb_9f18_0242ac1c0002row2_col3\" class=\"data row2 col3\" >0</td>\n",
              "                        <td id=\"T_eb3b24ba_f175_11eb_9f18_0242ac1c0002row2_col4\" class=\"data row2 col4\" >0</td>\n",
              "                        <td id=\"T_eb3b24ba_f175_11eb_9f18_0242ac1c0002row2_col5\" class=\"data row2 col5\" >29</td>\n",
              "                        <td id=\"T_eb3b24ba_f175_11eb_9f18_0242ac1c0002row2_col6\" class=\"data row2 col6\" >150</td>\n",
              "                        <td id=\"T_eb3b24ba_f175_11eb_9f18_0242ac1c0002row2_col7\" class=\"data row2 col7\" >195</td>\n",
              "                        <td id=\"T_eb3b24ba_f175_11eb_9f18_0242ac1c0002row2_col8\" class=\"data row2 col8\" >254</td>\n",
              "                        <td id=\"T_eb3b24ba_f175_11eb_9f18_0242ac1c0002row2_col9\" class=\"data row2 col9\" >255</td>\n",
              "                        <td id=\"T_eb3b24ba_f175_11eb_9f18_0242ac1c0002row2_col10\" class=\"data row2 col10\" >254</td>\n",
              "                        <td id=\"T_eb3b24ba_f175_11eb_9f18_0242ac1c0002row2_col11\" class=\"data row2 col11\" >176</td>\n",
              "                        <td id=\"T_eb3b24ba_f175_11eb_9f18_0242ac1c0002row2_col12\" class=\"data row2 col12\" >193</td>\n",
              "                        <td id=\"T_eb3b24ba_f175_11eb_9f18_0242ac1c0002row2_col13\" class=\"data row2 col13\" >150</td>\n",
              "                        <td id=\"T_eb3b24ba_f175_11eb_9f18_0242ac1c0002row2_col14\" class=\"data row2 col14\" >96</td>\n",
              "                        <td id=\"T_eb3b24ba_f175_11eb_9f18_0242ac1c0002row2_col15\" class=\"data row2 col15\" >0</td>\n",
              "                        <td id=\"T_eb3b24ba_f175_11eb_9f18_0242ac1c0002row2_col16\" class=\"data row2 col16\" >0</td>\n",
              "            </tr>\n",
              "            <tr>\n",
              "                        <th id=\"T_eb3b24ba_f175_11eb_9f18_0242ac1c0002level0_row3\" class=\"row_heading level0 row3\" >3</th>\n",
              "                        <td id=\"T_eb3b24ba_f175_11eb_9f18_0242ac1c0002row3_col0\" class=\"data row3 col0\" >0</td>\n",
              "                        <td id=\"T_eb3b24ba_f175_11eb_9f18_0242ac1c0002row3_col1\" class=\"data row3 col1\" >0</td>\n",
              "                        <td id=\"T_eb3b24ba_f175_11eb_9f18_0242ac1c0002row3_col2\" class=\"data row3 col2\" >0</td>\n",
              "                        <td id=\"T_eb3b24ba_f175_11eb_9f18_0242ac1c0002row3_col3\" class=\"data row3 col3\" >48</td>\n",
              "                        <td id=\"T_eb3b24ba_f175_11eb_9f18_0242ac1c0002row3_col4\" class=\"data row3 col4\" >166</td>\n",
              "                        <td id=\"T_eb3b24ba_f175_11eb_9f18_0242ac1c0002row3_col5\" class=\"data row3 col5\" >224</td>\n",
              "                        <td id=\"T_eb3b24ba_f175_11eb_9f18_0242ac1c0002row3_col6\" class=\"data row3 col6\" >253</td>\n",
              "                        <td id=\"T_eb3b24ba_f175_11eb_9f18_0242ac1c0002row3_col7\" class=\"data row3 col7\" >253</td>\n",
              "                        <td id=\"T_eb3b24ba_f175_11eb_9f18_0242ac1c0002row3_col8\" class=\"data row3 col8\" >234</td>\n",
              "                        <td id=\"T_eb3b24ba_f175_11eb_9f18_0242ac1c0002row3_col9\" class=\"data row3 col9\" >196</td>\n",
              "                        <td id=\"T_eb3b24ba_f175_11eb_9f18_0242ac1c0002row3_col10\" class=\"data row3 col10\" >253</td>\n",
              "                        <td id=\"T_eb3b24ba_f175_11eb_9f18_0242ac1c0002row3_col11\" class=\"data row3 col11\" >253</td>\n",
              "                        <td id=\"T_eb3b24ba_f175_11eb_9f18_0242ac1c0002row3_col12\" class=\"data row3 col12\" >253</td>\n",
              "                        <td id=\"T_eb3b24ba_f175_11eb_9f18_0242ac1c0002row3_col13\" class=\"data row3 col13\" >253</td>\n",
              "                        <td id=\"T_eb3b24ba_f175_11eb_9f18_0242ac1c0002row3_col14\" class=\"data row3 col14\" >233</td>\n",
              "                        <td id=\"T_eb3b24ba_f175_11eb_9f18_0242ac1c0002row3_col15\" class=\"data row3 col15\" >0</td>\n",
              "                        <td id=\"T_eb3b24ba_f175_11eb_9f18_0242ac1c0002row3_col16\" class=\"data row3 col16\" >0</td>\n",
              "            </tr>\n",
              "            <tr>\n",
              "                        <th id=\"T_eb3b24ba_f175_11eb_9f18_0242ac1c0002level0_row4\" class=\"row_heading level0 row4\" >4</th>\n",
              "                        <td id=\"T_eb3b24ba_f175_11eb_9f18_0242ac1c0002row4_col0\" class=\"data row4 col0\" >0</td>\n",
              "                        <td id=\"T_eb3b24ba_f175_11eb_9f18_0242ac1c0002row4_col1\" class=\"data row4 col1\" >93</td>\n",
              "                        <td id=\"T_eb3b24ba_f175_11eb_9f18_0242ac1c0002row4_col2\" class=\"data row4 col2\" >244</td>\n",
              "                        <td id=\"T_eb3b24ba_f175_11eb_9f18_0242ac1c0002row4_col3\" class=\"data row4 col3\" >249</td>\n",
              "                        <td id=\"T_eb3b24ba_f175_11eb_9f18_0242ac1c0002row4_col4\" class=\"data row4 col4\" >253</td>\n",
              "                        <td id=\"T_eb3b24ba_f175_11eb_9f18_0242ac1c0002row4_col5\" class=\"data row4 col5\" >187</td>\n",
              "                        <td id=\"T_eb3b24ba_f175_11eb_9f18_0242ac1c0002row4_col6\" class=\"data row4 col6\" >46</td>\n",
              "                        <td id=\"T_eb3b24ba_f175_11eb_9f18_0242ac1c0002row4_col7\" class=\"data row4 col7\" >10</td>\n",
              "                        <td id=\"T_eb3b24ba_f175_11eb_9f18_0242ac1c0002row4_col8\" class=\"data row4 col8\" >8</td>\n",
              "                        <td id=\"T_eb3b24ba_f175_11eb_9f18_0242ac1c0002row4_col9\" class=\"data row4 col9\" >4</td>\n",
              "                        <td id=\"T_eb3b24ba_f175_11eb_9f18_0242ac1c0002row4_col10\" class=\"data row4 col10\" >10</td>\n",
              "                        <td id=\"T_eb3b24ba_f175_11eb_9f18_0242ac1c0002row4_col11\" class=\"data row4 col11\" >194</td>\n",
              "                        <td id=\"T_eb3b24ba_f175_11eb_9f18_0242ac1c0002row4_col12\" class=\"data row4 col12\" >253</td>\n",
              "                        <td id=\"T_eb3b24ba_f175_11eb_9f18_0242ac1c0002row4_col13\" class=\"data row4 col13\" >253</td>\n",
              "                        <td id=\"T_eb3b24ba_f175_11eb_9f18_0242ac1c0002row4_col14\" class=\"data row4 col14\" >233</td>\n",
              "                        <td id=\"T_eb3b24ba_f175_11eb_9f18_0242ac1c0002row4_col15\" class=\"data row4 col15\" >0</td>\n",
              "                        <td id=\"T_eb3b24ba_f175_11eb_9f18_0242ac1c0002row4_col16\" class=\"data row4 col16\" >0</td>\n",
              "            </tr>\n",
              "            <tr>\n",
              "                        <th id=\"T_eb3b24ba_f175_11eb_9f18_0242ac1c0002level0_row5\" class=\"row_heading level0 row5\" >5</th>\n",
              "                        <td id=\"T_eb3b24ba_f175_11eb_9f18_0242ac1c0002row5_col0\" class=\"data row5 col0\" >0</td>\n",
              "                        <td id=\"T_eb3b24ba_f175_11eb_9f18_0242ac1c0002row5_col1\" class=\"data row5 col1\" >107</td>\n",
              "                        <td id=\"T_eb3b24ba_f175_11eb_9f18_0242ac1c0002row5_col2\" class=\"data row5 col2\" >253</td>\n",
              "                        <td id=\"T_eb3b24ba_f175_11eb_9f18_0242ac1c0002row5_col3\" class=\"data row5 col3\" >253</td>\n",
              "                        <td id=\"T_eb3b24ba_f175_11eb_9f18_0242ac1c0002row5_col4\" class=\"data row5 col4\" >230</td>\n",
              "                        <td id=\"T_eb3b24ba_f175_11eb_9f18_0242ac1c0002row5_col5\" class=\"data row5 col5\" >48</td>\n",
              "                        <td id=\"T_eb3b24ba_f175_11eb_9f18_0242ac1c0002row5_col6\" class=\"data row5 col6\" >0</td>\n",
              "                        <td id=\"T_eb3b24ba_f175_11eb_9f18_0242ac1c0002row5_col7\" class=\"data row5 col7\" >0</td>\n",
              "                        <td id=\"T_eb3b24ba_f175_11eb_9f18_0242ac1c0002row5_col8\" class=\"data row5 col8\" >0</td>\n",
              "                        <td id=\"T_eb3b24ba_f175_11eb_9f18_0242ac1c0002row5_col9\" class=\"data row5 col9\" >0</td>\n",
              "                        <td id=\"T_eb3b24ba_f175_11eb_9f18_0242ac1c0002row5_col10\" class=\"data row5 col10\" >0</td>\n",
              "                        <td id=\"T_eb3b24ba_f175_11eb_9f18_0242ac1c0002row5_col11\" class=\"data row5 col11\" >192</td>\n",
              "                        <td id=\"T_eb3b24ba_f175_11eb_9f18_0242ac1c0002row5_col12\" class=\"data row5 col12\" >253</td>\n",
              "                        <td id=\"T_eb3b24ba_f175_11eb_9f18_0242ac1c0002row5_col13\" class=\"data row5 col13\" >253</td>\n",
              "                        <td id=\"T_eb3b24ba_f175_11eb_9f18_0242ac1c0002row5_col14\" class=\"data row5 col14\" >156</td>\n",
              "                        <td id=\"T_eb3b24ba_f175_11eb_9f18_0242ac1c0002row5_col15\" class=\"data row5 col15\" >0</td>\n",
              "                        <td id=\"T_eb3b24ba_f175_11eb_9f18_0242ac1c0002row5_col16\" class=\"data row5 col16\" >0</td>\n",
              "            </tr>\n",
              "            <tr>\n",
              "                        <th id=\"T_eb3b24ba_f175_11eb_9f18_0242ac1c0002level0_row6\" class=\"row_heading level0 row6\" >6</th>\n",
              "                        <td id=\"T_eb3b24ba_f175_11eb_9f18_0242ac1c0002row6_col0\" class=\"data row6 col0\" >0</td>\n",
              "                        <td id=\"T_eb3b24ba_f175_11eb_9f18_0242ac1c0002row6_col1\" class=\"data row6 col1\" >3</td>\n",
              "                        <td id=\"T_eb3b24ba_f175_11eb_9f18_0242ac1c0002row6_col2\" class=\"data row6 col2\" >20</td>\n",
              "                        <td id=\"T_eb3b24ba_f175_11eb_9f18_0242ac1c0002row6_col3\" class=\"data row6 col3\" >20</td>\n",
              "                        <td id=\"T_eb3b24ba_f175_11eb_9f18_0242ac1c0002row6_col4\" class=\"data row6 col4\" >15</td>\n",
              "                        <td id=\"T_eb3b24ba_f175_11eb_9f18_0242ac1c0002row6_col5\" class=\"data row6 col5\" >0</td>\n",
              "                        <td id=\"T_eb3b24ba_f175_11eb_9f18_0242ac1c0002row6_col6\" class=\"data row6 col6\" >0</td>\n",
              "                        <td id=\"T_eb3b24ba_f175_11eb_9f18_0242ac1c0002row6_col7\" class=\"data row6 col7\" >0</td>\n",
              "                        <td id=\"T_eb3b24ba_f175_11eb_9f18_0242ac1c0002row6_col8\" class=\"data row6 col8\" >0</td>\n",
              "                        <td id=\"T_eb3b24ba_f175_11eb_9f18_0242ac1c0002row6_col9\" class=\"data row6 col9\" >0</td>\n",
              "                        <td id=\"T_eb3b24ba_f175_11eb_9f18_0242ac1c0002row6_col10\" class=\"data row6 col10\" >43</td>\n",
              "                        <td id=\"T_eb3b24ba_f175_11eb_9f18_0242ac1c0002row6_col11\" class=\"data row6 col11\" >224</td>\n",
              "                        <td id=\"T_eb3b24ba_f175_11eb_9f18_0242ac1c0002row6_col12\" class=\"data row6 col12\" >253</td>\n",
              "                        <td id=\"T_eb3b24ba_f175_11eb_9f18_0242ac1c0002row6_col13\" class=\"data row6 col13\" >245</td>\n",
              "                        <td id=\"T_eb3b24ba_f175_11eb_9f18_0242ac1c0002row6_col14\" class=\"data row6 col14\" >74</td>\n",
              "                        <td id=\"T_eb3b24ba_f175_11eb_9f18_0242ac1c0002row6_col15\" class=\"data row6 col15\" >0</td>\n",
              "                        <td id=\"T_eb3b24ba_f175_11eb_9f18_0242ac1c0002row6_col16\" class=\"data row6 col16\" >0</td>\n",
              "            </tr>\n",
              "            <tr>\n",
              "                        <th id=\"T_eb3b24ba_f175_11eb_9f18_0242ac1c0002level0_row7\" class=\"row_heading level0 row7\" >7</th>\n",
              "                        <td id=\"T_eb3b24ba_f175_11eb_9f18_0242ac1c0002row7_col0\" class=\"data row7 col0\" >0</td>\n",
              "                        <td id=\"T_eb3b24ba_f175_11eb_9f18_0242ac1c0002row7_col1\" class=\"data row7 col1\" >0</td>\n",
              "                        <td id=\"T_eb3b24ba_f175_11eb_9f18_0242ac1c0002row7_col2\" class=\"data row7 col2\" >0</td>\n",
              "                        <td id=\"T_eb3b24ba_f175_11eb_9f18_0242ac1c0002row7_col3\" class=\"data row7 col3\" >0</td>\n",
              "                        <td id=\"T_eb3b24ba_f175_11eb_9f18_0242ac1c0002row7_col4\" class=\"data row7 col4\" >0</td>\n",
              "                        <td id=\"T_eb3b24ba_f175_11eb_9f18_0242ac1c0002row7_col5\" class=\"data row7 col5\" >0</td>\n",
              "                        <td id=\"T_eb3b24ba_f175_11eb_9f18_0242ac1c0002row7_col6\" class=\"data row7 col6\" >0</td>\n",
              "                        <td id=\"T_eb3b24ba_f175_11eb_9f18_0242ac1c0002row7_col7\" class=\"data row7 col7\" >0</td>\n",
              "                        <td id=\"T_eb3b24ba_f175_11eb_9f18_0242ac1c0002row7_col8\" class=\"data row7 col8\" >0</td>\n",
              "                        <td id=\"T_eb3b24ba_f175_11eb_9f18_0242ac1c0002row7_col9\" class=\"data row7 col9\" >0</td>\n",
              "                        <td id=\"T_eb3b24ba_f175_11eb_9f18_0242ac1c0002row7_col10\" class=\"data row7 col10\" >249</td>\n",
              "                        <td id=\"T_eb3b24ba_f175_11eb_9f18_0242ac1c0002row7_col11\" class=\"data row7 col11\" >253</td>\n",
              "                        <td id=\"T_eb3b24ba_f175_11eb_9f18_0242ac1c0002row7_col12\" class=\"data row7 col12\" >245</td>\n",
              "                        <td id=\"T_eb3b24ba_f175_11eb_9f18_0242ac1c0002row7_col13\" class=\"data row7 col13\" >126</td>\n",
              "                        <td id=\"T_eb3b24ba_f175_11eb_9f18_0242ac1c0002row7_col14\" class=\"data row7 col14\" >0</td>\n",
              "                        <td id=\"T_eb3b24ba_f175_11eb_9f18_0242ac1c0002row7_col15\" class=\"data row7 col15\" >0</td>\n",
              "                        <td id=\"T_eb3b24ba_f175_11eb_9f18_0242ac1c0002row7_col16\" class=\"data row7 col16\" >0</td>\n",
              "            </tr>\n",
              "            <tr>\n",
              "                        <th id=\"T_eb3b24ba_f175_11eb_9f18_0242ac1c0002level0_row8\" class=\"row_heading level0 row8\" >8</th>\n",
              "                        <td id=\"T_eb3b24ba_f175_11eb_9f18_0242ac1c0002row8_col0\" class=\"data row8 col0\" >0</td>\n",
              "                        <td id=\"T_eb3b24ba_f175_11eb_9f18_0242ac1c0002row8_col1\" class=\"data row8 col1\" >0</td>\n",
              "                        <td id=\"T_eb3b24ba_f175_11eb_9f18_0242ac1c0002row8_col2\" class=\"data row8 col2\" >0</td>\n",
              "                        <td id=\"T_eb3b24ba_f175_11eb_9f18_0242ac1c0002row8_col3\" class=\"data row8 col3\" >0</td>\n",
              "                        <td id=\"T_eb3b24ba_f175_11eb_9f18_0242ac1c0002row8_col4\" class=\"data row8 col4\" >0</td>\n",
              "                        <td id=\"T_eb3b24ba_f175_11eb_9f18_0242ac1c0002row8_col5\" class=\"data row8 col5\" >0</td>\n",
              "                        <td id=\"T_eb3b24ba_f175_11eb_9f18_0242ac1c0002row8_col6\" class=\"data row8 col6\" >0</td>\n",
              "                        <td id=\"T_eb3b24ba_f175_11eb_9f18_0242ac1c0002row8_col7\" class=\"data row8 col7\" >14</td>\n",
              "                        <td id=\"T_eb3b24ba_f175_11eb_9f18_0242ac1c0002row8_col8\" class=\"data row8 col8\" >101</td>\n",
              "                        <td id=\"T_eb3b24ba_f175_11eb_9f18_0242ac1c0002row8_col9\" class=\"data row8 col9\" >223</td>\n",
              "                        <td id=\"T_eb3b24ba_f175_11eb_9f18_0242ac1c0002row8_col10\" class=\"data row8 col10\" >253</td>\n",
              "                        <td id=\"T_eb3b24ba_f175_11eb_9f18_0242ac1c0002row8_col11\" class=\"data row8 col11\" >248</td>\n",
              "                        <td id=\"T_eb3b24ba_f175_11eb_9f18_0242ac1c0002row8_col12\" class=\"data row8 col12\" >124</td>\n",
              "                        <td id=\"T_eb3b24ba_f175_11eb_9f18_0242ac1c0002row8_col13\" class=\"data row8 col13\" >0</td>\n",
              "                        <td id=\"T_eb3b24ba_f175_11eb_9f18_0242ac1c0002row8_col14\" class=\"data row8 col14\" >0</td>\n",
              "                        <td id=\"T_eb3b24ba_f175_11eb_9f18_0242ac1c0002row8_col15\" class=\"data row8 col15\" >0</td>\n",
              "                        <td id=\"T_eb3b24ba_f175_11eb_9f18_0242ac1c0002row8_col16\" class=\"data row8 col16\" >0</td>\n",
              "            </tr>\n",
              "            <tr>\n",
              "                        <th id=\"T_eb3b24ba_f175_11eb_9f18_0242ac1c0002level0_row9\" class=\"row_heading level0 row9\" >9</th>\n",
              "                        <td id=\"T_eb3b24ba_f175_11eb_9f18_0242ac1c0002row9_col0\" class=\"data row9 col0\" >0</td>\n",
              "                        <td id=\"T_eb3b24ba_f175_11eb_9f18_0242ac1c0002row9_col1\" class=\"data row9 col1\" >0</td>\n",
              "                        <td id=\"T_eb3b24ba_f175_11eb_9f18_0242ac1c0002row9_col2\" class=\"data row9 col2\" >0</td>\n",
              "                        <td id=\"T_eb3b24ba_f175_11eb_9f18_0242ac1c0002row9_col3\" class=\"data row9 col3\" >0</td>\n",
              "                        <td id=\"T_eb3b24ba_f175_11eb_9f18_0242ac1c0002row9_col4\" class=\"data row9 col4\" >0</td>\n",
              "                        <td id=\"T_eb3b24ba_f175_11eb_9f18_0242ac1c0002row9_col5\" class=\"data row9 col5\" >11</td>\n",
              "                        <td id=\"T_eb3b24ba_f175_11eb_9f18_0242ac1c0002row9_col6\" class=\"data row9 col6\" >166</td>\n",
              "                        <td id=\"T_eb3b24ba_f175_11eb_9f18_0242ac1c0002row9_col7\" class=\"data row9 col7\" >239</td>\n",
              "                        <td id=\"T_eb3b24ba_f175_11eb_9f18_0242ac1c0002row9_col8\" class=\"data row9 col8\" >253</td>\n",
              "                        <td id=\"T_eb3b24ba_f175_11eb_9f18_0242ac1c0002row9_col9\" class=\"data row9 col9\" >253</td>\n",
              "                        <td id=\"T_eb3b24ba_f175_11eb_9f18_0242ac1c0002row9_col10\" class=\"data row9 col10\" >253</td>\n",
              "                        <td id=\"T_eb3b24ba_f175_11eb_9f18_0242ac1c0002row9_col11\" class=\"data row9 col11\" >187</td>\n",
              "                        <td id=\"T_eb3b24ba_f175_11eb_9f18_0242ac1c0002row9_col12\" class=\"data row9 col12\" >30</td>\n",
              "                        <td id=\"T_eb3b24ba_f175_11eb_9f18_0242ac1c0002row9_col13\" class=\"data row9 col13\" >0</td>\n",
              "                        <td id=\"T_eb3b24ba_f175_11eb_9f18_0242ac1c0002row9_col14\" class=\"data row9 col14\" >0</td>\n",
              "                        <td id=\"T_eb3b24ba_f175_11eb_9f18_0242ac1c0002row9_col15\" class=\"data row9 col15\" >0</td>\n",
              "                        <td id=\"T_eb3b24ba_f175_11eb_9f18_0242ac1c0002row9_col16\" class=\"data row9 col16\" >0</td>\n",
              "            </tr>\n",
              "            <tr>\n",
              "                        <th id=\"T_eb3b24ba_f175_11eb_9f18_0242ac1c0002level0_row10\" class=\"row_heading level0 row10\" >10</th>\n",
              "                        <td id=\"T_eb3b24ba_f175_11eb_9f18_0242ac1c0002row10_col0\" class=\"data row10 col0\" >0</td>\n",
              "                        <td id=\"T_eb3b24ba_f175_11eb_9f18_0242ac1c0002row10_col1\" class=\"data row10 col1\" >0</td>\n",
              "                        <td id=\"T_eb3b24ba_f175_11eb_9f18_0242ac1c0002row10_col2\" class=\"data row10 col2\" >0</td>\n",
              "                        <td id=\"T_eb3b24ba_f175_11eb_9f18_0242ac1c0002row10_col3\" class=\"data row10 col3\" >0</td>\n",
              "                        <td id=\"T_eb3b24ba_f175_11eb_9f18_0242ac1c0002row10_col4\" class=\"data row10 col4\" >0</td>\n",
              "                        <td id=\"T_eb3b24ba_f175_11eb_9f18_0242ac1c0002row10_col5\" class=\"data row10 col5\" >16</td>\n",
              "                        <td id=\"T_eb3b24ba_f175_11eb_9f18_0242ac1c0002row10_col6\" class=\"data row10 col6\" >248</td>\n",
              "                        <td id=\"T_eb3b24ba_f175_11eb_9f18_0242ac1c0002row10_col7\" class=\"data row10 col7\" >250</td>\n",
              "                        <td id=\"T_eb3b24ba_f175_11eb_9f18_0242ac1c0002row10_col8\" class=\"data row10 col8\" >253</td>\n",
              "                        <td id=\"T_eb3b24ba_f175_11eb_9f18_0242ac1c0002row10_col9\" class=\"data row10 col9\" >253</td>\n",
              "                        <td id=\"T_eb3b24ba_f175_11eb_9f18_0242ac1c0002row10_col10\" class=\"data row10 col10\" >253</td>\n",
              "                        <td id=\"T_eb3b24ba_f175_11eb_9f18_0242ac1c0002row10_col11\" class=\"data row10 col11\" >253</td>\n",
              "                        <td id=\"T_eb3b24ba_f175_11eb_9f18_0242ac1c0002row10_col12\" class=\"data row10 col12\" >232</td>\n",
              "                        <td id=\"T_eb3b24ba_f175_11eb_9f18_0242ac1c0002row10_col13\" class=\"data row10 col13\" >213</td>\n",
              "                        <td id=\"T_eb3b24ba_f175_11eb_9f18_0242ac1c0002row10_col14\" class=\"data row10 col14\" >111</td>\n",
              "                        <td id=\"T_eb3b24ba_f175_11eb_9f18_0242ac1c0002row10_col15\" class=\"data row10 col15\" >2</td>\n",
              "                        <td id=\"T_eb3b24ba_f175_11eb_9f18_0242ac1c0002row10_col16\" class=\"data row10 col16\" >0</td>\n",
              "            </tr>\n",
              "            <tr>\n",
              "                        <th id=\"T_eb3b24ba_f175_11eb_9f18_0242ac1c0002level0_row11\" class=\"row_heading level0 row11\" >11</th>\n",
              "                        <td id=\"T_eb3b24ba_f175_11eb_9f18_0242ac1c0002row11_col0\" class=\"data row11 col0\" >0</td>\n",
              "                        <td id=\"T_eb3b24ba_f175_11eb_9f18_0242ac1c0002row11_col1\" class=\"data row11 col1\" >0</td>\n",
              "                        <td id=\"T_eb3b24ba_f175_11eb_9f18_0242ac1c0002row11_col2\" class=\"data row11 col2\" >0</td>\n",
              "                        <td id=\"T_eb3b24ba_f175_11eb_9f18_0242ac1c0002row11_col3\" class=\"data row11 col3\" >0</td>\n",
              "                        <td id=\"T_eb3b24ba_f175_11eb_9f18_0242ac1c0002row11_col4\" class=\"data row11 col4\" >0</td>\n",
              "                        <td id=\"T_eb3b24ba_f175_11eb_9f18_0242ac1c0002row11_col5\" class=\"data row11 col5\" >0</td>\n",
              "                        <td id=\"T_eb3b24ba_f175_11eb_9f18_0242ac1c0002row11_col6\" class=\"data row11 col6\" >0</td>\n",
              "                        <td id=\"T_eb3b24ba_f175_11eb_9f18_0242ac1c0002row11_col7\" class=\"data row11 col7\" >43</td>\n",
              "                        <td id=\"T_eb3b24ba_f175_11eb_9f18_0242ac1c0002row11_col8\" class=\"data row11 col8\" >98</td>\n",
              "                        <td id=\"T_eb3b24ba_f175_11eb_9f18_0242ac1c0002row11_col9\" class=\"data row11 col9\" >98</td>\n",
              "                        <td id=\"T_eb3b24ba_f175_11eb_9f18_0242ac1c0002row11_col10\" class=\"data row11 col10\" >208</td>\n",
              "                        <td id=\"T_eb3b24ba_f175_11eb_9f18_0242ac1c0002row11_col11\" class=\"data row11 col11\" >253</td>\n",
              "                        <td id=\"T_eb3b24ba_f175_11eb_9f18_0242ac1c0002row11_col12\" class=\"data row11 col12\" >253</td>\n",
              "                        <td id=\"T_eb3b24ba_f175_11eb_9f18_0242ac1c0002row11_col13\" class=\"data row11 col13\" >253</td>\n",
              "                        <td id=\"T_eb3b24ba_f175_11eb_9f18_0242ac1c0002row11_col14\" class=\"data row11 col14\" >253</td>\n",
              "                        <td id=\"T_eb3b24ba_f175_11eb_9f18_0242ac1c0002row11_col15\" class=\"data row11 col15\" >187</td>\n",
              "                        <td id=\"T_eb3b24ba_f175_11eb_9f18_0242ac1c0002row11_col16\" class=\"data row11 col16\" >22</td>\n",
              "            </tr>\n",
              "            <tr>\n",
              "                        <th id=\"T_eb3b24ba_f175_11eb_9f18_0242ac1c0002level0_row12\" class=\"row_heading level0 row12\" >12</th>\n",
              "                        <td id=\"T_eb3b24ba_f175_11eb_9f18_0242ac1c0002row12_col0\" class=\"data row12 col0\" >0</td>\n",
              "                        <td id=\"T_eb3b24ba_f175_11eb_9f18_0242ac1c0002row12_col1\" class=\"data row12 col1\" >0</td>\n",
              "                        <td id=\"T_eb3b24ba_f175_11eb_9f18_0242ac1c0002row12_col2\" class=\"data row12 col2\" >0</td>\n",
              "                        <td id=\"T_eb3b24ba_f175_11eb_9f18_0242ac1c0002row12_col3\" class=\"data row12 col3\" >0</td>\n",
              "                        <td id=\"T_eb3b24ba_f175_11eb_9f18_0242ac1c0002row12_col4\" class=\"data row12 col4\" >0</td>\n",
              "                        <td id=\"T_eb3b24ba_f175_11eb_9f18_0242ac1c0002row12_col5\" class=\"data row12 col5\" >0</td>\n",
              "                        <td id=\"T_eb3b24ba_f175_11eb_9f18_0242ac1c0002row12_col6\" class=\"data row12 col6\" >0</td>\n",
              "                        <td id=\"T_eb3b24ba_f175_11eb_9f18_0242ac1c0002row12_col7\" class=\"data row12 col7\" >0</td>\n",
              "                        <td id=\"T_eb3b24ba_f175_11eb_9f18_0242ac1c0002row12_col8\" class=\"data row12 col8\" >0</td>\n",
              "                        <td id=\"T_eb3b24ba_f175_11eb_9f18_0242ac1c0002row12_col9\" class=\"data row12 col9\" >0</td>\n",
              "                        <td id=\"T_eb3b24ba_f175_11eb_9f18_0242ac1c0002row12_col10\" class=\"data row12 col10\" >9</td>\n",
              "                        <td id=\"T_eb3b24ba_f175_11eb_9f18_0242ac1c0002row12_col11\" class=\"data row12 col11\" >51</td>\n",
              "                        <td id=\"T_eb3b24ba_f175_11eb_9f18_0242ac1c0002row12_col12\" class=\"data row12 col12\" >119</td>\n",
              "                        <td id=\"T_eb3b24ba_f175_11eb_9f18_0242ac1c0002row12_col13\" class=\"data row12 col13\" >253</td>\n",
              "                        <td id=\"T_eb3b24ba_f175_11eb_9f18_0242ac1c0002row12_col14\" class=\"data row12 col14\" >253</td>\n",
              "                        <td id=\"T_eb3b24ba_f175_11eb_9f18_0242ac1c0002row12_col15\" class=\"data row12 col15\" >253</td>\n",
              "                        <td id=\"T_eb3b24ba_f175_11eb_9f18_0242ac1c0002row12_col16\" class=\"data row12 col16\" >76</td>\n",
              "            </tr>\n",
              "            <tr>\n",
              "                        <th id=\"T_eb3b24ba_f175_11eb_9f18_0242ac1c0002level0_row13\" class=\"row_heading level0 row13\" >13</th>\n",
              "                        <td id=\"T_eb3b24ba_f175_11eb_9f18_0242ac1c0002row13_col0\" class=\"data row13 col0\" >0</td>\n",
              "                        <td id=\"T_eb3b24ba_f175_11eb_9f18_0242ac1c0002row13_col1\" class=\"data row13 col1\" >0</td>\n",
              "                        <td id=\"T_eb3b24ba_f175_11eb_9f18_0242ac1c0002row13_col2\" class=\"data row13 col2\" >0</td>\n",
              "                        <td id=\"T_eb3b24ba_f175_11eb_9f18_0242ac1c0002row13_col3\" class=\"data row13 col3\" >0</td>\n",
              "                        <td id=\"T_eb3b24ba_f175_11eb_9f18_0242ac1c0002row13_col4\" class=\"data row13 col4\" >0</td>\n",
              "                        <td id=\"T_eb3b24ba_f175_11eb_9f18_0242ac1c0002row13_col5\" class=\"data row13 col5\" >0</td>\n",
              "                        <td id=\"T_eb3b24ba_f175_11eb_9f18_0242ac1c0002row13_col6\" class=\"data row13 col6\" >0</td>\n",
              "                        <td id=\"T_eb3b24ba_f175_11eb_9f18_0242ac1c0002row13_col7\" class=\"data row13 col7\" >0</td>\n",
              "                        <td id=\"T_eb3b24ba_f175_11eb_9f18_0242ac1c0002row13_col8\" class=\"data row13 col8\" >0</td>\n",
              "                        <td id=\"T_eb3b24ba_f175_11eb_9f18_0242ac1c0002row13_col9\" class=\"data row13 col9\" >0</td>\n",
              "                        <td id=\"T_eb3b24ba_f175_11eb_9f18_0242ac1c0002row13_col10\" class=\"data row13 col10\" >0</td>\n",
              "                        <td id=\"T_eb3b24ba_f175_11eb_9f18_0242ac1c0002row13_col11\" class=\"data row13 col11\" >0</td>\n",
              "                        <td id=\"T_eb3b24ba_f175_11eb_9f18_0242ac1c0002row13_col12\" class=\"data row13 col12\" >1</td>\n",
              "                        <td id=\"T_eb3b24ba_f175_11eb_9f18_0242ac1c0002row13_col13\" class=\"data row13 col13\" >183</td>\n",
              "                        <td id=\"T_eb3b24ba_f175_11eb_9f18_0242ac1c0002row13_col14\" class=\"data row13 col14\" >253</td>\n",
              "                        <td id=\"T_eb3b24ba_f175_11eb_9f18_0242ac1c0002row13_col15\" class=\"data row13 col15\" >253</td>\n",
              "                        <td id=\"T_eb3b24ba_f175_11eb_9f18_0242ac1c0002row13_col16\" class=\"data row13 col16\" >139</td>\n",
              "            </tr>\n",
              "            <tr>\n",
              "                        <th id=\"T_eb3b24ba_f175_11eb_9f18_0242ac1c0002level0_row14\" class=\"row_heading level0 row14\" >14</th>\n",
              "                        <td id=\"T_eb3b24ba_f175_11eb_9f18_0242ac1c0002row14_col0\" class=\"data row14 col0\" >0</td>\n",
              "                        <td id=\"T_eb3b24ba_f175_11eb_9f18_0242ac1c0002row14_col1\" class=\"data row14 col1\" >0</td>\n",
              "                        <td id=\"T_eb3b24ba_f175_11eb_9f18_0242ac1c0002row14_col2\" class=\"data row14 col2\" >0</td>\n",
              "                        <td id=\"T_eb3b24ba_f175_11eb_9f18_0242ac1c0002row14_col3\" class=\"data row14 col3\" >0</td>\n",
              "                        <td id=\"T_eb3b24ba_f175_11eb_9f18_0242ac1c0002row14_col4\" class=\"data row14 col4\" >0</td>\n",
              "                        <td id=\"T_eb3b24ba_f175_11eb_9f18_0242ac1c0002row14_col5\" class=\"data row14 col5\" >0</td>\n",
              "                        <td id=\"T_eb3b24ba_f175_11eb_9f18_0242ac1c0002row14_col6\" class=\"data row14 col6\" >0</td>\n",
              "                        <td id=\"T_eb3b24ba_f175_11eb_9f18_0242ac1c0002row14_col7\" class=\"data row14 col7\" >0</td>\n",
              "                        <td id=\"T_eb3b24ba_f175_11eb_9f18_0242ac1c0002row14_col8\" class=\"data row14 col8\" >0</td>\n",
              "                        <td id=\"T_eb3b24ba_f175_11eb_9f18_0242ac1c0002row14_col9\" class=\"data row14 col9\" >0</td>\n",
              "                        <td id=\"T_eb3b24ba_f175_11eb_9f18_0242ac1c0002row14_col10\" class=\"data row14 col10\" >0</td>\n",
              "                        <td id=\"T_eb3b24ba_f175_11eb_9f18_0242ac1c0002row14_col11\" class=\"data row14 col11\" >0</td>\n",
              "                        <td id=\"T_eb3b24ba_f175_11eb_9f18_0242ac1c0002row14_col12\" class=\"data row14 col12\" >0</td>\n",
              "                        <td id=\"T_eb3b24ba_f175_11eb_9f18_0242ac1c0002row14_col13\" class=\"data row14 col13\" >182</td>\n",
              "                        <td id=\"T_eb3b24ba_f175_11eb_9f18_0242ac1c0002row14_col14\" class=\"data row14 col14\" >253</td>\n",
              "                        <td id=\"T_eb3b24ba_f175_11eb_9f18_0242ac1c0002row14_col15\" class=\"data row14 col15\" >253</td>\n",
              "                        <td id=\"T_eb3b24ba_f175_11eb_9f18_0242ac1c0002row14_col16\" class=\"data row14 col16\" >104</td>\n",
              "            </tr>\n",
              "            <tr>\n",
              "                        <th id=\"T_eb3b24ba_f175_11eb_9f18_0242ac1c0002level0_row15\" class=\"row_heading level0 row15\" >15</th>\n",
              "                        <td id=\"T_eb3b24ba_f175_11eb_9f18_0242ac1c0002row15_col0\" class=\"data row15 col0\" >0</td>\n",
              "                        <td id=\"T_eb3b24ba_f175_11eb_9f18_0242ac1c0002row15_col1\" class=\"data row15 col1\" >0</td>\n",
              "                        <td id=\"T_eb3b24ba_f175_11eb_9f18_0242ac1c0002row15_col2\" class=\"data row15 col2\" >0</td>\n",
              "                        <td id=\"T_eb3b24ba_f175_11eb_9f18_0242ac1c0002row15_col3\" class=\"data row15 col3\" >0</td>\n",
              "                        <td id=\"T_eb3b24ba_f175_11eb_9f18_0242ac1c0002row15_col4\" class=\"data row15 col4\" >0</td>\n",
              "                        <td id=\"T_eb3b24ba_f175_11eb_9f18_0242ac1c0002row15_col5\" class=\"data row15 col5\" >0</td>\n",
              "                        <td id=\"T_eb3b24ba_f175_11eb_9f18_0242ac1c0002row15_col6\" class=\"data row15 col6\" >0</td>\n",
              "                        <td id=\"T_eb3b24ba_f175_11eb_9f18_0242ac1c0002row15_col7\" class=\"data row15 col7\" >0</td>\n",
              "                        <td id=\"T_eb3b24ba_f175_11eb_9f18_0242ac1c0002row15_col8\" class=\"data row15 col8\" >0</td>\n",
              "                        <td id=\"T_eb3b24ba_f175_11eb_9f18_0242ac1c0002row15_col9\" class=\"data row15 col9\" >0</td>\n",
              "                        <td id=\"T_eb3b24ba_f175_11eb_9f18_0242ac1c0002row15_col10\" class=\"data row15 col10\" >0</td>\n",
              "                        <td id=\"T_eb3b24ba_f175_11eb_9f18_0242ac1c0002row15_col11\" class=\"data row15 col11\" >0</td>\n",
              "                        <td id=\"T_eb3b24ba_f175_11eb_9f18_0242ac1c0002row15_col12\" class=\"data row15 col12\" >85</td>\n",
              "                        <td id=\"T_eb3b24ba_f175_11eb_9f18_0242ac1c0002row15_col13\" class=\"data row15 col13\" >249</td>\n",
              "                        <td id=\"T_eb3b24ba_f175_11eb_9f18_0242ac1c0002row15_col14\" class=\"data row15 col14\" >253</td>\n",
              "                        <td id=\"T_eb3b24ba_f175_11eb_9f18_0242ac1c0002row15_col15\" class=\"data row15 col15\" >253</td>\n",
              "                        <td id=\"T_eb3b24ba_f175_11eb_9f18_0242ac1c0002row15_col16\" class=\"data row15 col16\" >36</td>\n",
              "            </tr>\n",
              "            <tr>\n",
              "                        <th id=\"T_eb3b24ba_f175_11eb_9f18_0242ac1c0002level0_row16\" class=\"row_heading level0 row16\" >16</th>\n",
              "                        <td id=\"T_eb3b24ba_f175_11eb_9f18_0242ac1c0002row16_col0\" class=\"data row16 col0\" >0</td>\n",
              "                        <td id=\"T_eb3b24ba_f175_11eb_9f18_0242ac1c0002row16_col1\" class=\"data row16 col1\" >0</td>\n",
              "                        <td id=\"T_eb3b24ba_f175_11eb_9f18_0242ac1c0002row16_col2\" class=\"data row16 col2\" >0</td>\n",
              "                        <td id=\"T_eb3b24ba_f175_11eb_9f18_0242ac1c0002row16_col3\" class=\"data row16 col3\" >0</td>\n",
              "                        <td id=\"T_eb3b24ba_f175_11eb_9f18_0242ac1c0002row16_col4\" class=\"data row16 col4\" >0</td>\n",
              "                        <td id=\"T_eb3b24ba_f175_11eb_9f18_0242ac1c0002row16_col5\" class=\"data row16 col5\" >0</td>\n",
              "                        <td id=\"T_eb3b24ba_f175_11eb_9f18_0242ac1c0002row16_col6\" class=\"data row16 col6\" >0</td>\n",
              "                        <td id=\"T_eb3b24ba_f175_11eb_9f18_0242ac1c0002row16_col7\" class=\"data row16 col7\" >0</td>\n",
              "                        <td id=\"T_eb3b24ba_f175_11eb_9f18_0242ac1c0002row16_col8\" class=\"data row16 col8\" >0</td>\n",
              "                        <td id=\"T_eb3b24ba_f175_11eb_9f18_0242ac1c0002row16_col9\" class=\"data row16 col9\" >0</td>\n",
              "                        <td id=\"T_eb3b24ba_f175_11eb_9f18_0242ac1c0002row16_col10\" class=\"data row16 col10\" >0</td>\n",
              "                        <td id=\"T_eb3b24ba_f175_11eb_9f18_0242ac1c0002row16_col11\" class=\"data row16 col11\" >60</td>\n",
              "                        <td id=\"T_eb3b24ba_f175_11eb_9f18_0242ac1c0002row16_col12\" class=\"data row16 col12\" >214</td>\n",
              "                        <td id=\"T_eb3b24ba_f175_11eb_9f18_0242ac1c0002row16_col13\" class=\"data row16 col13\" >253</td>\n",
              "                        <td id=\"T_eb3b24ba_f175_11eb_9f18_0242ac1c0002row16_col14\" class=\"data row16 col14\" >253</td>\n",
              "                        <td id=\"T_eb3b24ba_f175_11eb_9f18_0242ac1c0002row16_col15\" class=\"data row16 col15\" >173</td>\n",
              "                        <td id=\"T_eb3b24ba_f175_11eb_9f18_0242ac1c0002row16_col16\" class=\"data row16 col16\" >11</td>\n",
              "            </tr>\n",
              "            <tr>\n",
              "                        <th id=\"T_eb3b24ba_f175_11eb_9f18_0242ac1c0002level0_row17\" class=\"row_heading level0 row17\" >17</th>\n",
              "                        <td id=\"T_eb3b24ba_f175_11eb_9f18_0242ac1c0002row17_col0\" class=\"data row17 col0\" >0</td>\n",
              "                        <td id=\"T_eb3b24ba_f175_11eb_9f18_0242ac1c0002row17_col1\" class=\"data row17 col1\" >0</td>\n",
              "                        <td id=\"T_eb3b24ba_f175_11eb_9f18_0242ac1c0002row17_col2\" class=\"data row17 col2\" >0</td>\n",
              "                        <td id=\"T_eb3b24ba_f175_11eb_9f18_0242ac1c0002row17_col3\" class=\"data row17 col3\" >0</td>\n",
              "                        <td id=\"T_eb3b24ba_f175_11eb_9f18_0242ac1c0002row17_col4\" class=\"data row17 col4\" >0</td>\n",
              "                        <td id=\"T_eb3b24ba_f175_11eb_9f18_0242ac1c0002row17_col5\" class=\"data row17 col5\" >0</td>\n",
              "                        <td id=\"T_eb3b24ba_f175_11eb_9f18_0242ac1c0002row17_col6\" class=\"data row17 col6\" >0</td>\n",
              "                        <td id=\"T_eb3b24ba_f175_11eb_9f18_0242ac1c0002row17_col7\" class=\"data row17 col7\" >0</td>\n",
              "                        <td id=\"T_eb3b24ba_f175_11eb_9f18_0242ac1c0002row17_col8\" class=\"data row17 col8\" >0</td>\n",
              "                        <td id=\"T_eb3b24ba_f175_11eb_9f18_0242ac1c0002row17_col9\" class=\"data row17 col9\" >0</td>\n",
              "                        <td id=\"T_eb3b24ba_f175_11eb_9f18_0242ac1c0002row17_col10\" class=\"data row17 col10\" >98</td>\n",
              "                        <td id=\"T_eb3b24ba_f175_11eb_9f18_0242ac1c0002row17_col11\" class=\"data row17 col11\" >247</td>\n",
              "                        <td id=\"T_eb3b24ba_f175_11eb_9f18_0242ac1c0002row17_col12\" class=\"data row17 col12\" >253</td>\n",
              "                        <td id=\"T_eb3b24ba_f175_11eb_9f18_0242ac1c0002row17_col13\" class=\"data row17 col13\" >253</td>\n",
              "                        <td id=\"T_eb3b24ba_f175_11eb_9f18_0242ac1c0002row17_col14\" class=\"data row17 col14\" >226</td>\n",
              "                        <td id=\"T_eb3b24ba_f175_11eb_9f18_0242ac1c0002row17_col15\" class=\"data row17 col15\" >9</td>\n",
              "                        <td id=\"T_eb3b24ba_f175_11eb_9f18_0242ac1c0002row17_col16\" class=\"data row17 col16\" >0</td>\n",
              "            </tr>\n",
              "            <tr>\n",
              "                        <th id=\"T_eb3b24ba_f175_11eb_9f18_0242ac1c0002level0_row18\" class=\"row_heading level0 row18\" >18</th>\n",
              "                        <td id=\"T_eb3b24ba_f175_11eb_9f18_0242ac1c0002row18_col0\" class=\"data row18 col0\" >0</td>\n",
              "                        <td id=\"T_eb3b24ba_f175_11eb_9f18_0242ac1c0002row18_col1\" class=\"data row18 col1\" >0</td>\n",
              "                        <td id=\"T_eb3b24ba_f175_11eb_9f18_0242ac1c0002row18_col2\" class=\"data row18 col2\" >0</td>\n",
              "                        <td id=\"T_eb3b24ba_f175_11eb_9f18_0242ac1c0002row18_col3\" class=\"data row18 col3\" >0</td>\n",
              "                        <td id=\"T_eb3b24ba_f175_11eb_9f18_0242ac1c0002row18_col4\" class=\"data row18 col4\" >0</td>\n",
              "                        <td id=\"T_eb3b24ba_f175_11eb_9f18_0242ac1c0002row18_col5\" class=\"data row18 col5\" >0</td>\n",
              "                        <td id=\"T_eb3b24ba_f175_11eb_9f18_0242ac1c0002row18_col6\" class=\"data row18 col6\" >0</td>\n",
              "                        <td id=\"T_eb3b24ba_f175_11eb_9f18_0242ac1c0002row18_col7\" class=\"data row18 col7\" >0</td>\n",
              "                        <td id=\"T_eb3b24ba_f175_11eb_9f18_0242ac1c0002row18_col8\" class=\"data row18 col8\" >42</td>\n",
              "                        <td id=\"T_eb3b24ba_f175_11eb_9f18_0242ac1c0002row18_col9\" class=\"data row18 col9\" >150</td>\n",
              "                        <td id=\"T_eb3b24ba_f175_11eb_9f18_0242ac1c0002row18_col10\" class=\"data row18 col10\" >252</td>\n",
              "                        <td id=\"T_eb3b24ba_f175_11eb_9f18_0242ac1c0002row18_col11\" class=\"data row18 col11\" >253</td>\n",
              "                        <td id=\"T_eb3b24ba_f175_11eb_9f18_0242ac1c0002row18_col12\" class=\"data row18 col12\" >253</td>\n",
              "                        <td id=\"T_eb3b24ba_f175_11eb_9f18_0242ac1c0002row18_col13\" class=\"data row18 col13\" >233</td>\n",
              "                        <td id=\"T_eb3b24ba_f175_11eb_9f18_0242ac1c0002row18_col14\" class=\"data row18 col14\" >53</td>\n",
              "                        <td id=\"T_eb3b24ba_f175_11eb_9f18_0242ac1c0002row18_col15\" class=\"data row18 col15\" >0</td>\n",
              "                        <td id=\"T_eb3b24ba_f175_11eb_9f18_0242ac1c0002row18_col16\" class=\"data row18 col16\" >0</td>\n",
              "            </tr>\n",
              "            <tr>\n",
              "                        <th id=\"T_eb3b24ba_f175_11eb_9f18_0242ac1c0002level0_row19\" class=\"row_heading level0 row19\" >19</th>\n",
              "                        <td id=\"T_eb3b24ba_f175_11eb_9f18_0242ac1c0002row19_col0\" class=\"data row19 col0\" >0</td>\n",
              "                        <td id=\"T_eb3b24ba_f175_11eb_9f18_0242ac1c0002row19_col1\" class=\"data row19 col1\" >0</td>\n",
              "                        <td id=\"T_eb3b24ba_f175_11eb_9f18_0242ac1c0002row19_col2\" class=\"data row19 col2\" >42</td>\n",
              "                        <td id=\"T_eb3b24ba_f175_11eb_9f18_0242ac1c0002row19_col3\" class=\"data row19 col3\" >115</td>\n",
              "                        <td id=\"T_eb3b24ba_f175_11eb_9f18_0242ac1c0002row19_col4\" class=\"data row19 col4\" >42</td>\n",
              "                        <td id=\"T_eb3b24ba_f175_11eb_9f18_0242ac1c0002row19_col5\" class=\"data row19 col5\" >60</td>\n",
              "                        <td id=\"T_eb3b24ba_f175_11eb_9f18_0242ac1c0002row19_col6\" class=\"data row19 col6\" >115</td>\n",
              "                        <td id=\"T_eb3b24ba_f175_11eb_9f18_0242ac1c0002row19_col7\" class=\"data row19 col7\" >159</td>\n",
              "                        <td id=\"T_eb3b24ba_f175_11eb_9f18_0242ac1c0002row19_col8\" class=\"data row19 col8\" >240</td>\n",
              "                        <td id=\"T_eb3b24ba_f175_11eb_9f18_0242ac1c0002row19_col9\" class=\"data row19 col9\" >253</td>\n",
              "                        <td id=\"T_eb3b24ba_f175_11eb_9f18_0242ac1c0002row19_col10\" class=\"data row19 col10\" >253</td>\n",
              "                        <td id=\"T_eb3b24ba_f175_11eb_9f18_0242ac1c0002row19_col11\" class=\"data row19 col11\" >250</td>\n",
              "                        <td id=\"T_eb3b24ba_f175_11eb_9f18_0242ac1c0002row19_col12\" class=\"data row19 col12\" >175</td>\n",
              "                        <td id=\"T_eb3b24ba_f175_11eb_9f18_0242ac1c0002row19_col13\" class=\"data row19 col13\" >25</td>\n",
              "                        <td id=\"T_eb3b24ba_f175_11eb_9f18_0242ac1c0002row19_col14\" class=\"data row19 col14\" >0</td>\n",
              "                        <td id=\"T_eb3b24ba_f175_11eb_9f18_0242ac1c0002row19_col15\" class=\"data row19 col15\" >0</td>\n",
              "                        <td id=\"T_eb3b24ba_f175_11eb_9f18_0242ac1c0002row19_col16\" class=\"data row19 col16\" >0</td>\n",
              "            </tr>\n",
              "            <tr>\n",
              "                        <th id=\"T_eb3b24ba_f175_11eb_9f18_0242ac1c0002level0_row20\" class=\"row_heading level0 row20\" >20</th>\n",
              "                        <td id=\"T_eb3b24ba_f175_11eb_9f18_0242ac1c0002row20_col0\" class=\"data row20 col0\" >0</td>\n",
              "                        <td id=\"T_eb3b24ba_f175_11eb_9f18_0242ac1c0002row20_col1\" class=\"data row20 col1\" >0</td>\n",
              "                        <td id=\"T_eb3b24ba_f175_11eb_9f18_0242ac1c0002row20_col2\" class=\"data row20 col2\" >187</td>\n",
              "                        <td id=\"T_eb3b24ba_f175_11eb_9f18_0242ac1c0002row20_col3\" class=\"data row20 col3\" >253</td>\n",
              "                        <td id=\"T_eb3b24ba_f175_11eb_9f18_0242ac1c0002row20_col4\" class=\"data row20 col4\" >253</td>\n",
              "                        <td id=\"T_eb3b24ba_f175_11eb_9f18_0242ac1c0002row20_col5\" class=\"data row20 col5\" >253</td>\n",
              "                        <td id=\"T_eb3b24ba_f175_11eb_9f18_0242ac1c0002row20_col6\" class=\"data row20 col6\" >253</td>\n",
              "                        <td id=\"T_eb3b24ba_f175_11eb_9f18_0242ac1c0002row20_col7\" class=\"data row20 col7\" >253</td>\n",
              "                        <td id=\"T_eb3b24ba_f175_11eb_9f18_0242ac1c0002row20_col8\" class=\"data row20 col8\" >253</td>\n",
              "                        <td id=\"T_eb3b24ba_f175_11eb_9f18_0242ac1c0002row20_col9\" class=\"data row20 col9\" >253</td>\n",
              "                        <td id=\"T_eb3b24ba_f175_11eb_9f18_0242ac1c0002row20_col10\" class=\"data row20 col10\" >197</td>\n",
              "                        <td id=\"T_eb3b24ba_f175_11eb_9f18_0242ac1c0002row20_col11\" class=\"data row20 col11\" >86</td>\n",
              "                        <td id=\"T_eb3b24ba_f175_11eb_9f18_0242ac1c0002row20_col12\" class=\"data row20 col12\" >0</td>\n",
              "                        <td id=\"T_eb3b24ba_f175_11eb_9f18_0242ac1c0002row20_col13\" class=\"data row20 col13\" >0</td>\n",
              "                        <td id=\"T_eb3b24ba_f175_11eb_9f18_0242ac1c0002row20_col14\" class=\"data row20 col14\" >0</td>\n",
              "                        <td id=\"T_eb3b24ba_f175_11eb_9f18_0242ac1c0002row20_col15\" class=\"data row20 col15\" >0</td>\n",
              "                        <td id=\"T_eb3b24ba_f175_11eb_9f18_0242ac1c0002row20_col16\" class=\"data row20 col16\" >0</td>\n",
              "            </tr>\n",
              "            <tr>\n",
              "                        <th id=\"T_eb3b24ba_f175_11eb_9f18_0242ac1c0002level0_row21\" class=\"row_heading level0 row21\" >21</th>\n",
              "                        <td id=\"T_eb3b24ba_f175_11eb_9f18_0242ac1c0002row21_col0\" class=\"data row21 col0\" >0</td>\n",
              "                        <td id=\"T_eb3b24ba_f175_11eb_9f18_0242ac1c0002row21_col1\" class=\"data row21 col1\" >0</td>\n",
              "                        <td id=\"T_eb3b24ba_f175_11eb_9f18_0242ac1c0002row21_col2\" class=\"data row21 col2\" >103</td>\n",
              "                        <td id=\"T_eb3b24ba_f175_11eb_9f18_0242ac1c0002row21_col3\" class=\"data row21 col3\" >253</td>\n",
              "                        <td id=\"T_eb3b24ba_f175_11eb_9f18_0242ac1c0002row21_col4\" class=\"data row21 col4\" >253</td>\n",
              "                        <td id=\"T_eb3b24ba_f175_11eb_9f18_0242ac1c0002row21_col5\" class=\"data row21 col5\" >253</td>\n",
              "                        <td id=\"T_eb3b24ba_f175_11eb_9f18_0242ac1c0002row21_col6\" class=\"data row21 col6\" >253</td>\n",
              "                        <td id=\"T_eb3b24ba_f175_11eb_9f18_0242ac1c0002row21_col7\" class=\"data row21 col7\" >253</td>\n",
              "                        <td id=\"T_eb3b24ba_f175_11eb_9f18_0242ac1c0002row21_col8\" class=\"data row21 col8\" >232</td>\n",
              "                        <td id=\"T_eb3b24ba_f175_11eb_9f18_0242ac1c0002row21_col9\" class=\"data row21 col9\" >67</td>\n",
              "                        <td id=\"T_eb3b24ba_f175_11eb_9f18_0242ac1c0002row21_col10\" class=\"data row21 col10\" >1</td>\n",
              "                        <td id=\"T_eb3b24ba_f175_11eb_9f18_0242ac1c0002row21_col11\" class=\"data row21 col11\" >0</td>\n",
              "                        <td id=\"T_eb3b24ba_f175_11eb_9f18_0242ac1c0002row21_col12\" class=\"data row21 col12\" >0</td>\n",
              "                        <td id=\"T_eb3b24ba_f175_11eb_9f18_0242ac1c0002row21_col13\" class=\"data row21 col13\" >0</td>\n",
              "                        <td id=\"T_eb3b24ba_f175_11eb_9f18_0242ac1c0002row21_col14\" class=\"data row21 col14\" >0</td>\n",
              "                        <td id=\"T_eb3b24ba_f175_11eb_9f18_0242ac1c0002row21_col15\" class=\"data row21 col15\" >0</td>\n",
              "                        <td id=\"T_eb3b24ba_f175_11eb_9f18_0242ac1c0002row21_col16\" class=\"data row21 col16\" >0</td>\n",
              "            </tr>\n",
              "    </tbody></table>"
            ],
            "text/plain": [
              "<pandas.io.formats.style.Styler at 0x7f96d4cd6c10>"
            ]
          },
          "metadata": {
            "tags": []
          },
          "execution_count": 10
        }
      ]
    },
    {
      "cell_type": "code",
      "metadata": {
        "id": "lkNgfjOFwkPH",
        "colab": {
          "base_uri": "https://localhost:8080/"
        },
        "outputId": "6f1eaa73-d229-4d82-bee2-28040fe5d073"
      },
      "source": [
        "three_tensors = [tensor(Image.open(o)) for o in threes]\n",
        "seven_tensors = [tensor(Image.open(o)) for o in sevens]\n",
        "len(three_tensors),len(seven_tensors)"
      ],
      "execution_count": 11,
      "outputs": [
        {
          "output_type": "execute_result",
          "data": {
            "text/plain": [
              "(6131, 6265)"
            ]
          },
          "metadata": {
            "tags": []
          },
          "execution_count": 11
        }
      ]
    },
    {
      "cell_type": "code",
      "metadata": {
        "colab": {
          "base_uri": "https://localhost:8080/"
        },
        "id": "GofD5vJVmaz7",
        "outputId": "8a0e8fae-efd5-4558-eb77-12e2c53c2548"
      },
      "source": [
        "three_tensors[1]"
      ],
      "execution_count": 12,
      "outputs": [
        {
          "output_type": "execute_result",
          "data": {
            "text/plain": [
              "tensor([[  0,   0,   0,   0,   0,   0,   0,   0,   0,   0,   0,   0,   0,   0,   0,   0,   0,   0,   0,   0,   0,   0,   0,   0,   0,   0,   0,   0],\n",
              "        [  0,   0,   0,   0,   0,   0,   0,   0,   0,   0,   0,   0,   0,   0,   0,   0,   0,   0,   0,   0,   0,   0,   0,   0,   0,   0,   0,   0],\n",
              "        [  0,   0,   0,   0,   0,   0,   0,   0,   0,   0,   0,   0,   0,   0,   0,   0,   0,   0,   0,   0,   0,   0,   0,   0,   0,   0,   0,   0],\n",
              "        [  0,   0,   0,   0,   0,   0,   0,   0,   0,   0,   0,   0,   0,   0,   0,   0,   0,   0,   0,   0,   0,   0,   0,   0,   0,   0,   0,   0],\n",
              "        [  0,   0,   0,   0,   0,   0,   0,   0,   0,   0,   0,   0,   0,   0,   0,   0,   0,   0,   0,   0,   0,   0,   0,   0,   0,   0,   0,   0],\n",
              "        [  0,   0,   0,   0,   0,   0,   0,   0,   0,  29, 150, 195, 254, 255, 254, 176, 193, 150,  96,   0,   0,   0,   0,   0,   0,   0,   0,   0],\n",
              "        [  0,   0,   0,   0,   0,   0,   0,  48, 166, 224, 253, 253, 234, 196, 253, 253, 253, 253, 233,   0,   0,   0,   0,   0,   0,   0,   0,   0],\n",
              "        [  0,   0,   0,   0,   0,  93, 244, 249, 253, 187,  46,  10,   8,   4,  10, 194, 253, 253, 233,   0,   0,   0,   0,   0,   0,   0,   0,   0],\n",
              "        [  0,   0,   0,   0,   0, 107, 253, 253, 230,  48,   0,   0,   0,   0,   0, 192, 253, 253, 156,   0,   0,   0,   0,   0,   0,   0,   0,   0],\n",
              "        [  0,   0,   0,   0,   0,   3,  20,  20,  15,   0,   0,   0,   0,   0,  43, 224, 253, 245,  74,   0,   0,   0,   0,   0,   0,   0,   0,   0],\n",
              "        [  0,   0,   0,   0,   0,   0,   0,   0,   0,   0,   0,   0,   0,   0, 249, 253, 245, 126,   0,   0,   0,   0,   0,   0,   0,   0,   0,   0],\n",
              "        [  0,   0,   0,   0,   0,   0,   0,   0,   0,   0,   0,  14, 101, 223, 253, 248, 124,   0,   0,   0,   0,   0,   0,   0,   0,   0,   0,   0],\n",
              "        [  0,   0,   0,   0,   0,   0,   0,   0,   0,  11, 166, 239, 253, 253, 253, 187,  30,   0,   0,   0,   0,   0,   0,   0,   0,   0,   0,   0],\n",
              "        [  0,   0,   0,   0,   0,   0,   0,   0,   0,  16, 248, 250, 253, 253, 253, 253, 232, 213, 111,   2,   0,   0,   0,   0,   0,   0,   0,   0],\n",
              "        [  0,   0,   0,   0,   0,   0,   0,   0,   0,   0,   0,  43,  98,  98, 208, 253, 253, 253, 253, 187,  22,   0,   0,   0,   0,   0,   0,   0],\n",
              "        [  0,   0,   0,   0,   0,   0,   0,   0,   0,   0,   0,   0,   0,   0,   9,  51, 119, 253, 253, 253,  76,   0,   0,   0,   0,   0,   0,   0],\n",
              "        [  0,   0,   0,   0,   0,   0,   0,   0,   0,   0,   0,   0,   0,   0,   0,   0,   1, 183, 253, 253, 139,   0,   0,   0,   0,   0,   0,   0],\n",
              "        [  0,   0,   0,   0,   0,   0,   0,   0,   0,   0,   0,   0,   0,   0,   0,   0,   0, 182, 253, 253, 104,   0,   0,   0,   0,   0,   0,   0],\n",
              "        [  0,   0,   0,   0,   0,   0,   0,   0,   0,   0,   0,   0,   0,   0,   0,   0,  85, 249, 253, 253,  36,   0,   0,   0,   0,   0,   0,   0],\n",
              "        [  0,   0,   0,   0,   0,   0,   0,   0,   0,   0,   0,   0,   0,   0,   0,  60, 214, 253, 253, 173,  11,   0,   0,   0,   0,   0,   0,   0],\n",
              "        [  0,   0,   0,   0,   0,   0,   0,   0,   0,   0,   0,   0,   0,   0,  98, 247, 253, 253, 226,   9,   0,   0,   0,   0,   0,   0,   0,   0],\n",
              "        [  0,   0,   0,   0,   0,   0,   0,   0,   0,   0,   0,   0,  42, 150, 252, 253, 253, 233,  53,   0,   0,   0,   0,   0,   0,   0,   0,   0],\n",
              "        [  0,   0,   0,   0,   0,   0,  42, 115,  42,  60, 115, 159, 240, 253, 253, 250, 175,  25,   0,   0,   0,   0,   0,   0,   0,   0,   0,   0],\n",
              "        [  0,   0,   0,   0,   0,   0, 187, 253, 253, 253, 253, 253, 253, 253, 197,  86,   0,   0,   0,   0,   0,   0,   0,   0,   0,   0,   0,   0],\n",
              "        [  0,   0,   0,   0,   0,   0, 103, 253, 253, 253, 253, 253, 232,  67,   1,   0,   0,   0,   0,   0,   0,   0,   0,   0,   0,   0,   0,   0],\n",
              "        [  0,   0,   0,   0,   0,   0,   0,   0,   0,   0,   0,   0,   0,   0,   0,   0,   0,   0,   0,   0,   0,   0,   0,   0,   0,   0,   0,   0],\n",
              "        [  0,   0,   0,   0,   0,   0,   0,   0,   0,   0,   0,   0,   0,   0,   0,   0,   0,   0,   0,   0,   0,   0,   0,   0,   0,   0,   0,   0],\n",
              "        [  0,   0,   0,   0,   0,   0,   0,   0,   0,   0,   0,   0,   0,   0,   0,   0,   0,   0,   0,   0,   0,   0,   0,   0,   0,   0,   0,   0]], dtype=torch.uint8)"
            ]
          },
          "metadata": {
            "tags": []
          },
          "execution_count": 12
        }
      ]
    },
    {
      "cell_type": "code",
      "metadata": {
        "colab": {
          "base_uri": "https://localhost:8080/",
          "height": 102
        },
        "id": "1y2tbotMmtpi",
        "outputId": "b38f6552-e120-4b3c-b746-80eead973a66"
      },
      "source": [
        "show_image(three_tensors[1])"
      ],
      "execution_count": 13,
      "outputs": [
        {
          "output_type": "execute_result",
          "data": {
            "text/plain": [
              "<matplotlib.axes._subplots.AxesSubplot at 0x7f96d4cef290>"
            ]
          },
          "metadata": {
            "tags": []
          },
          "execution_count": 13
        },
        {
          "output_type": "display_data",
          "data": {
            "image/png": "[encoded data removed]",
            "text/plain": [
              "<Figure size 72x72 with 1 Axes>"
            ]
          },
          "metadata": {
            "tags": [],
            "needs_background": "light"
          }
        }
      ]
    },
    {
      "cell_type": "code",
      "metadata": {
        "colab": {
          "base_uri": "https://localhost:8080/"
        },
        "id": "ILKKupwtm2Pn",
        "outputId": "d4ef7680-8a1c-4484-b2f2-3480e8a5d0c5"
      },
      "source": [
        "stacked_threes = torch.stack(three_tensors).float()/255\n",
        "stacked_sevens = torch.stack(seven_tensors).float()/255\n",
        "stacked_threes.shape,stacked_sevens.shape"
      ],
      "execution_count": 14,
      "outputs": [
        {
          "output_type": "execute_result",
          "data": {
            "text/plain": [
              "(torch.Size([6131, 28, 28]), torch.Size([6265, 28, 28]))"
            ]
          },
          "metadata": {
            "tags": []
          },
          "execution_count": 14
        }
      ]
    },
    {
      "cell_type": "code",
      "metadata": {
        "colab": {
          "base_uri": "https://localhost:8080/",
          "height": 102
        },
        "id": "PRFolYHonai6",
        "outputId": "d9fe9892-ad74-4f8a-988b-5dcece8153ec"
      },
      "source": [
        "show_image(stacked_threes.mean(0))"
      ],
      "execution_count": 15,
      "outputs": [
        {
          "output_type": "execute_result",
          "data": {
            "text/plain": [
              "<matplotlib.axes._subplots.AxesSubplot at 0x7f96d46924d0>"
            ]
          },
          "metadata": {
            "tags": []
          },
          "execution_count": 15
        },
        {
          "output_type": "display_data",
          "data": {
            "image/png": "[encoded data removed]",
            "text/plain": [
              "<Figure size 72x72 with 1 Axes>"
            ]
          },
          "metadata": {
            "tags": [],
            "needs_background": "light"
          }
        }
      ]
    },
    {
      "cell_type": "code",
      "metadata": {
        "id": "fzaYN9UqnmQl"
      },
      "source": [
        "mean3 = stacked_threes.mean(0)\n",
        "mean7 = stacked_sevens.mean(0)"
      ],
      "execution_count": 16,
      "outputs": []
    },
    {
      "cell_type": "markdown",
      "metadata": {
        "id": "OrkikWd_qdnQ"
      },
      "source": [
        "## Checking distance of a 3 image from mean3 & mean7.\n",
        "- We can use this 2 ways, absolute distance & RMSE\n",
        "- RMSE will penalize bigger mistakes more heavily than the absolute loss."
      ]
    },
    {
      "cell_type": "code",
      "metadata": {
        "colab": {
          "base_uri": "https://localhost:8080/"
        },
        "id": "8l5cWlopqbxp",
        "outputId": "2e40655b-1863-4d38-d7fb-1684d2525c9b"
      },
      "source": [
        "a_3 = stacked_threes[1]\n",
        "a_7 = stacked_sevens[1]\n",
        "dist_3_abs = (a_3 - mean3).abs().mean()\n",
        "dist_3_sqr = ((a_3 - mean3)**2).mean().sqrt()\n",
        "print('Absolute distance from mean3:',dist_3_abs,'\\nRMSE distance from mean3:',dist_3_sqr)"
      ],
      "execution_count": 17,
      "outputs": [
        {
          "output_type": "stream",
          "text": [
            "Absolute distance from mean3: tensor(0.1114) \n",
            "RMSE distance from mean3: tensor(0.2021)\n"
          ],
          "name": "stdout"
        }
      ]
    },
    {
      "cell_type": "code",
      "metadata": {
        "colab": {
          "base_uri": "https://localhost:8080/"
        },
        "id": "7SeFuUJRqrmM",
        "outputId": "8a5be561-080d-4e95-cf80-6d01d8a115bc"
      },
      "source": [
        "dist_7_abs = (stacked_threes[1] - mean7).abs().mean()\n",
        "dist_7_sqr = ((stacked_threes[1] - mean7)**2).mean().sqrt()\n",
        "dist_7_abs,dist_7_sqr\n",
        "print('Absolute distance from mean7:',dist_7_abs,'\\nRMSE distance from mean7:',dist_7_sqr)"
      ],
      "execution_count": 18,
      "outputs": [
        {
          "output_type": "stream",
          "text": [
            "Absolute distance from mean7: tensor(0.1586) \n",
            "RMSE distance from mean7: tensor(0.3021)\n"
          ],
          "name": "stdout"
        }
      ]
    },
    {
      "cell_type": "markdown",
      "metadata": {
        "id": "mmpS5_UDrV-y"
      },
      "source": [
        "- In both type of distance, we can see that image 3 is closer to mean3 than mean7. We can say that image 3 is more likely a image of 3 than an image of 7."
      ]
    },
    {
      "cell_type": "code",
      "metadata": {
        "colab": {
          "base_uri": "https://localhost:8080/"
        },
        "id": "rHn41XhPrRN-",
        "outputId": "2cc1a752-6107-4e70-9fc6-084840e770ae"
      },
      "source": [
        "# Absolute distance(L1) & RMSE(L2) distance is inbuilt in Pythorch & generally imported as 'F'(Fastai imports that as F aswell)\n",
        "F.l1_loss(stacked_threes[1].float(),mean7), F.mse_loss(stacked_threes[1],mean7).sqrt()"
      ],
      "execution_count": 19,
      "outputs": [
        {
          "output_type": "execute_result",
          "data": {
            "text/plain": [
              "(tensor(0.1586), tensor(0.3021))"
            ]
          },
          "metadata": {
            "tags": []
          },
          "execution_count": 19
        }
      ]
    },
    {
      "cell_type": "code",
      "metadata": {
        "id": "zBhvAr9tq2h_",
        "colab": {
          "base_uri": "https://localhost:8080/"
        },
        "outputId": "3c10fac5-7eee-4e8a-a761-a7dbdb74419c"
      },
      "source": [
        "# Building tensor for validation dataset (test dataset)\n",
        "valid_3_tens = torch.stack([tensor(Image.open(o)) for o in (path/'valid'/'3').ls()])\n",
        "valid_3_tens = valid_3_tens.float()/255\n",
        "valid_7_tens = torch.stack([tensor(Image.open(o)) for o in (path/'valid'/'7').ls()])\n",
        "valid_7_tens = valid_7_tens.float()/255\n",
        "valid_3_tens.shape,valid_7_tens.shape"
      ],
      "execution_count": 20,
      "outputs": [
        {
          "output_type": "execute_result",
          "data": {
            "text/plain": [
              "(torch.Size([1010, 28, 28]), torch.Size([1028, 28, 28]))"
            ]
          },
          "metadata": {
            "tags": []
          },
          "execution_count": 20
        }
      ]
    },
    {
      "cell_type": "code",
      "metadata": {
        "colab": {
          "base_uri": "https://localhost:8080/"
        },
        "id": "PI2FWoExLaRx",
        "outputId": "d0acbb83-6d1a-4fdc-8464-c91e31005431"
      },
      "source": [
        "# doing same as dist_3_abs/l1 loss, but building a custom function to demonstrate + it can use broadcasting to calculate all images in stacked_threes or valid_3\n",
        "def mnist_distance(a,b): return (a-b).abs().mean((-1,-2))\n",
        "mnist_distance(a_3, mean3)"
      ],
      "execution_count": 21,
      "outputs": [
        {
          "output_type": "execute_result",
          "data": {
            "text/plain": [
              "tensor(0.1114)"
            ]
          },
          "metadata": {
            "tags": []
          },
          "execution_count": 21
        }
      ]
    },
    {
      "cell_type": "code",
      "metadata": {
        "colab": {
          "base_uri": "https://localhost:8080/"
        },
        "id": "E6s9qhf-NMuP",
        "outputId": "d0c516c4-8afa-47c0-e8fe-f596710d1e0c"
      },
      "source": [
        "valid_3_tens.shape, mean3.shape"
      ],
      "execution_count": 22,
      "outputs": [
        {
          "output_type": "execute_result",
          "data": {
            "text/plain": [
              "(torch.Size([1010, 28, 28]), torch.Size([28, 28]))"
            ]
          },
          "metadata": {
            "tags": []
          },
          "execution_count": 22
        }
      ]
    },
    {
      "cell_type": "code",
      "metadata": {
        "colab": {
          "base_uri": "https://localhost:8080/"
        },
        "id": "sm29_-EXMA0Z",
        "outputId": "0e87a2aa-6fa0-4197-c1a7-389eb8586c5d"
      },
      "source": [
        "# this is cool, we sent a tensor as a & b dimenssion is different as you can see above\n",
        "valid_3_dist = mnist_distance(valid_3_tens, mean3)\n",
        "valid_3_dist, valid_3_dist.shape"
      ],
      "execution_count": 23,
      "outputs": [
        {
          "output_type": "execute_result",
          "data": {
            "text/plain": [
              "(tensor([0.1087, 0.1091, 0.1252,  ..., 0.1309, 0.1159, 0.1464]),\n",
              " torch.Size([1010]))"
            ]
          },
          "metadata": {
            "tags": []
          },
          "execution_count": 23
        }
      ]
    },
    {
      "cell_type": "code",
      "metadata": {
        "colab": {
          "base_uri": "https://localhost:8080/"
        },
        "id": "LM89ePzJM4S-",
        "outputId": "9f683377-34a5-494f-dec4-cec46caeeccc"
      },
      "source": [
        "(valid_3_tens-mean3).shape # see how 28*28 becomes 1010*28*28"
      ],
      "execution_count": 24,
      "outputs": [
        {
          "output_type": "execute_result",
          "data": {
            "text/plain": [
              "torch.Size([1010, 28, 28])"
            ]
          },
          "metadata": {
            "tags": []
          },
          "execution_count": 24
        }
      ]
    },
    {
      "cell_type": "code",
      "metadata": {
        "id": "nCMoIIyvNnBb"
      },
      "source": [
        "# if distance is less from mean3=>true, else false\n",
        "def is_3(x): return mnist_distance(x,mean3) < mnist_distance(x,mean7)"
      ],
      "execution_count": 25,
      "outputs": []
    },
    {
      "cell_type": "code",
      "metadata": {
        "colab": {
          "base_uri": "https://localhost:8080/"
        },
        "id": "0bcp35dmO0Zz",
        "outputId": "47ee5466-64bd-4177-a0ef-ce57f3018b29"
      },
      "source": [
        "is_3(a_3), is_3(a_3).float()"
      ],
      "execution_count": 26,
      "outputs": [
        {
          "output_type": "execute_result",
          "data": {
            "text/plain": [
              "(tensor(True), tensor(1.))"
            ]
          },
          "metadata": {
            "tags": []
          },
          "execution_count": 26
        }
      ]
    },
    {
      "cell_type": "code",
      "metadata": {
        "id": "XmQJMBAuO5Uv",
        "colab": {
          "base_uri": "https://localhost:8080/"
        },
        "outputId": "53429e30-8c59-4343-c4a8-0f191de63544"
      },
      "source": [
        "# Checking accuracy of model in validity dataset\n",
        "accuracy_3s = is_3(valid_3_tens).float().mean()\n",
        "accuracy_7s = 1-is_3(valid_7_tens).float().mean()\n",
        "accuracy_3s,accuracy_7s,(accuracy_3s+accuracy_7s)/2"
      ],
      "execution_count": 27,
      "outputs": [
        {
          "output_type": "execute_result",
          "data": {
            "text/plain": [
              "(tensor(0.9168), tensor(0.9854), tensor(0.9511))"
            ]
          },
          "metadata": {
            "tags": []
          },
          "execution_count": 27
        }
      ]
    },
    {
      "cell_type": "markdown",
      "metadata": {
        "id": "8mWvdUhs5i_2"
      },
      "source": [
        "## Not a Neural Network so far\n",
        "- We have so far got mean of pixels of an image of 3. Then we checked the pixel similarity to classify images to 3 & 7.\n",
        "- Model is not learning itself & there is no way to improve itself.\n",
        "- We have not yet used weights, activation funtion or gradient descent to update weight.\n",
        "- We are only using a distance metric to measure validity image from ideal mean image."
      ]
    },
    {
      "cell_type": "markdown",
      "metadata": {
        "id": "PZ0lKkzrGa8_"
      },
      "source": [
        "## Using Neural Network"
      ]
    },
    {
      "cell_type": "markdown",
      "metadata": {
        "id": "bPu48MtPKjEA"
      },
      "source": [
        "### Preparing Data for pytorch"
      ]
    },
    {
      "cell_type": "code",
      "metadata": {
        "colab": {
          "base_uri": "https://localhost:8080/"
        },
        "id": "gh-swoOw5BU-",
        "outputId": "d888a61b-9955-4ac9-de24-a6f477a600c9"
      },
      "source": [
        "train_x = torch.cat([stacked_threes, stacked_sevens]).view(-1, 28*28) # just concating 3 & 7 matrix\n",
        "train_y = tensor([1]*len(threes) + [0]*len(sevens)).unsqueeze(1) # label 1 & 0 for classifying 3\n",
        "\n",
        "train_x.shape,train_y.shape"
      ],
      "execution_count": 28,
      "outputs": [
        {
          "output_type": "execute_result",
          "data": {
            "text/plain": [
              "(torch.Size([12396, 784]), torch.Size([12396, 1]))"
            ]
          },
          "metadata": {
            "tags": []
          },
          "execution_count": 28
        }
      ]
    },
    {
      "cell_type": "code",
      "metadata": {
        "colab": {
          "base_uri": "https://localhost:8080/"
        },
        "id": "cU16nWyoGlf1",
        "outputId": "42488614-8f97-489e-b046-8d624b5eebe9"
      },
      "source": [
        "dset = list(zip(train_x,train_y)) # dataset in pytorch required to feed in this format\n",
        "x,y = dset[0]\n",
        "x.shape,y"
      ],
      "execution_count": 29,
      "outputs": [
        {
          "output_type": "execute_result",
          "data": {
            "text/plain": [
              "(torch.Size([784]), tensor([1]))"
            ]
          },
          "metadata": {
            "tags": []
          },
          "execution_count": 29
        }
      ]
    },
    {
      "cell_type": "code",
      "metadata": {
        "id": "iwoK15zJIQJM"
      },
      "source": [
        "# Doing same for validity set\n",
        "valid_x = torch.cat([valid_3_tens, valid_7_tens]).view(-1, 28*28)\n",
        "valid_y = tensor([1]*len(valid_3_tens) + [0]*len(valid_7_tens)).unsqueeze(1)\n",
        "\n",
        "valid_dset = list(zip(valid_x,valid_y)) # Pytorch Standard dataset that dataloader expects"
      ],
      "execution_count": 30,
      "outputs": []
    },
    {
      "cell_type": "code",
      "metadata": {
        "colab": {
          "base_uri": "https://localhost:8080/"
        },
        "id": "Rz7Yt5qlRoVQ",
        "outputId": "c3954a19-4dc2-49d4-f798-d19212731010"
      },
      "source": [
        "dl = DataLoader(dset, batch_size=256) # dset already in (x,y) format, dataloader creates 256 mini batches\n",
        "valid_dl = DataLoader(valid_dset, batch_size=256) # same for validity dataset\n",
        "\n",
        "xb,yb = first(dl)\n",
        "xb.shape,yb.shape"
      ],
      "execution_count": 31,
      "outputs": [
        {
          "output_type": "execute_result",
          "data": {
            "text/plain": [
              "(torch.Size([256, 784]), torch.Size([256, 1]))"
            ]
          },
          "metadata": {
            "tags": []
          },
          "execution_count": 31
        }
      ]
    },
    {
      "cell_type": "markdown",
      "metadata": {
        "id": "bXle5HMSKrY0"
      },
      "source": [
        "### Manually doing some stuffs to show how that would be working in pytorch"
      ]
    },
    {
      "cell_type": "markdown",
      "metadata": {
        "id": "a9vPN4hb0mYP"
      },
      "source": [
        "#### Putting together all function we are gonna use"
      ]
    },
    {
      "cell_type": "code",
      "metadata": {
        "id": "tBcTipymJExu"
      },
      "source": [
        "# creating function to initialize parameter using a function\n",
        "def init_params(size, std=1.0): return (torch.randn(size)*std).requires_grad_()\n",
        "\n",
        "# a single neuron (Pytorch got `nn.Linear` function that'll replace init_params too)\n",
        "def linear1(xb): return xb@weights + bias # @ used for matrix multiplication\n",
        "\n",
        "# Loss function that we'll be used in optimization step(Gradient descent)\n",
        "def mnist_loss(predictions, targets):\n",
        " predictions = predictions.sigmoid()\n",
        " return torch.where(targets==1, 1-predictions, predictions).mean()\n",
        "\n",
        "# gradient calculation\n",
        "def calc_grad(xb, yb, model):\n",
        " preds = model(xb)\n",
        " loss = mnist_loss(preds, yb)\n",
        " loss.backward()\n",
        "\n",
        "# call calc_grad, update bias & repeat for epoch no of time\n",
        "def train_epoch(model, lr, params):\n",
        "  for xb,yb in dl:\n",
        "    calc_grad(xb, yb, model)\n",
        "    for p in params:\n",
        "      p.data -= p.grad*lr\n",
        "      p.grad.zero_()\n",
        "\n",
        "# accuracy of model for validation dataset(a single batch)\n",
        "def batch_accuracy(xb, yb):\n",
        " preds = xb.sigmoid()\n",
        " correct = (preds>0.5) == yb\n",
        " return correct.float().mean()\n",
        "\n",
        "# pass all batches to batch_accuracy function to calculate accuracy of all batches\n",
        "def validate_epoch(model):\n",
        " accs = [batch_accuracy(model(xb), yb) for xb,yb in valid_dl]\n",
        " return round(torch.stack(accs).mean().item(), 4)"
      ],
      "execution_count": 32,
      "outputs": []
    },
    {
      "cell_type": "code",
      "metadata": {
        "colab": {
          "base_uri": "https://localhost:8080/"
        },
        "id": "95oXx2it28LS",
        "outputId": "f208599b-95b2-4df9-96ae-2c8dfc9bf75a"
      },
      "source": [
        "weights = init_params((28*28,1))\n",
        "bias = init_params(1)\n",
        "weights.shape,bias.shape"
      ],
      "execution_count": 33,
      "outputs": [
        {
          "output_type": "execute_result",
          "data": {
            "text/plain": [
              "(torch.Size([784, 1]), torch.Size([1]))"
            ]
          },
          "metadata": {
            "tags": []
          },
          "execution_count": 33
        }
      ]
    },
    {
      "cell_type": "code",
      "metadata": {
        "colab": {
          "base_uri": "https://localhost:8080/"
        },
        "id": "LBAGLee9Iq0f",
        "outputId": "5ec34533-5f09-4561-983a-758d2ff7da83"
      },
      "source": [
        "# Predicting for single training example\n",
        "(train_x[0]*weights.T).sum() + bias # predictiong with initial parameter i.e random"
      ],
      "execution_count": 34,
      "outputs": [
        {
          "output_type": "execute_result",
          "data": {
            "text/plain": [
              "tensor([1.1245], grad_fn=<AddBackward0>)"
            ]
          },
          "metadata": {
            "tags": []
          },
          "execution_count": 34
        }
      ]
    },
    {
      "cell_type": "code",
      "metadata": {
        "colab": {
          "base_uri": "https://localhost:8080/"
        },
        "id": "NpScvB7M0c5A",
        "outputId": "02c2305e-833d-4e72-acbf-d4b012b2cdb3"
      },
      "source": [
        "preds = linear1(train_x)\n",
        "preds"
      ],
      "execution_count": 35,
      "outputs": [
        {
          "output_type": "execute_result",
          "data": {
            "text/plain": [
              "tensor([[ 1.1245],\n",
              "        [-0.6244],\n",
              "        [-1.7694],\n",
              "        ...,\n",
              "        [-5.7155],\n",
              "        [ 6.7712],\n",
              "        [ 1.7582]], grad_fn=<AddBackward0>)"
            ]
          },
          "metadata": {
            "tags": []
          },
          "execution_count": 35
        }
      ]
    },
    {
      "cell_type": "code",
      "metadata": {
        "id": "Dxu_tx--JQ9G",
        "colab": {
          "base_uri": "https://localhost:8080/"
        },
        "outputId": "4c8f6937-29bc-45ee-9aa5-2e53de82e7ae"
      },
      "source": [
        "corrects = (preds>0.0).float() == train_y\n",
        "corrects.float().mean().item() # gettting 53% accuracy in random initialization(in next run it'll change though)"
      ],
      "execution_count": 36,
      "outputs": [
        {
          "output_type": "execute_result",
          "data": {
            "text/plain": [
              "0.48297837376594543"
            ]
          },
          "metadata": {
            "tags": []
          },
          "execution_count": 36
        }
      ]
    },
    {
      "cell_type": "code",
      "metadata": {
        "colab": {
          "base_uri": "https://localhost:8080/"
        },
        "id": "tyYrvcHBSq37",
        "outputId": "6eace292-d282-43de-e5ac-37ff4fc2e741"
      },
      "source": [
        "# trying it with a sample before running it in whole batch\n",
        "batch = train_x[:4]\n",
        "calc_grad(batch, train_y[:4], linear1)\n",
        "weights.grad.mean(),bias.grad"
      ],
      "execution_count": 37,
      "outputs": [
        {
          "output_type": "execute_result",
          "data": {
            "text/plain": [
              "(tensor(-0.0192), tensor([-0.1342]))"
            ]
          },
          "metadata": {
            "tags": []
          },
          "execution_count": 37
        }
      ]
    },
    {
      "cell_type": "code",
      "metadata": {
        "id": "k5QA0GASTG-h"
      },
      "source": [
        "# because if we calculate gradient again, it'll add it to previously calculated gradient, so we set gradient to zero after using it\n",
        "weights.grad.zero_()\n",
        "bias.grad.zero_();"
      ],
      "execution_count": 38,
      "outputs": []
    },
    {
      "cell_type": "code",
      "metadata": {
        "colab": {
          "base_uri": "https://localhost:8080/"
        },
        "id": "20GcplDExO2U",
        "outputId": "6b558ea4-455e-42d2-b604-4dcaec2c2ec2"
      },
      "source": [
        "validate_epoch(linear1)"
      ],
      "execution_count": 39,
      "outputs": [
        {
          "output_type": "execute_result",
          "data": {
            "text/plain": [
              "0.516"
            ]
          },
          "metadata": {
            "tags": []
          },
          "execution_count": 39
        }
      ]
    },
    {
      "cell_type": "code",
      "metadata": {
        "colab": {
          "base_uri": "https://localhost:8080/"
        },
        "id": "IBSe20eWxl1F",
        "outputId": "4e65b1e2-17f5-4141-b9b5-dd38e60660e9"
      },
      "source": [
        "lr = 1.\n",
        "params = weights,bias\n",
        "for i in range(20):\n",
        " train_epoch(linear1, lr, params)\n",
        " print(validate_epoch(linear1), end=' ')"
      ],
      "execution_count": 40,
      "outputs": [
        {
          "output_type": "stream",
          "text": [
            "0.6258 0.7894 0.8978 0.9271 0.9398 0.9486 0.9549 0.9613 0.9643 0.9657 0.9667 0.9687 0.9687 0.9711 0.9726 0.9735 0.9745 0.975 0.975 0.975 "
          ],
          "name": "stdout"
        }
      ]
    },
    {
      "cell_type": "markdown",
      "metadata": {
        "id": "iE-fXiy1Og2T"
      },
      "source": [
        "### Doing it Pytorch way"
      ]
    },
    {
      "cell_type": "code",
      "metadata": {
        "id": "dm63ae5YOvMC",
        "colab": {
          "base_uri": "https://localhost:8080/"
        },
        "outputId": "f3e26ff0-aeb9-4eaf-c62d-bfc4f01a1e6f"
      },
      "source": [
        "# this will initialize biases & create linear model i.e a single neuron's function\n",
        "linear_model = nn.Linear(28*28,1)\n",
        "\n",
        "# to see the parameters\n",
        "w,b = linear_model.parameters()\n",
        "w.shape,b.shape"
      ],
      "execution_count": 41,
      "outputs": [
        {
          "output_type": "execute_result",
          "data": {
            "text/plain": [
              "(torch.Size([1, 784]), torch.Size([1]))"
            ]
          },
          "metadata": {
            "tags": []
          },
          "execution_count": 41
        }
      ]
    },
    {
      "cell_type": "code",
      "metadata": {
        "colab": {
          "base_uri": "https://localhost:8080/"
        },
        "id": "me5b5N5t3vq2",
        "outputId": "74249865-779c-4192-db50-951b03bee574"
      },
      "source": [
        "# training single instance\n",
        "def train_epoch(model, opt):\n",
        " for xb,yb in dl:\n",
        "  calc_grad(xb, yb, model)\n",
        "  opt.step()\n",
        "  opt.zero_grad()\n",
        "\n",
        "# training epoch no of times\n",
        "def train_model(model, opt, epochs):\n",
        " for i in range(epochs):\n",
        "  train_epoch(model, opt)\n",
        "  print(validate_epoch(model), end=' ')\n",
        "\n",
        "# Pytorch's optimization function\n",
        "opt_pytorch = SGD(linear_model.parameters(), lr) # lr is learning rate we defined previously\n",
        "\n",
        "train_model(linear_model, opt_pytorch, 20) # pass model, optimization function, no of epoch"
      ],
      "execution_count": 42,
      "outputs": [
        {
          "output_type": "stream",
          "text": [
            "0.4932 0.832 0.8452 0.9126 0.9341 0.9473 0.9561 0.9634 0.9663 0.9678 0.9692 0.9727 0.9746 0.9751 0.9756 0.9766 0.978 0.978 0.978 0.979 "
          ],
          "name": "stdout"
        }
      ]
    },
    {
      "cell_type": "markdown",
      "metadata": {
        "id": "jm2_0XKS5T07"
      },
      "source": [
        "#### SGD function explained"
      ]
    },
    {
      "cell_type": "code",
      "metadata": {
        "colab": {
          "base_uri": "https://localhost:8080/"
        },
        "id": "DqR2ZoXx41E6",
        "outputId": "4c2032ac-dbac-4aa2-c6b8-1f9f5c23b7fd"
      },
      "source": [
        "# something similar to pytorch's SGD class\n",
        "class BasicOptim:\n",
        " def __init__(self,params,lr):\n",
        "   self.params,self.lr = list(params),lr\n",
        " def step(self, *args, **kwargs):\n",
        "  for p in self.params:\n",
        "    p.data -= p.grad.data * self.lr\n",
        " def zero_grad(self, *args, **kwargs):\n",
        "  for p in self.params:\n",
        "    p.grad = None\n",
        "\n",
        "opt_manual = BasicOptim(linear_model.parameters(), lr)\n",
        "train_model(linear_model, opt_manual, 20)"
      ],
      "execution_count": 43,
      "outputs": [
        {
          "output_type": "stream",
          "text": [
            "0.979 0.979 0.9795 0.9795 0.9795 0.98 0.98 0.98 0.9805 0.9819 0.9819 0.9814 0.9809 0.9809 0.9814 0.9814 0.9814 0.9814 0.9814 0.9814 "
          ],
          "name": "stdout"
        }
      ]
    },
    {
      "cell_type": "markdown",
      "metadata": {
        "id": "lvYC_wgChSdl"
      },
      "source": [
        "#### Fast.ai's builtin train_model\n",
        "- There is a train_model equivalent in fast.ai\n",
        "- for that we have to pass dataloader in (train_dl,  validity_dl) format"
      ]
    },
    {
      "cell_type": "code",
      "metadata": {
        "colab": {
          "base_uri": "https://localhost:8080/",
          "height": 359
        },
        "id": "2lYC3uErhA6g",
        "outputId": "0458556a-8925-49cb-d7d2-222bb793da7c"
      },
      "source": [
        "dls = DataLoaders(dl, valid_dl)\n",
        "learn = Learner(dls, nn.Linear(28*28,1), opt_func=SGD, loss_func=mnist_loss, metrics=batch_accuracy) # Fastai module `Learner`\n",
        "# help(Learner)\n",
        "learn.fit(10, lr=1.)"
      ],
      "execution_count": 44,
      "outputs": [
        {
          "output_type": "display_data",
          "data": {
            "text/html": [
              "<table border=\"1\" class=\"dataframe\">\n",
              "  <thead>\n",
              "    <tr style=\"text-align: left;\">\n",
              "      <th>epoch</th>\n",
              "      <th>train_loss</th>\n",
              "      <th>valid_loss</th>\n",
              "      <th>batch_accuracy</th>\n",
              "      <th>time</th>\n",
              "    </tr>\n",
              "  </thead>\n",
              "  <tbody>\n",
              "    <tr>\n",
              "      <td>0</td>\n",
              "      <td>0.637478</td>\n",
              "      <td>0.503399</td>\n",
              "      <td>0.495584</td>\n",
              "      <td>00:00</td>\n",
              "    </tr>\n",
              "    <tr>\n",
              "      <td>1</td>\n",
              "      <td>0.502230</td>\n",
              "      <td>0.199542</td>\n",
              "      <td>0.827282</td>\n",
              "      <td>00:00</td>\n",
              "    </tr>\n",
              "    <tr>\n",
              "      <td>2</td>\n",
              "      <td>0.185145</td>\n",
              "      <td>0.176325</td>\n",
              "      <td>0.842002</td>\n",
              "      <td>00:00</td>\n",
              "    </tr>\n",
              "    <tr>\n",
              "      <td>3</td>\n",
              "      <td>0.081415</td>\n",
              "      <td>0.105493</td>\n",
              "      <td>0.911187</td>\n",
              "      <td>00:00</td>\n",
              "    </tr>\n",
              "    <tr>\n",
              "      <td>4</td>\n",
              "      <td>0.043236</td>\n",
              "      <td>0.077144</td>\n",
              "      <td>0.934249</td>\n",
              "      <td>00:00</td>\n",
              "    </tr>\n",
              "    <tr>\n",
              "      <td>5</td>\n",
              "      <td>0.028342</td>\n",
              "      <td>0.061795</td>\n",
              "      <td>0.947988</td>\n",
              "      <td>00:00</td>\n",
              "    </tr>\n",
              "    <tr>\n",
              "      <td>6</td>\n",
              "      <td>0.022222</td>\n",
              "      <td>0.052272</td>\n",
              "      <td>0.957311</td>\n",
              "      <td>00:00</td>\n",
              "    </tr>\n",
              "    <tr>\n",
              "      <td>7</td>\n",
              "      <td>0.019504</td>\n",
              "      <td>0.045968</td>\n",
              "      <td>0.962709</td>\n",
              "      <td>00:00</td>\n",
              "    </tr>\n",
              "    <tr>\n",
              "      <td>8</td>\n",
              "      <td>0.018131</td>\n",
              "      <td>0.041550</td>\n",
              "      <td>0.965653</td>\n",
              "      <td>00:00</td>\n",
              "    </tr>\n",
              "    <tr>\n",
              "      <td>9</td>\n",
              "      <td>0.017311</td>\n",
              "      <td>0.038295</td>\n",
              "      <td>0.968106</td>\n",
              "      <td>00:00</td>\n",
              "    </tr>\n",
              "  </tbody>\n",
              "</table>"
            ],
            "text/plain": [
              "<IPython.core.display.HTML object>"
            ]
          },
          "metadata": {
            "tags": []
          }
        }
      ]
    },
    {
      "cell_type": "markdown",
      "metadata": {
        "id": "8TWDiejCB_vr"
      },
      "source": [
        "**As you can see, there’s nothing magic about the PyTorch and fastai classes. They are just convenient prepackaged pieces that make your life a bit easier**"
      ]
    },
    {
      "cell_type": "markdown",
      "metadata": {
        "id": "S2fweQoACsGZ"
      },
      "source": [
        "## So far model is linear\n",
        "\n",
        "- Adding non-linearity\n",
        "- Why do we need to add non-linearity?(ans later)"
      ]
    },
    {
      "cell_type": "code",
      "metadata": {
        "colab": {
          "base_uri": "https://localhost:8080/",
          "height": 1000
        },
        "id": "Xwn5SNiQFwQA",
        "outputId": "0008ecc2-fa37-4cf1-8183-ef2401147402"
      },
      "source": [
        "# building a custom neuron\n",
        "simple_net = nn.Sequential(\n",
        " nn.Linear(28*28,30),\n",
        " nn.ReLU(),\n",
        " nn.Linear(30,1)\n",
        ")\n",
        "\n",
        "learn = Learner(dls, simple_net, opt_func=SGD, loss_func=mnist_loss, metrics=batch_accuracy)\n",
        "learn.fit(40, lr=0.1) # we have taken learning rate low than previously, so 40 epoch for good response"
      ],
      "execution_count": 45,
      "outputs": [
        {
          "output_type": "display_data",
          "data": {
            "text/html": [
              "<table border=\"1\" class=\"dataframe\">\n",
              "  <thead>\n",
              "    <tr style=\"text-align: left;\">\n",
              "      <th>epoch</th>\n",
              "      <th>train_loss</th>\n",
              "      <th>valid_loss</th>\n",
              "      <th>batch_accuracy</th>\n",
              "      <th>time</th>\n",
              "    </tr>\n",
              "  </thead>\n",
              "  <tbody>\n",
              "    <tr>\n",
              "      <td>0</td>\n",
              "      <td>0.288333</td>\n",
              "      <td>0.410116</td>\n",
              "      <td>0.504907</td>\n",
              "      <td>00:00</td>\n",
              "    </tr>\n",
              "    <tr>\n",
              "      <td>1</td>\n",
              "      <td>0.137205</td>\n",
              "      <td>0.220674</td>\n",
              "      <td>0.819431</td>\n",
              "      <td>00:00</td>\n",
              "    </tr>\n",
              "    <tr>\n",
              "      <td>2</td>\n",
              "      <td>0.077438</td>\n",
              "      <td>0.112836</td>\n",
              "      <td>0.918548</td>\n",
              "      <td>00:00</td>\n",
              "    </tr>\n",
              "    <tr>\n",
              "      <td>3</td>\n",
              "      <td>0.051730</td>\n",
              "      <td>0.077010</td>\n",
              "      <td>0.940137</td>\n",
              "      <td>00:00</td>\n",
              "    </tr>\n",
              "    <tr>\n",
              "      <td>4</td>\n",
              "      <td>0.039672</td>\n",
              "      <td>0.060433</td>\n",
              "      <td>0.956820</td>\n",
              "      <td>00:00</td>\n",
              "    </tr>\n",
              "    <tr>\n",
              "      <td>5</td>\n",
              "      <td>0.033438</td>\n",
              "      <td>0.050993</td>\n",
              "      <td>0.963199</td>\n",
              "      <td>00:00</td>\n",
              "    </tr>\n",
              "    <tr>\n",
              "      <td>6</td>\n",
              "      <td>0.029806</td>\n",
              "      <td>0.044991</td>\n",
              "      <td>0.965162</td>\n",
              "      <td>00:00</td>\n",
              "    </tr>\n",
              "    <tr>\n",
              "      <td>7</td>\n",
              "      <td>0.027417</td>\n",
              "      <td>0.040874</td>\n",
              "      <td>0.967615</td>\n",
              "      <td>00:00</td>\n",
              "    </tr>\n",
              "    <tr>\n",
              "      <td>8</td>\n",
              "      <td>0.025681</td>\n",
              "      <td>0.037884</td>\n",
              "      <td>0.968597</td>\n",
              "      <td>00:00</td>\n",
              "    </tr>\n",
              "    <tr>\n",
              "      <td>9</td>\n",
              "      <td>0.024332</td>\n",
              "      <td>0.035609</td>\n",
              "      <td>0.969578</td>\n",
              "      <td>00:00</td>\n",
              "    </tr>\n",
              "    <tr>\n",
              "      <td>10</td>\n",
              "      <td>0.023238</td>\n",
              "      <td>0.033803</td>\n",
              "      <td>0.971541</td>\n",
              "      <td>00:00</td>\n",
              "    </tr>\n",
              "    <tr>\n",
              "      <td>11</td>\n",
              "      <td>0.022323</td>\n",
              "      <td>0.032324</td>\n",
              "      <td>0.973013</td>\n",
              "      <td>00:00</td>\n",
              "    </tr>\n",
              "    <tr>\n",
              "      <td>12</td>\n",
              "      <td>0.021542</td>\n",
              "      <td>0.031080</td>\n",
              "      <td>0.974485</td>\n",
              "      <td>00:00</td>\n",
              "    </tr>\n",
              "    <tr>\n",
              "      <td>13</td>\n",
              "      <td>0.020865</td>\n",
              "      <td>0.030010</td>\n",
              "      <td>0.975466</td>\n",
              "      <td>00:00</td>\n",
              "    </tr>\n",
              "    <tr>\n",
              "      <td>14</td>\n",
              "      <td>0.020271</td>\n",
              "      <td>0.029075</td>\n",
              "      <td>0.975466</td>\n",
              "      <td>00:00</td>\n",
              "    </tr>\n",
              "    <tr>\n",
              "      <td>15</td>\n",
              "      <td>0.019744</td>\n",
              "      <td>0.028247</td>\n",
              "      <td>0.976448</td>\n",
              "      <td>00:00</td>\n",
              "    </tr>\n",
              "    <tr>\n",
              "      <td>16</td>\n",
              "      <td>0.019271</td>\n",
              "      <td>0.027508</td>\n",
              "      <td>0.977429</td>\n",
              "      <td>00:00</td>\n",
              "    </tr>\n",
              "    <tr>\n",
              "      <td>17</td>\n",
              "      <td>0.018844</td>\n",
              "      <td>0.026843</td>\n",
              "      <td>0.977920</td>\n",
              "      <td>00:00</td>\n",
              "    </tr>\n",
              "    <tr>\n",
              "      <td>18</td>\n",
              "      <td>0.018457</td>\n",
              "      <td>0.026241</td>\n",
              "      <td>0.978410</td>\n",
              "      <td>00:00</td>\n",
              "    </tr>\n",
              "    <tr>\n",
              "      <td>19</td>\n",
              "      <td>0.018102</td>\n",
              "      <td>0.025694</td>\n",
              "      <td>0.978901</td>\n",
              "      <td>00:00</td>\n",
              "    </tr>\n",
              "    <tr>\n",
              "      <td>20</td>\n",
              "      <td>0.017776</td>\n",
              "      <td>0.025195</td>\n",
              "      <td>0.978901</td>\n",
              "      <td>00:00</td>\n",
              "    </tr>\n",
              "    <tr>\n",
              "      <td>21</td>\n",
              "      <td>0.017473</td>\n",
              "      <td>0.024737</td>\n",
              "      <td>0.978901</td>\n",
              "      <td>00:00</td>\n",
              "    </tr>\n",
              "    <tr>\n",
              "      <td>22</td>\n",
              "      <td>0.017192</td>\n",
              "      <td>0.024317</td>\n",
              "      <td>0.979882</td>\n",
              "      <td>00:00</td>\n",
              "    </tr>\n",
              "    <tr>\n",
              "      <td>23</td>\n",
              "      <td>0.016930</td>\n",
              "      <td>0.023930</td>\n",
              "      <td>0.980373</td>\n",
              "      <td>00:00</td>\n",
              "    </tr>\n",
              "    <tr>\n",
              "      <td>24</td>\n",
              "      <td>0.016683</td>\n",
              "      <td>0.023572</td>\n",
              "      <td>0.981354</td>\n",
              "      <td>00:00</td>\n",
              "    </tr>\n",
              "    <tr>\n",
              "      <td>25</td>\n",
              "      <td>0.016451</td>\n",
              "      <td>0.023241</td>\n",
              "      <td>0.981354</td>\n",
              "      <td>00:00</td>\n",
              "    </tr>\n",
              "    <tr>\n",
              "      <td>26</td>\n",
              "      <td>0.016232</td>\n",
              "      <td>0.022933</td>\n",
              "      <td>0.981354</td>\n",
              "      <td>00:00</td>\n",
              "    </tr>\n",
              "    <tr>\n",
              "      <td>27</td>\n",
              "      <td>0.016024</td>\n",
              "      <td>0.022646</td>\n",
              "      <td>0.981845</td>\n",
              "      <td>00:00</td>\n",
              "    </tr>\n",
              "    <tr>\n",
              "      <td>28</td>\n",
              "      <td>0.015827</td>\n",
              "      <td>0.022379</td>\n",
              "      <td>0.982826</td>\n",
              "      <td>00:00</td>\n",
              "    </tr>\n",
              "    <tr>\n",
              "      <td>29</td>\n",
              "      <td>0.015641</td>\n",
              "      <td>0.022127</td>\n",
              "      <td>0.982826</td>\n",
              "      <td>00:00</td>\n",
              "    </tr>\n",
              "    <tr>\n",
              "      <td>30</td>\n",
              "      <td>0.015463</td>\n",
              "      <td>0.021892</td>\n",
              "      <td>0.982826</td>\n",
              "      <td>00:00</td>\n",
              "    </tr>\n",
              "    <tr>\n",
              "      <td>31</td>\n",
              "      <td>0.015293</td>\n",
              "      <td>0.021671</td>\n",
              "      <td>0.982826</td>\n",
              "      <td>00:00</td>\n",
              "    </tr>\n",
              "    <tr>\n",
              "      <td>32</td>\n",
              "      <td>0.015131</td>\n",
              "      <td>0.021463</td>\n",
              "      <td>0.982826</td>\n",
              "      <td>00:00</td>\n",
              "    </tr>\n",
              "    <tr>\n",
              "      <td>33</td>\n",
              "      <td>0.014975</td>\n",
              "      <td>0.021268</td>\n",
              "      <td>0.983317</td>\n",
              "      <td>00:00</td>\n",
              "    </tr>\n",
              "    <tr>\n",
              "      <td>34</td>\n",
              "      <td>0.014827</td>\n",
              "      <td>0.021084</td>\n",
              "      <td>0.983808</td>\n",
              "      <td>00:00</td>\n",
              "    </tr>\n",
              "    <tr>\n",
              "      <td>35</td>\n",
              "      <td>0.014684</td>\n",
              "      <td>0.020910</td>\n",
              "      <td>0.983808</td>\n",
              "      <td>00:00</td>\n",
              "    </tr>\n",
              "    <tr>\n",
              "      <td>36</td>\n",
              "      <td>0.014547</td>\n",
              "      <td>0.020746</td>\n",
              "      <td>0.983317</td>\n",
              "      <td>00:00</td>\n",
              "    </tr>\n",
              "    <tr>\n",
              "      <td>37</td>\n",
              "      <td>0.014415</td>\n",
              "      <td>0.020590</td>\n",
              "      <td>0.983317</td>\n",
              "      <td>00:00</td>\n",
              "    </tr>\n",
              "    <tr>\n",
              "      <td>38</td>\n",
              "      <td>0.014287</td>\n",
              "      <td>0.020442</td>\n",
              "      <td>0.983317</td>\n",
              "      <td>00:00</td>\n",
              "    </tr>\n",
              "    <tr>\n",
              "      <td>39</td>\n",
              "      <td>0.014165</td>\n",
              "      <td>0.020301</td>\n",
              "      <td>0.982826</td>\n",
              "      <td>00:00</td>\n",
              "    </tr>\n",
              "  </tbody>\n",
              "</table>"
            ],
            "text/plain": [
              "<IPython.core.display.HTML object>"
            ]
          },
          "metadata": {
            "tags": []
          }
        }
      ]
    },
    {
      "cell_type": "code",
      "metadata": {
        "colab": {
          "base_uri": "https://localhost:8080/",
          "height": 270
        },
        "id": "jgFmkpmEG3vu",
        "outputId": "39c6da8a-c3bf-4506-ccc0-c60ee45411dd"
      },
      "source": [
        "plt.plot(L(learn.recorder.values).itemgot(2));"
      ],
      "execution_count": 46,
      "outputs": [
        {
          "output_type": "display_data",
          "data": {
            "image/png": "[encoded data removed]",
            "text/plain": [
              "<Figure size 432x288 with 1 Axes>"
            ]
          },
          "metadata": {
            "tags": [],
            "needs_background": "light"
          }
        }
      ]
    },
    {
      "cell_type": "markdown",
      "metadata": {
        "id": "qfpCL4RhHiaH"
      },
      "source": [
        "- Mathmetically this non-linear function can solve any problem to any level of accuracy (the neural network), given that correct set of parameters are provided."
      ]
    },
    {
      "cell_type": "markdown",
      "metadata": {
        "id": "gdGv9tUmI5p8"
      },
      "source": [
        "# Example of 18-layer model\n",
        "\n",
        "- We are gonna use a 18 layer model but **single epoch**.\n",
        "- But that's going to give us near 100% accuracy\n",
        "\n"
      ]
    },
    {
      "cell_type": "code",
      "metadata": {
        "colab": {
          "base_uri": "https://localhost:8080/",
          "height": 80
        },
        "id": "RAP25dOfITie",
        "outputId": "fe993f04-692a-448f-dc9d-c68e4995f7a0"
      },
      "source": [
        "# this is fast with GPU\n",
        "dls = ImageDataLoaders.from_folder(path)\n",
        "learn = cnn_learner(dls, resnet18, pretrained=False,\n",
        " loss_func=F.cross_entropy, metrics=accuracy)\n",
        "learn.fit_one_cycle(1, 0.1)"
      ],
      "execution_count": 47,
      "outputs": [
        {
          "output_type": "display_data",
          "data": {
            "text/html": [
              "<table border=\"1\" class=\"dataframe\">\n",
              "  <thead>\n",
              "    <tr style=\"text-align: left;\">\n",
              "      <th>epoch</th>\n",
              "      <th>train_loss</th>\n",
              "      <th>valid_loss</th>\n",
              "      <th>accuracy</th>\n",
              "      <th>time</th>\n",
              "    </tr>\n",
              "  </thead>\n",
              "  <tbody>\n",
              "    <tr>\n",
              "      <td>0</td>\n",
              "      <td>0.074537</td>\n",
              "      <td>0.013976</td>\n",
              "      <td>0.997056</td>\n",
              "      <td>00:14</td>\n",
              "    </tr>\n",
              "  </tbody>\n",
              "</table>"
            ],
            "text/plain": [
              "<IPython.core.display.HTML object>"
            ]
          },
          "metadata": {
            "tags": []
          }
        }
      ]
    }
  ]
}