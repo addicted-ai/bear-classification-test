{
  "nbformat": 4,
  "nbformat_minor": 0,
  "metadata": {
    "colab": {
      "name": "MNIST_digit_classifier.ipynb",
      "provenance": [],
      "authorship_tag": "ABX9TyNcw23I1Clqtxm8nGjvr4Ys",
      "include_colab_link": true
    },
    "kernelspec": {
      "name": "python3",
      "display_name": "Python 3"
    },
    "language_info": {
      "name": "python"
    }
  },
  "cells": [
    {
      "cell_type": "markdown",
      "metadata": {
        "id": "view-in-github",
        "colab_type": "text"
      },
      "source": [
        "<a href=\"https://colab.research.google.com/github/addicted-ai/fastai-tests/blob/main/MNIST_digit_classifier.ipynb\" target=\"_parent\"><img src=\"https://colab.research.google.com/assets/colab-badge.svg\" alt=\"Open In Colab\"/></a>"
      ]
    },
    {
      "cell_type": "code",
      "metadata": {
        "id": "D02V4GtRqnlK"
      },
      "source": [
        "# supressing warnings\n",
        "import warnings\n",
        "warnings.filterwarnings(\"ignore\")"
      ],
      "execution_count": 1,
      "outputs": []
    },
    {
      "cell_type": "code",
      "metadata": {
        "id": "VpjNGBb-sc8d",
        "colab": {
          "base_uri": "https://localhost:8080/"
        },
        "outputId": "4b904c7d-02ed-4dde-98cc-5b40a0a1edb7"
      },
      "source": [
        "import numpy as np\n",
        "import pandas as pd\n",
        "import os\n",
        "\n",
        "# mount google drive\n",
        "from google.colab import drive\n",
        "drive.mount('/content/gdrive')"
      ],
      "execution_count": 2,
      "outputs": [
        {
          "output_type": "stream",
          "text": [
            "Mounted at /content/gdrive\n"
          ],
          "name": "stdout"
        }
      ]
    },
    {
      "cell_type": "code",
      "metadata": {
        "colab": {
          "base_uri": "https://localhost:8080/"
        },
        "id": "jVluSz4Jsgtm",
        "outputId": "f58d06de-dbbf-4fdb-effd-9a1f9cd17438"
      },
      "source": [
        "!pip install -Uqq fastbook\n",
        "import fastbook\n",
        "fastbook.setup_book()"
      ],
      "execution_count": 3,
      "outputs": [
        {
          "output_type": "stream",
          "text": [
            "\u001b[K     |████████████████████████████████| 720 kB 33.4 MB/s \n",
            "\u001b[K     |████████████████████████████████| 188 kB 46.2 MB/s \n",
            "\u001b[K     |████████████████████████████████| 46 kB 4.3 MB/s \n",
            "\u001b[K     |████████████████████████████████| 1.2 MB 45.9 MB/s \n",
            "\u001b[K     |████████████████████████████████| 53 kB 2.0 MB/s \n",
            "\u001b[K     |████████████████████████████████| 51 kB 295 kB/s \n",
            "\u001b[?25h"
          ],
          "name": "stdout"
        }
      ]
    },
    {
      "cell_type": "code",
      "metadata": {
        "id": "UK3guib6td2d"
      },
      "source": [
        "from fastai.vision.all import *\n",
        "from fastbook import *"
      ],
      "execution_count": 4,
      "outputs": []
    },
    {
      "cell_type": "code",
      "metadata": {
        "colab": {
          "base_uri": "https://localhost:8080/",
          "height": 34
        },
        "id": "2hW3zg38teVh",
        "outputId": "06e03035-9bc1-4114-d7ca-86a4a54a82f7"
      },
      "source": [
        "path = untar_data(URLs.MNIST_SAMPLE)\n",
        "# Checking path\n",
        "path.ls()"
      ],
      "execution_count": 5,
      "outputs": [
        {
          "output_type": "display_data",
          "data": {
            "text/html": [
              ""
            ],
            "text/plain": [
              "<IPython.core.display.HTML object>"
            ]
          },
          "metadata": {
            "tags": []
          }
        },
        {
          "output_type": "execute_result",
          "data": {
            "text/plain": [
              "(#3) [Path('/root/.fastai/data/mnist_sample/labels.csv'),Path('/root/.fastai/data/mnist_sample/valid'),Path('/root/.fastai/data/mnist_sample/train')]"
            ]
          },
          "metadata": {
            "tags": []
          },
          "execution_count": 5
        }
      ]
    },
    {
      "cell_type": "code",
      "metadata": {
        "colab": {
          "base_uri": "https://localhost:8080/"
        },
        "id": "S3396ua-unTu",
        "outputId": "e12a86ff-bc21-4b2c-9957-db02e893ed94"
      },
      "source": [
        "# storing path of 3 & 7 of train dataset\n",
        "threes = (path/'train'/'3').ls().sorted()\n",
        "sevens = (path/'train'/'7').ls().sorted()\n",
        "threes"
      ],
      "execution_count": 6,
      "outputs": [
        {
          "output_type": "execute_result",
          "data": {
            "text/plain": [
              "(#6131) [Path('/root/.fastai/data/mnist_sample/train/3/10.png'),Path('/root/.fastai/data/mnist_sample/train/3/10000.png'),Path('/root/.fastai/data/mnist_sample/train/3/10011.png'),Path('/root/.fastai/data/mnist_sample/train/3/10031.png'),Path('/root/.fastai/data/mnist_sample/train/3/10034.png'),Path('/root/.fastai/data/mnist_sample/train/3/10042.png'),Path('/root/.fastai/data/mnist_sample/train/3/10052.png'),Path('/root/.fastai/data/mnist_sample/train/3/1007.png'),Path('/root/.fastai/data/mnist_sample/train/3/10074.png'),Path('/root/.fastai/data/mnist_sample/train/3/10091.png')...]"
            ]
          },
          "metadata": {
            "tags": []
          },
          "execution_count": 6
        }
      ]
    },
    {
      "cell_type": "code",
      "metadata": {
        "colab": {
          "base_uri": "https://localhost:8080/",
          "height": 45
        },
        "id": "ggxnEVaeus6X",
        "outputId": "f5a81381-1f16-4b7a-e857-d689bfb817bd"
      },
      "source": [
        "# checking single image of 3\n",
        "im3_path = threes[1]\n",
        "im3 = Image.open(im3_path) # uses PIL library in bg\n",
        "im3"
      ],
      "execution_count": 7,
      "outputs": [
        {
          "output_type": "execute_result",
          "data": {
            "image/png": "[encoded data removed]",
            "text/plain": [
              "<PIL.PngImagePlugin.PngImageFile image mode=L size=28x28 at 0x7FE3B3BD9B10>"
            ]
          },
          "metadata": {
            "tags": []
          },
          "execution_count": 7
        }
      ]
    },
    {
      "cell_type": "code",
      "metadata": {
        "colab": {
          "base_uri": "https://localhost:8080/"
        },
        "id": "r2I-mzU4wEU0",
        "outputId": "8c1b4be5-1bbd-46e6-dda9-8768192dc356"
      },
      "source": [
        "# visualizing pixels of im3 image in numpy array\n",
        "array(im3)"
      ],
      "execution_count": 8,
      "outputs": [
        {
          "output_type": "execute_result",
          "data": {
            "text/plain": [
              "array([[  0,   0,   0,   0,   0,   0,   0,   0,   0,   0,   0,   0,   0,   0,   0,   0,   0,   0,   0,   0,   0,   0,   0,   0,   0,   0,   0,   0],\n",
              "       [  0,   0,   0,   0,   0,   0,   0,   0,   0,   0,   0,   0,   0,   0,   0,   0,   0,   0,   0,   0,   0,   0,   0,   0,   0,   0,   0,   0],\n",
              "       [  0,   0,   0,   0,   0,   0,   0,   0,   0,   0,   0,   0,   0,   0,   0,   0,   0,   0,   0,   0,   0,   0,   0,   0,   0,   0,   0,   0],\n",
              "       [  0,   0,   0,   0,   0,   0,   0,   0,   0,   0,   0,   0,   0,   0,   0,   0,   0,   0,   0,   0,   0,   0,   0,   0,   0,   0,   0,   0],\n",
              "       [  0,   0,   0,   0,   0,   0,   0,   0,   0,   0,   0,   0,   0,   0,   0,   0,   0,   0,   0,   0,   0,   0,   0,   0,   0,   0,   0,   0],\n",
              "       [  0,   0,   0,   0,   0,   0,   0,   0,   0,  29, 150, 195, 254, 255, 254, 176, 193, 150,  96,   0,   0,   0,   0,   0,   0,   0,   0,   0],\n",
              "       [  0,   0,   0,   0,   0,   0,   0,  48, 166, 224, 253, 253, 234, 196, 253, 253, 253, 253, 233,   0,   0,   0,   0,   0,   0,   0,   0,   0],\n",
              "       [  0,   0,   0,   0,   0,  93, 244, 249, 253, 187,  46,  10,   8,   4,  10, 194, 253, 253, 233,   0,   0,   0,   0,   0,   0,   0,   0,   0],\n",
              "       [  0,   0,   0,   0,   0, 107, 253, 253, 230,  48,   0,   0,   0,   0,   0, 192, 253, 253, 156,   0,   0,   0,   0,   0,   0,   0,   0,   0],\n",
              "       [  0,   0,   0,   0,   0,   3,  20,  20,  15,   0,   0,   0,   0,   0,  43, 224, 253, 245,  74,   0,   0,   0,   0,   0,   0,   0,   0,   0],\n",
              "       [  0,   0,   0,   0,   0,   0,   0,   0,   0,   0,   0,   0,   0,   0, 249, 253, 245, 126,   0,   0,   0,   0,   0,   0,   0,   0,   0,   0],\n",
              "       [  0,   0,   0,   0,   0,   0,   0,   0,   0,   0,   0,  14, 101, 223, 253, 248, 124,   0,   0,   0,   0,   0,   0,   0,   0,   0,   0,   0],\n",
              "       [  0,   0,   0,   0,   0,   0,   0,   0,   0,  11, 166, 239, 253, 253, 253, 187,  30,   0,   0,   0,   0,   0,   0,   0,   0,   0,   0,   0],\n",
              "       [  0,   0,   0,   0,   0,   0,   0,   0,   0,  16, 248, 250, 253, 253, 253, 253, 232, 213, 111,   2,   0,   0,   0,   0,   0,   0,   0,   0],\n",
              "       [  0,   0,   0,   0,   0,   0,   0,   0,   0,   0,   0,  43,  98,  98, 208, 253, 253, 253, 253, 187,  22,   0,   0,   0,   0,   0,   0,   0],\n",
              "       [  0,   0,   0,   0,   0,   0,   0,   0,   0,   0,   0,   0,   0,   0,   9,  51, 119, 253, 253, 253,  76,   0,   0,   0,   0,   0,   0,   0],\n",
              "       [  0,   0,   0,   0,   0,   0,   0,   0,   0,   0,   0,   0,   0,   0,   0,   0,   1, 183, 253, 253, 139,   0,   0,   0,   0,   0,   0,   0],\n",
              "       [  0,   0,   0,   0,   0,   0,   0,   0,   0,   0,   0,   0,   0,   0,   0,   0,   0, 182, 253, 253, 104,   0,   0,   0,   0,   0,   0,   0],\n",
              "       [  0,   0,   0,   0,   0,   0,   0,   0,   0,   0,   0,   0,   0,   0,   0,   0,  85, 249, 253, 253,  36,   0,   0,   0,   0,   0,   0,   0],\n",
              "       [  0,   0,   0,   0,   0,   0,   0,   0,   0,   0,   0,   0,   0,   0,   0,  60, 214, 253, 253, 173,  11,   0,   0,   0,   0,   0,   0,   0],\n",
              "       [  0,   0,   0,   0,   0,   0,   0,   0,   0,   0,   0,   0,   0,   0,  98, 247, 253, 253, 226,   9,   0,   0,   0,   0,   0,   0,   0,   0],\n",
              "       [  0,   0,   0,   0,   0,   0,   0,   0,   0,   0,   0,   0,  42, 150, 252, 253, 253, 233,  53,   0,   0,   0,   0,   0,   0,   0,   0,   0],\n",
              "       [  0,   0,   0,   0,   0,   0,  42, 115,  42,  60, 115, 159, 240, 253, 253, 250, 175,  25,   0,   0,   0,   0,   0,   0,   0,   0,   0,   0],\n",
              "       [  0,   0,   0,   0,   0,   0, 187, 253, 253, 253, 253, 253, 253, 253, 197,  86,   0,   0,   0,   0,   0,   0,   0,   0,   0,   0,   0,   0],\n",
              "       [  0,   0,   0,   0,   0,   0, 103, 253, 253, 253, 253, 253, 232,  67,   1,   0,   0,   0,   0,   0,   0,   0,   0,   0,   0,   0,   0,   0],\n",
              "       [  0,   0,   0,   0,   0,   0,   0,   0,   0,   0,   0,   0,   0,   0,   0,   0,   0,   0,   0,   0,   0,   0,   0,   0,   0,   0,   0,   0],\n",
              "       [  0,   0,   0,   0,   0,   0,   0,   0,   0,   0,   0,   0,   0,   0,   0,   0,   0,   0,   0,   0,   0,   0,   0,   0,   0,   0,   0,   0],\n",
              "       [  0,   0,   0,   0,   0,   0,   0,   0,   0,   0,   0,   0,   0,   0,   0,   0,   0,   0,   0,   0,   0,   0,   0,   0,   0,   0,   0,   0]], dtype=uint8)"
            ]
          },
          "metadata": {
            "tags": []
          },
          "execution_count": 8
        }
      ]
    },
    {
      "cell_type": "code",
      "metadata": {
        "colab": {
          "base_uri": "https://localhost:8080/"
        },
        "id": "58McA6yzvxp2",
        "outputId": "b0007ec5-eff4-4f8f-f3fc-d334f37f5668"
      },
      "source": [
        "# visualizing pixels of im3 image in tensor object\n",
        "tensor(im3)"
      ],
      "execution_count": 9,
      "outputs": [
        {
          "output_type": "execute_result",
          "data": {
            "text/plain": [
              "tensor([[  0,   0,   0,   0,   0,   0,   0,   0,   0,   0,   0,   0,   0,   0,   0,   0,   0,   0,   0,   0,   0,   0,   0,   0,   0,   0,   0,   0],\n",
              "        [  0,   0,   0,   0,   0,   0,   0,   0,   0,   0,   0,   0,   0,   0,   0,   0,   0,   0,   0,   0,   0,   0,   0,   0,   0,   0,   0,   0],\n",
              "        [  0,   0,   0,   0,   0,   0,   0,   0,   0,   0,   0,   0,   0,   0,   0,   0,   0,   0,   0,   0,   0,   0,   0,   0,   0,   0,   0,   0],\n",
              "        [  0,   0,   0,   0,   0,   0,   0,   0,   0,   0,   0,   0,   0,   0,   0,   0,   0,   0,   0,   0,   0,   0,   0,   0,   0,   0,   0,   0],\n",
              "        [  0,   0,   0,   0,   0,   0,   0,   0,   0,   0,   0,   0,   0,   0,   0,   0,   0,   0,   0,   0,   0,   0,   0,   0,   0,   0,   0,   0],\n",
              "        [  0,   0,   0,   0,   0,   0,   0,   0,   0,  29, 150, 195, 254, 255, 254, 176, 193, 150,  96,   0,   0,   0,   0,   0,   0,   0,   0,   0],\n",
              "        [  0,   0,   0,   0,   0,   0,   0,  48, 166, 224, 253, 253, 234, 196, 253, 253, 253, 253, 233,   0,   0,   0,   0,   0,   0,   0,   0,   0],\n",
              "        [  0,   0,   0,   0,   0,  93, 244, 249, 253, 187,  46,  10,   8,   4,  10, 194, 253, 253, 233,   0,   0,   0,   0,   0,   0,   0,   0,   0],\n",
              "        [  0,   0,   0,   0,   0, 107, 253, 253, 230,  48,   0,   0,   0,   0,   0, 192, 253, 253, 156,   0,   0,   0,   0,   0,   0,   0,   0,   0],\n",
              "        [  0,   0,   0,   0,   0,   3,  20,  20,  15,   0,   0,   0,   0,   0,  43, 224, 253, 245,  74,   0,   0,   0,   0,   0,   0,   0,   0,   0],\n",
              "        [  0,   0,   0,   0,   0,   0,   0,   0,   0,   0,   0,   0,   0,   0, 249, 253, 245, 126,   0,   0,   0,   0,   0,   0,   0,   0,   0,   0],\n",
              "        [  0,   0,   0,   0,   0,   0,   0,   0,   0,   0,   0,  14, 101, 223, 253, 248, 124,   0,   0,   0,   0,   0,   0,   0,   0,   0,   0,   0],\n",
              "        [  0,   0,   0,   0,   0,   0,   0,   0,   0,  11, 166, 239, 253, 253, 253, 187,  30,   0,   0,   0,   0,   0,   0,   0,   0,   0,   0,   0],\n",
              "        [  0,   0,   0,   0,   0,   0,   0,   0,   0,  16, 248, 250, 253, 253, 253, 253, 232, 213, 111,   2,   0,   0,   0,   0,   0,   0,   0,   0],\n",
              "        [  0,   0,   0,   0,   0,   0,   0,   0,   0,   0,   0,  43,  98,  98, 208, 253, 253, 253, 253, 187,  22,   0,   0,   0,   0,   0,   0,   0],\n",
              "        [  0,   0,   0,   0,   0,   0,   0,   0,   0,   0,   0,   0,   0,   0,   9,  51, 119, 253, 253, 253,  76,   0,   0,   0,   0,   0,   0,   0],\n",
              "        [  0,   0,   0,   0,   0,   0,   0,   0,   0,   0,   0,   0,   0,   0,   0,   0,   1, 183, 253, 253, 139,   0,   0,   0,   0,   0,   0,   0],\n",
              "        [  0,   0,   0,   0,   0,   0,   0,   0,   0,   0,   0,   0,   0,   0,   0,   0,   0, 182, 253, 253, 104,   0,   0,   0,   0,   0,   0,   0],\n",
              "        [  0,   0,   0,   0,   0,   0,   0,   0,   0,   0,   0,   0,   0,   0,   0,   0,  85, 249, 253, 253,  36,   0,   0,   0,   0,   0,   0,   0],\n",
              "        [  0,   0,   0,   0,   0,   0,   0,   0,   0,   0,   0,   0,   0,   0,   0,  60, 214, 253, 253, 173,  11,   0,   0,   0,   0,   0,   0,   0],\n",
              "        [  0,   0,   0,   0,   0,   0,   0,   0,   0,   0,   0,   0,   0,   0,  98, 247, 253, 253, 226,   9,   0,   0,   0,   0,   0,   0,   0,   0],\n",
              "        [  0,   0,   0,   0,   0,   0,   0,   0,   0,   0,   0,   0,  42, 150, 252, 253, 253, 233,  53,   0,   0,   0,   0,   0,   0,   0,   0,   0],\n",
              "        [  0,   0,   0,   0,   0,   0,  42, 115,  42,  60, 115, 159, 240, 253, 253, 250, 175,  25,   0,   0,   0,   0,   0,   0,   0,   0,   0,   0],\n",
              "        [  0,   0,   0,   0,   0,   0, 187, 253, 253, 253, 253, 253, 253, 253, 197,  86,   0,   0,   0,   0,   0,   0,   0,   0,   0,   0,   0,   0],\n",
              "        [  0,   0,   0,   0,   0,   0, 103, 253, 253, 253, 253, 253, 232,  67,   1,   0,   0,   0,   0,   0,   0,   0,   0,   0,   0,   0,   0,   0],\n",
              "        [  0,   0,   0,   0,   0,   0,   0,   0,   0,   0,   0,   0,   0,   0,   0,   0,   0,   0,   0,   0,   0,   0,   0,   0,   0,   0,   0,   0],\n",
              "        [  0,   0,   0,   0,   0,   0,   0,   0,   0,   0,   0,   0,   0,   0,   0,   0,   0,   0,   0,   0,   0,   0,   0,   0,   0,   0,   0,   0],\n",
              "        [  0,   0,   0,   0,   0,   0,   0,   0,   0,   0,   0,   0,   0,   0,   0,   0,   0,   0,   0,   0,   0,   0,   0,   0,   0,   0,   0,   0]], dtype=torch.uint8)"
            ]
          },
          "metadata": {
            "tags": []
          },
          "execution_count": 9
        }
      ]
    },
    {
      "cell_type": "code",
      "metadata": {
        "colab": {
          "base_uri": "https://localhost:8080/",
          "height": 502
        },
        "id": "zGACR9JGwIxE",
        "outputId": "9b882a99-f9a0-4ffb-be95-9a6c684c357a"
      },
      "source": [
        "#@title\n",
        "im3_t = tensor(im3)\n",
        "df = pd.DataFrame(im3_t[3:25,4:21]) # total 28*28\n",
        "df.style.set_properties(**{'font-size':'6pt'}).background_gradient('Greys')"
      ],
      "execution_count": 10,
      "outputs": [
        {
          "output_type": "execute_result",
          "data": {
            "text/html": [
              "<style  type=\"text/css\" >\n",
              "#T_ff05560c_ea34_11eb_ba97_0242ac1c0002row0_col0,#T_ff05560c_ea34_11eb_ba97_0242ac1c0002row0_col1,#T_ff05560c_ea34_11eb_ba97_0242ac1c0002row0_col2,#T_ff05560c_ea34_11eb_ba97_0242ac1c0002row0_col3,#T_ff05560c_ea34_11eb_ba97_0242ac1c0002row0_col4,#T_ff05560c_ea34_11eb_ba97_0242ac1c0002row0_col5,#T_ff05560c_ea34_11eb_ba97_0242ac1c0002row0_col6,#T_ff05560c_ea34_11eb_ba97_0242ac1c0002row0_col7,#T_ff05560c_ea34_11eb_ba97_0242ac1c0002row0_col8,#T_ff05560c_ea34_11eb_ba97_0242ac1c0002row0_col9,#T_ff05560c_ea34_11eb_ba97_0242ac1c0002row0_col10,#T_ff05560c_ea34_11eb_ba97_0242ac1c0002row0_col11,#T_ff05560c_ea34_11eb_ba97_0242ac1c0002row0_col12,#T_ff05560c_ea34_11eb_ba97_0242ac1c0002row0_col13,#T_ff05560c_ea34_11eb_ba97_0242ac1c0002row0_col14,#T_ff05560c_ea34_11eb_ba97_0242ac1c0002row0_col15,#T_ff05560c_ea34_11eb_ba97_0242ac1c0002row0_col16,#T_ff05560c_ea34_11eb_ba97_0242ac1c0002row1_col0,#T_ff05560c_ea34_11eb_ba97_0242ac1c0002row1_col1,#T_ff05560c_ea34_11eb_ba97_0242ac1c0002row1_col2,#T_ff05560c_ea34_11eb_ba97_0242ac1c0002row1_col3,#T_ff05560c_ea34_11eb_ba97_0242ac1c0002row1_col4,#T_ff05560c_ea34_11eb_ba97_0242ac1c0002row1_col5,#T_ff05560c_ea34_11eb_ba97_0242ac1c0002row1_col6,#T_ff05560c_ea34_11eb_ba97_0242ac1c0002row1_col7,#T_ff05560c_ea34_11eb_ba97_0242ac1c0002row1_col8,#T_ff05560c_ea34_11eb_ba97_0242ac1c0002row1_col9,#T_ff05560c_ea34_11eb_ba97_0242ac1c0002row1_col10,#T_ff05560c_ea34_11eb_ba97_0242ac1c0002row1_col11,#T_ff05560c_ea34_11eb_ba97_0242ac1c0002row1_col12,#T_ff05560c_ea34_11eb_ba97_0242ac1c0002row1_col13,#T_ff05560c_ea34_11eb_ba97_0242ac1c0002row1_col14,#T_ff05560c_ea34_11eb_ba97_0242ac1c0002row1_col15,#T_ff05560c_ea34_11eb_ba97_0242ac1c0002row1_col16,#T_ff05560c_ea34_11eb_ba97_0242ac1c0002row2_col0,#T_ff05560c_ea34_11eb_ba97_0242ac1c0002row2_col1,#T_ff05560c_ea34_11eb_ba97_0242ac1c0002row2_col2,#T_ff05560c_ea34_11eb_ba97_0242ac1c0002row2_col3,#T_ff05560c_ea34_11eb_ba97_0242ac1c0002row2_col4,#T_ff05560c_ea34_11eb_ba97_0242ac1c0002row2_col15,#T_ff05560c_ea34_11eb_ba97_0242ac1c0002row2_col16,#T_ff05560c_ea34_11eb_ba97_0242ac1c0002row3_col0,#T_ff05560c_ea34_11eb_ba97_0242ac1c0002row3_col1,#T_ff05560c_ea34_11eb_ba97_0242ac1c0002row3_col2,#T_ff05560c_ea34_11eb_ba97_0242ac1c0002row3_col15,#T_ff05560c_ea34_11eb_ba97_0242ac1c0002row3_col16,#T_ff05560c_ea34_11eb_ba97_0242ac1c0002row4_col0,#T_ff05560c_ea34_11eb_ba97_0242ac1c0002row4_col15,#T_ff05560c_ea34_11eb_ba97_0242ac1c0002row4_col16,#T_ff05560c_ea34_11eb_ba97_0242ac1c0002row5_col0,#T_ff05560c_ea34_11eb_ba97_0242ac1c0002row5_col6,#T_ff05560c_ea34_11eb_ba97_0242ac1c0002row5_col7,#T_ff05560c_ea34_11eb_ba97_0242ac1c0002row5_col8,#T_ff05560c_ea34_11eb_ba97_0242ac1c0002row5_col9,#T_ff05560c_ea34_11eb_ba97_0242ac1c0002row5_col10,#T_ff05560c_ea34_11eb_ba97_0242ac1c0002row5_col15,#T_ff05560c_ea34_11eb_ba97_0242ac1c0002row5_col16,#T_ff05560c_ea34_11eb_ba97_0242ac1c0002row6_col0,#T_ff05560c_ea34_11eb_ba97_0242ac1c0002row6_col5,#T_ff05560c_ea34_11eb_ba97_0242ac1c0002row6_col6,#T_ff05560c_ea34_11eb_ba97_0242ac1c0002row6_col7,#T_ff05560c_ea34_11eb_ba97_0242ac1c0002row6_col8,#T_ff05560c_ea34_11eb_ba97_0242ac1c0002row6_col9,#T_ff05560c_ea34_11eb_ba97_0242ac1c0002row6_col15,#T_ff05560c_ea34_11eb_ba97_0242ac1c0002row6_col16,#T_ff05560c_ea34_11eb_ba97_0242ac1c0002row7_col0,#T_ff05560c_ea34_11eb_ba97_0242ac1c0002row7_col1,#T_ff05560c_ea34_11eb_ba97_0242ac1c0002row7_col2,#T_ff05560c_ea34_11eb_ba97_0242ac1c0002row7_col3,#T_ff05560c_ea34_11eb_ba97_0242ac1c0002row7_col4,#T_ff05560c_ea34_11eb_ba97_0242ac1c0002row7_col5,#T_ff05560c_ea34_11eb_ba97_0242ac1c0002row7_col6,#T_ff05560c_ea34_11eb_ba97_0242ac1c0002row7_col7,#T_ff05560c_ea34_11eb_ba97_0242ac1c0002row7_col8,#T_ff05560c_ea34_11eb_ba97_0242ac1c0002row7_col9,#T_ff05560c_ea34_11eb_ba97_0242ac1c0002row7_col14,#T_ff05560c_ea34_11eb_ba97_0242ac1c0002row7_col15,#T_ff05560c_ea34_11eb_ba97_0242ac1c0002row7_col16,#T_ff05560c_ea34_11eb_ba97_0242ac1c0002row8_col0,#T_ff05560c_ea34_11eb_ba97_0242ac1c0002row8_col1,#T_ff05560c_ea34_11eb_ba97_0242ac1c0002row8_col2,#T_ff05560c_ea34_11eb_ba97_0242ac1c0002row8_col3,#T_ff05560c_ea34_11eb_ba97_0242ac1c0002row8_col4,#T_ff05560c_ea34_11eb_ba97_0242ac1c0002row8_col5,#T_ff05560c_ea34_11eb_ba97_0242ac1c0002row8_col6,#T_ff05560c_ea34_11eb_ba97_0242ac1c0002row8_col13,#T_ff05560c_ea34_11eb_ba97_0242ac1c0002row8_col14,#T_ff05560c_ea34_11eb_ba97_0242ac1c0002row8_col15,#T_ff05560c_ea34_11eb_ba97_0242ac1c0002row8_col16,#T_ff05560c_ea34_11eb_ba97_0242ac1c0002row9_col0,#T_ff05560c_ea34_11eb_ba97_0242ac1c0002row9_col1,#T_ff05560c_ea34_11eb_ba97_0242ac1c0002row9_col2,#T_ff05560c_ea34_11eb_ba97_0242ac1c0002row9_col3,#T_ff05560c_ea34_11eb_ba97_0242ac1c0002row9_col4,#T_ff05560c_ea34_11eb_ba97_0242ac1c0002row9_col13,#T_ff05560c_ea34_11eb_ba97_0242ac1c0002row9_col14,#T_ff05560c_ea34_11eb_ba97_0242ac1c0002row9_col15,#T_ff05560c_ea34_11eb_ba97_0242ac1c0002row9_col16,#T_ff05560c_ea34_11eb_ba97_0242ac1c0002row10_col0,#T_ff05560c_ea34_11eb_ba97_0242ac1c0002row10_col1,#T_ff05560c_ea34_11eb_ba97_0242ac1c0002row10_col2,#T_ff05560c_ea34_11eb_ba97_0242ac1c0002row10_col3,#T_ff05560c_ea34_11eb_ba97_0242ac1c0002row10_col4,#T_ff05560c_ea34_11eb_ba97_0242ac1c0002row10_col16,#T_ff05560c_ea34_11eb_ba97_0242ac1c0002row11_col0,#T_ff05560c_ea34_11eb_ba97_0242ac1c0002row11_col1,#T_ff05560c_ea34_11eb_ba97_0242ac1c0002row11_col2,#T_ff05560c_ea34_11eb_ba97_0242ac1c0002row11_col3,#T_ff05560c_ea34_11eb_ba97_0242ac1c0002row11_col4,#T_ff05560c_ea34_11eb_ba97_0242ac1c0002row11_col5,#T_ff05560c_ea34_11eb_ba97_0242ac1c0002row11_col6,#T_ff05560c_ea34_11eb_ba97_0242ac1c0002row12_col0,#T_ff05560c_ea34_11eb_ba97_0242ac1c0002row12_col1,#T_ff05560c_ea34_11eb_ba97_0242ac1c0002row12_col2,#T_ff05560c_ea34_11eb_ba97_0242ac1c0002row12_col3,#T_ff05560c_ea34_11eb_ba97_0242ac1c0002row12_col4,#T_ff05560c_ea34_11eb_ba97_0242ac1c0002row12_col5,#T_ff05560c_ea34_11eb_ba97_0242ac1c0002row12_col6,#T_ff05560c_ea34_11eb_ba97_0242ac1c0002row12_col7,#T_ff05560c_ea34_11eb_ba97_0242ac1c0002row12_col8,#T_ff05560c_ea34_11eb_ba97_0242ac1c0002row12_col9,#T_ff05560c_ea34_11eb_ba97_0242ac1c0002row13_col0,#T_ff05560c_ea34_11eb_ba97_0242ac1c0002row13_col1,#T_ff05560c_ea34_11eb_ba97_0242ac1c0002row13_col2,#T_ff05560c_ea34_11eb_ba97_0242ac1c0002row13_col3,#T_ff05560c_ea34_11eb_ba97_0242ac1c0002row13_col4,#T_ff05560c_ea34_11eb_ba97_0242ac1c0002row13_col5,#T_ff05560c_ea34_11eb_ba97_0242ac1c0002row13_col6,#T_ff05560c_ea34_11eb_ba97_0242ac1c0002row13_col7,#T_ff05560c_ea34_11eb_ba97_0242ac1c0002row13_col8,#T_ff05560c_ea34_11eb_ba97_0242ac1c0002row13_col9,#T_ff05560c_ea34_11eb_ba97_0242ac1c0002row13_col10,#T_ff05560c_ea34_11eb_ba97_0242ac1c0002row13_col11,#T_ff05560c_ea34_11eb_ba97_0242ac1c0002row13_col12,#T_ff05560c_ea34_11eb_ba97_0242ac1c0002row14_col0,#T_ff05560c_ea34_11eb_ba97_0242ac1c0002row14_col1,#T_ff05560c_ea34_11eb_ba97_0242ac1c0002row14_col2,#T_ff05560c_ea34_11eb_ba97_0242ac1c0002row14_col3,#T_ff05560c_ea34_11eb_ba97_0242ac1c0002row14_col4,#T_ff05560c_ea34_11eb_ba97_0242ac1c0002row14_col5,#T_ff05560c_ea34_11eb_ba97_0242ac1c0002row14_col6,#T_ff05560c_ea34_11eb_ba97_0242ac1c0002row14_col7,#T_ff05560c_ea34_11eb_ba97_0242ac1c0002row14_col8,#T_ff05560c_ea34_11eb_ba97_0242ac1c0002row14_col9,#T_ff05560c_ea34_11eb_ba97_0242ac1c0002row14_col10,#T_ff05560c_ea34_11eb_ba97_0242ac1c0002row14_col11,#T_ff05560c_ea34_11eb_ba97_0242ac1c0002row14_col12,#T_ff05560c_ea34_11eb_ba97_0242ac1c0002row15_col0,#T_ff05560c_ea34_11eb_ba97_0242ac1c0002row15_col1,#T_ff05560c_ea34_11eb_ba97_0242ac1c0002row15_col2,#T_ff05560c_ea34_11eb_ba97_0242ac1c0002row15_col3,#T_ff05560c_ea34_11eb_ba97_0242ac1c0002row15_col4,#T_ff05560c_ea34_11eb_ba97_0242ac1c0002row15_col5,#T_ff05560c_ea34_11eb_ba97_0242ac1c0002row15_col6,#T_ff05560c_ea34_11eb_ba97_0242ac1c0002row15_col7,#T_ff05560c_ea34_11eb_ba97_0242ac1c0002row15_col8,#T_ff05560c_ea34_11eb_ba97_0242ac1c0002row15_col9,#T_ff05560c_ea34_11eb_ba97_0242ac1c0002row15_col10,#T_ff05560c_ea34_11eb_ba97_0242ac1c0002row15_col11,#T_ff05560c_ea34_11eb_ba97_0242ac1c0002row16_col0,#T_ff05560c_ea34_11eb_ba97_0242ac1c0002row16_col1,#T_ff05560c_ea34_11eb_ba97_0242ac1c0002row16_col2,#T_ff05560c_ea34_11eb_ba97_0242ac1c0002row16_col3,#T_ff05560c_ea34_11eb_ba97_0242ac1c0002row16_col4,#T_ff05560c_ea34_11eb_ba97_0242ac1c0002row16_col5,#T_ff05560c_ea34_11eb_ba97_0242ac1c0002row16_col6,#T_ff05560c_ea34_11eb_ba97_0242ac1c0002row16_col7,#T_ff05560c_ea34_11eb_ba97_0242ac1c0002row16_col8,#T_ff05560c_ea34_11eb_ba97_0242ac1c0002row16_col9,#T_ff05560c_ea34_11eb_ba97_0242ac1c0002row16_col10,#T_ff05560c_ea34_11eb_ba97_0242ac1c0002row17_col0,#T_ff05560c_ea34_11eb_ba97_0242ac1c0002row17_col1,#T_ff05560c_ea34_11eb_ba97_0242ac1c0002row17_col2,#T_ff05560c_ea34_11eb_ba97_0242ac1c0002row17_col3,#T_ff05560c_ea34_11eb_ba97_0242ac1c0002row17_col4,#T_ff05560c_ea34_11eb_ba97_0242ac1c0002row17_col5,#T_ff05560c_ea34_11eb_ba97_0242ac1c0002row17_col6,#T_ff05560c_ea34_11eb_ba97_0242ac1c0002row17_col7,#T_ff05560c_ea34_11eb_ba97_0242ac1c0002row17_col8,#T_ff05560c_ea34_11eb_ba97_0242ac1c0002row17_col9,#T_ff05560c_ea34_11eb_ba97_0242ac1c0002row17_col16,#T_ff05560c_ea34_11eb_ba97_0242ac1c0002row18_col0,#T_ff05560c_ea34_11eb_ba97_0242ac1c0002row18_col1,#T_ff05560c_ea34_11eb_ba97_0242ac1c0002row18_col2,#T_ff05560c_ea34_11eb_ba97_0242ac1c0002row18_col3,#T_ff05560c_ea34_11eb_ba97_0242ac1c0002row18_col4,#T_ff05560c_ea34_11eb_ba97_0242ac1c0002row18_col5,#T_ff05560c_ea34_11eb_ba97_0242ac1c0002row18_col6,#T_ff05560c_ea34_11eb_ba97_0242ac1c0002row18_col7,#T_ff05560c_ea34_11eb_ba97_0242ac1c0002row18_col15,#T_ff05560c_ea34_11eb_ba97_0242ac1c0002row18_col16,#T_ff05560c_ea34_11eb_ba97_0242ac1c0002row19_col0,#T_ff05560c_ea34_11eb_ba97_0242ac1c0002row19_col1,#T_ff05560c_ea34_11eb_ba97_0242ac1c0002row19_col14,#T_ff05560c_ea34_11eb_ba97_0242ac1c0002row19_col15,#T_ff05560c_ea34_11eb_ba97_0242ac1c0002row19_col16,#T_ff05560c_ea34_11eb_ba97_0242ac1c0002row20_col0,#T_ff05560c_ea34_11eb_ba97_0242ac1c0002row20_col1,#T_ff05560c_ea34_11eb_ba97_0242ac1c0002row20_col12,#T_ff05560c_ea34_11eb_ba97_0242ac1c0002row20_col13,#T_ff05560c_ea34_11eb_ba97_0242ac1c0002row20_col14,#T_ff05560c_ea34_11eb_ba97_0242ac1c0002row20_col15,#T_ff05560c_ea34_11eb_ba97_0242ac1c0002row20_col16,#T_ff05560c_ea34_11eb_ba97_0242ac1c0002row21_col0,#T_ff05560c_ea34_11eb_ba97_0242ac1c0002row21_col1,#T_ff05560c_ea34_11eb_ba97_0242ac1c0002row21_col10,#T_ff05560c_ea34_11eb_ba97_0242ac1c0002row21_col11,#T_ff05560c_ea34_11eb_ba97_0242ac1c0002row21_col12,#T_ff05560c_ea34_11eb_ba97_0242ac1c0002row21_col13,#T_ff05560c_ea34_11eb_ba97_0242ac1c0002row21_col14,#T_ff05560c_ea34_11eb_ba97_0242ac1c0002row21_col15,#T_ff05560c_ea34_11eb_ba97_0242ac1c0002row21_col16{\n",
              "            font-size:  6pt;\n",
              "            background-color:  #ffffff;\n",
              "            color:  #000000;\n",
              "        }#T_ff05560c_ea34_11eb_ba97_0242ac1c0002row2_col5,#T_ff05560c_ea34_11eb_ba97_0242ac1c0002row9_col12{\n",
              "            font-size:  6pt;\n",
              "            background-color:  #f1f1f1;\n",
              "            color:  #000000;\n",
              "        }#T_ff05560c_ea34_11eb_ba97_0242ac1c0002row2_col6,#T_ff05560c_ea34_11eb_ba97_0242ac1c0002row2_col13{\n",
              "            font-size:  6pt;\n",
              "            background-color:  #7c7c7c;\n",
              "            color:  #000000;\n",
              "        }#T_ff05560c_ea34_11eb_ba97_0242ac1c0002row2_col7{\n",
              "            font-size:  6pt;\n",
              "            background-color:  #4a4a4a;\n",
              "            color:  #f1f1f1;\n",
              "        }#T_ff05560c_ea34_11eb_ba97_0242ac1c0002row2_col8,#T_ff05560c_ea34_11eb_ba97_0242ac1c0002row2_col9,#T_ff05560c_ea34_11eb_ba97_0242ac1c0002row2_col10,#T_ff05560c_ea34_11eb_ba97_0242ac1c0002row3_col6,#T_ff05560c_ea34_11eb_ba97_0242ac1c0002row3_col7,#T_ff05560c_ea34_11eb_ba97_0242ac1c0002row3_col11,#T_ff05560c_ea34_11eb_ba97_0242ac1c0002row3_col12,#T_ff05560c_ea34_11eb_ba97_0242ac1c0002row3_col13,#T_ff05560c_ea34_11eb_ba97_0242ac1c0002row4_col4,#T_ff05560c_ea34_11eb_ba97_0242ac1c0002row4_col12,#T_ff05560c_ea34_11eb_ba97_0242ac1c0002row4_col13,#T_ff05560c_ea34_11eb_ba97_0242ac1c0002row5_col1,#T_ff05560c_ea34_11eb_ba97_0242ac1c0002row5_col2,#T_ff05560c_ea34_11eb_ba97_0242ac1c0002row5_col3,#T_ff05560c_ea34_11eb_ba97_0242ac1c0002row5_col12,#T_ff05560c_ea34_11eb_ba97_0242ac1c0002row5_col13,#T_ff05560c_ea34_11eb_ba97_0242ac1c0002row6_col12,#T_ff05560c_ea34_11eb_ba97_0242ac1c0002row7_col11,#T_ff05560c_ea34_11eb_ba97_0242ac1c0002row10_col11,#T_ff05560c_ea34_11eb_ba97_0242ac1c0002row11_col11,#T_ff05560c_ea34_11eb_ba97_0242ac1c0002row11_col12,#T_ff05560c_ea34_11eb_ba97_0242ac1c0002row11_col13,#T_ff05560c_ea34_11eb_ba97_0242ac1c0002row11_col14,#T_ff05560c_ea34_11eb_ba97_0242ac1c0002row12_col13,#T_ff05560c_ea34_11eb_ba97_0242ac1c0002row12_col14,#T_ff05560c_ea34_11eb_ba97_0242ac1c0002row12_col15,#T_ff05560c_ea34_11eb_ba97_0242ac1c0002row13_col14,#T_ff05560c_ea34_11eb_ba97_0242ac1c0002row13_col15,#T_ff05560c_ea34_11eb_ba97_0242ac1c0002row13_col16,#T_ff05560c_ea34_11eb_ba97_0242ac1c0002row14_col14,#T_ff05560c_ea34_11eb_ba97_0242ac1c0002row14_col15,#T_ff05560c_ea34_11eb_ba97_0242ac1c0002row15_col14,#T_ff05560c_ea34_11eb_ba97_0242ac1c0002row15_col15,#T_ff05560c_ea34_11eb_ba97_0242ac1c0002row16_col13,#T_ff05560c_ea34_11eb_ba97_0242ac1c0002row16_col14,#T_ff05560c_ea34_11eb_ba97_0242ac1c0002row17_col12,#T_ff05560c_ea34_11eb_ba97_0242ac1c0002row17_col13,#T_ff05560c_ea34_11eb_ba97_0242ac1c0002row18_col11,#T_ff05560c_ea34_11eb_ba97_0242ac1c0002row18_col12,#T_ff05560c_ea34_11eb_ba97_0242ac1c0002row20_col3,#T_ff05560c_ea34_11eb_ba97_0242ac1c0002row20_col4,#T_ff05560c_ea34_11eb_ba97_0242ac1c0002row20_col5,#T_ff05560c_ea34_11eb_ba97_0242ac1c0002row20_col6,#T_ff05560c_ea34_11eb_ba97_0242ac1c0002row20_col7,#T_ff05560c_ea34_11eb_ba97_0242ac1c0002row21_col3,#T_ff05560c_ea34_11eb_ba97_0242ac1c0002row21_col4,#T_ff05560c_ea34_11eb_ba97_0242ac1c0002row21_col5,#T_ff05560c_ea34_11eb_ba97_0242ac1c0002row21_col6,#T_ff05560c_ea34_11eb_ba97_0242ac1c0002row21_col7{\n",
              "            font-size:  6pt;\n",
              "            background-color:  #000000;\n",
              "            color:  #f1f1f1;\n",
              "        }#T_ff05560c_ea34_11eb_ba97_0242ac1c0002row2_col11{\n",
              "            font-size:  6pt;\n",
              "            background-color:  #606060;\n",
              "            color:  #f1f1f1;\n",
              "        }#T_ff05560c_ea34_11eb_ba97_0242ac1c0002row2_col12{\n",
              "            font-size:  6pt;\n",
              "            background-color:  #4d4d4d;\n",
              "            color:  #f1f1f1;\n",
              "        }#T_ff05560c_ea34_11eb_ba97_0242ac1c0002row2_col14{\n",
              "            font-size:  6pt;\n",
              "            background-color:  #bbbbbb;\n",
              "            color:  #000000;\n",
              "        }#T_ff05560c_ea34_11eb_ba97_0242ac1c0002row3_col3,#T_ff05560c_ea34_11eb_ba97_0242ac1c0002row5_col5{\n",
              "            font-size:  6pt;\n",
              "            background-color:  #e4e4e4;\n",
              "            color:  #000000;\n",
              "        }#T_ff05560c_ea34_11eb_ba97_0242ac1c0002row3_col4,#T_ff05560c_ea34_11eb_ba97_0242ac1c0002row9_col6{\n",
              "            font-size:  6pt;\n",
              "            background-color:  #6b6b6b;\n",
              "            color:  #000000;\n",
              "        }#T_ff05560c_ea34_11eb_ba97_0242ac1c0002row3_col5,#T_ff05560c_ea34_11eb_ba97_0242ac1c0002row6_col11{\n",
              "            font-size:  6pt;\n",
              "            background-color:  #222222;\n",
              "            color:  #f1f1f1;\n",
              "        }#T_ff05560c_ea34_11eb_ba97_0242ac1c0002row3_col8,#T_ff05560c_ea34_11eb_ba97_0242ac1c0002row3_col14,#T_ff05560c_ea34_11eb_ba97_0242ac1c0002row4_col14,#T_ff05560c_ea34_11eb_ba97_0242ac1c0002row18_col13{\n",
              "            font-size:  6pt;\n",
              "            background-color:  #171717;\n",
              "            color:  #f1f1f1;\n",
              "        }#T_ff05560c_ea34_11eb_ba97_0242ac1c0002row3_col9,#T_ff05560c_ea34_11eb_ba97_0242ac1c0002row4_col11{\n",
              "            font-size:  6pt;\n",
              "            background-color:  #4b4b4b;\n",
              "            color:  #f1f1f1;\n",
              "        }#T_ff05560c_ea34_11eb_ba97_0242ac1c0002row3_col10,#T_ff05560c_ea34_11eb_ba97_0242ac1c0002row8_col10,#T_ff05560c_ea34_11eb_ba97_0242ac1c0002row9_col8,#T_ff05560c_ea34_11eb_ba97_0242ac1c0002row9_col10,#T_ff05560c_ea34_11eb_ba97_0242ac1c0002row10_col8,#T_ff05560c_ea34_11eb_ba97_0242ac1c0002row10_col10,#T_ff05560c_ea34_11eb_ba97_0242ac1c0002row19_col10,#T_ff05560c_ea34_11eb_ba97_0242ac1c0002row20_col8{\n",
              "            font-size:  6pt;\n",
              "            background-color:  #010101;\n",
              "            color:  #f1f1f1;\n",
              "        }#T_ff05560c_ea34_11eb_ba97_0242ac1c0002row4_col1{\n",
              "            font-size:  6pt;\n",
              "            background-color:  #272727;\n",
              "            color:  #f1f1f1;\n",
              "        }#T_ff05560c_ea34_11eb_ba97_0242ac1c0002row4_col2{\n",
              "            font-size:  6pt;\n",
              "            background-color:  #0a0a0a;\n",
              "            color:  #f1f1f1;\n",
              "        }#T_ff05560c_ea34_11eb_ba97_0242ac1c0002row4_col3,#T_ff05560c_ea34_11eb_ba97_0242ac1c0002row15_col13{\n",
              "            font-size:  6pt;\n",
              "            background-color:  #050505;\n",
              "            color:  #f1f1f1;\n",
              "        }#T_ff05560c_ea34_11eb_ba97_0242ac1c0002row4_col5,#T_ff05560c_ea34_11eb_ba97_0242ac1c0002row9_col11,#T_ff05560c_ea34_11eb_ba97_0242ac1c0002row11_col15,#T_ff05560c_ea34_11eb_ba97_0242ac1c0002row20_col2{\n",
              "            font-size:  6pt;\n",
              "            background-color:  #545454;\n",
              "            color:  #f1f1f1;\n",
              "        }#T_ff05560c_ea34_11eb_ba97_0242ac1c0002row4_col6{\n",
              "            font-size:  6pt;\n",
              "            background-color:  #e6e6e6;\n",
              "            color:  #000000;\n",
              "        }#T_ff05560c_ea34_11eb_ba97_0242ac1c0002row4_col7,#T_ff05560c_ea34_11eb_ba97_0242ac1c0002row4_col10,#T_ff05560c_ea34_11eb_ba97_0242ac1c0002row9_col5{\n",
              "            font-size:  6pt;\n",
              "            background-color:  #fafafa;\n",
              "            color:  #000000;\n",
              "        }#T_ff05560c_ea34_11eb_ba97_0242ac1c0002row4_col8,#T_ff05560c_ea34_11eb_ba97_0242ac1c0002row12_col10,#T_ff05560c_ea34_11eb_ba97_0242ac1c0002row17_col15{\n",
              "            font-size:  6pt;\n",
              "            background-color:  #fbfbfb;\n",
              "            color:  #000000;\n",
              "        }#T_ff05560c_ea34_11eb_ba97_0242ac1c0002row4_col9{\n",
              "            font-size:  6pt;\n",
              "            background-color:  #fdfdfd;\n",
              "            color:  #000000;\n",
              "        }#T_ff05560c_ea34_11eb_ba97_0242ac1c0002row5_col4{\n",
              "            font-size:  6pt;\n",
              "            background-color:  #1b1b1b;\n",
              "            color:  #f1f1f1;\n",
              "        }#T_ff05560c_ea34_11eb_ba97_0242ac1c0002row5_col11{\n",
              "            font-size:  6pt;\n",
              "            background-color:  #4e4e4e;\n",
              "            color:  #f1f1f1;\n",
              "        }#T_ff05560c_ea34_11eb_ba97_0242ac1c0002row5_col14{\n",
              "            font-size:  6pt;\n",
              "            background-color:  #767676;\n",
              "            color:  #000000;\n",
              "        }#T_ff05560c_ea34_11eb_ba97_0242ac1c0002row6_col1{\n",
              "            font-size:  6pt;\n",
              "            background-color:  #fcfcfc;\n",
              "            color:  #000000;\n",
              "        }#T_ff05560c_ea34_11eb_ba97_0242ac1c0002row6_col2,#T_ff05560c_ea34_11eb_ba97_0242ac1c0002row6_col3,#T_ff05560c_ea34_11eb_ba97_0242ac1c0002row16_col16{\n",
              "            font-size:  6pt;\n",
              "            background-color:  #f6f6f6;\n",
              "            color:  #000000;\n",
              "        }#T_ff05560c_ea34_11eb_ba97_0242ac1c0002row6_col4,#T_ff05560c_ea34_11eb_ba97_0242ac1c0002row8_col7{\n",
              "            font-size:  6pt;\n",
              "            background-color:  #f8f8f8;\n",
              "            color:  #000000;\n",
              "        }#T_ff05560c_ea34_11eb_ba97_0242ac1c0002row6_col10,#T_ff05560c_ea34_11eb_ba97_0242ac1c0002row11_col7{\n",
              "            font-size:  6pt;\n",
              "            background-color:  #e8e8e8;\n",
              "            color:  #000000;\n",
              "        }#T_ff05560c_ea34_11eb_ba97_0242ac1c0002row6_col13,#T_ff05560c_ea34_11eb_ba97_0242ac1c0002row7_col12{\n",
              "            font-size:  6pt;\n",
              "            background-color:  #090909;\n",
              "            color:  #f1f1f1;\n",
              "        }#T_ff05560c_ea34_11eb_ba97_0242ac1c0002row6_col14{\n",
              "            font-size:  6pt;\n",
              "            background-color:  #d0d0d0;\n",
              "            color:  #000000;\n",
              "        }#T_ff05560c_ea34_11eb_ba97_0242ac1c0002row7_col10,#T_ff05560c_ea34_11eb_ba97_0242ac1c0002row8_col11,#T_ff05560c_ea34_11eb_ba97_0242ac1c0002row10_col6{\n",
              "            font-size:  6pt;\n",
              "            background-color:  #060606;\n",
              "            color:  #f1f1f1;\n",
              "        }#T_ff05560c_ea34_11eb_ba97_0242ac1c0002row7_col13{\n",
              "            font-size:  6pt;\n",
              "            background-color:  #979797;\n",
              "            color:  #000000;\n",
              "        }#T_ff05560c_ea34_11eb_ba97_0242ac1c0002row8_col8{\n",
              "            font-size:  6pt;\n",
              "            background-color:  #b6b6b6;\n",
              "            color:  #000000;\n",
              "        }#T_ff05560c_ea34_11eb_ba97_0242ac1c0002row8_col9{\n",
              "            font-size:  6pt;\n",
              "            background-color:  #252525;\n",
              "            color:  #f1f1f1;\n",
              "        }#T_ff05560c_ea34_11eb_ba97_0242ac1c0002row8_col12{\n",
              "            font-size:  6pt;\n",
              "            background-color:  #999999;\n",
              "            color:  #000000;\n",
              "        }#T_ff05560c_ea34_11eb_ba97_0242ac1c0002row9_col7,#T_ff05560c_ea34_11eb_ba97_0242ac1c0002row19_col8{\n",
              "            font-size:  6pt;\n",
              "            background-color:  #101010;\n",
              "            color:  #f1f1f1;\n",
              "        }#T_ff05560c_ea34_11eb_ba97_0242ac1c0002row9_col9,#T_ff05560c_ea34_11eb_ba97_0242ac1c0002row10_col9,#T_ff05560c_ea34_11eb_ba97_0242ac1c0002row18_col10,#T_ff05560c_ea34_11eb_ba97_0242ac1c0002row19_col9,#T_ff05560c_ea34_11eb_ba97_0242ac1c0002row20_col9{\n",
              "            font-size:  6pt;\n",
              "            background-color:  #020202;\n",
              "            color:  #f1f1f1;\n",
              "        }#T_ff05560c_ea34_11eb_ba97_0242ac1c0002row10_col5{\n",
              "            font-size:  6pt;\n",
              "            background-color:  #f7f7f7;\n",
              "            color:  #000000;\n",
              "        }#T_ff05560c_ea34_11eb_ba97_0242ac1c0002row10_col7,#T_ff05560c_ea34_11eb_ba97_0242ac1c0002row19_col11{\n",
              "            font-size:  6pt;\n",
              "            background-color:  #030303;\n",
              "            color:  #f1f1f1;\n",
              "        }#T_ff05560c_ea34_11eb_ba97_0242ac1c0002row10_col12{\n",
              "            font-size:  6pt;\n",
              "            background-color:  #181818;\n",
              "            color:  #f1f1f1;\n",
              "        }#T_ff05560c_ea34_11eb_ba97_0242ac1c0002row10_col13{\n",
              "            font-size:  6pt;\n",
              "            background-color:  #303030;\n",
              "            color:  #f1f1f1;\n",
              "        }#T_ff05560c_ea34_11eb_ba97_0242ac1c0002row10_col14{\n",
              "            font-size:  6pt;\n",
              "            background-color:  #a9a9a9;\n",
              "            color:  #000000;\n",
              "        }#T_ff05560c_ea34_11eb_ba97_0242ac1c0002row10_col15{\n",
              "            font-size:  6pt;\n",
              "            background-color:  #fefefe;\n",
              "            color:  #000000;\n",
              "        }#T_ff05560c_ea34_11eb_ba97_0242ac1c0002row11_col8,#T_ff05560c_ea34_11eb_ba97_0242ac1c0002row11_col9,#T_ff05560c_ea34_11eb_ba97_0242ac1c0002row17_col10{\n",
              "            font-size:  6pt;\n",
              "            background-color:  #bababa;\n",
              "            color:  #000000;\n",
              "        }#T_ff05560c_ea34_11eb_ba97_0242ac1c0002row11_col10{\n",
              "            font-size:  6pt;\n",
              "            background-color:  #393939;\n",
              "            color:  #f1f1f1;\n",
              "        }#T_ff05560c_ea34_11eb_ba97_0242ac1c0002row11_col16{\n",
              "            font-size:  6pt;\n",
              "            background-color:  #eaeaea;\n",
              "            color:  #000000;\n",
              "        }#T_ff05560c_ea34_11eb_ba97_0242ac1c0002row12_col11{\n",
              "            font-size:  6pt;\n",
              "            background-color:  #e2e2e2;\n",
              "            color:  #000000;\n",
              "        }#T_ff05560c_ea34_11eb_ba97_0242ac1c0002row12_col12{\n",
              "            font-size:  6pt;\n",
              "            background-color:  #9f9f9f;\n",
              "            color:  #000000;\n",
              "        }#T_ff05560c_ea34_11eb_ba97_0242ac1c0002row12_col16{\n",
              "            font-size:  6pt;\n",
              "            background-color:  #898989;\n",
              "            color:  #000000;\n",
              "        }#T_ff05560c_ea34_11eb_ba97_0242ac1c0002row13_col13{\n",
              "            font-size:  6pt;\n",
              "            background-color:  #585858;\n",
              "            color:  #f1f1f1;\n",
              "        }#T_ff05560c_ea34_11eb_ba97_0242ac1c0002row14_col13{\n",
              "            font-size:  6pt;\n",
              "            background-color:  #5a5a5a;\n",
              "            color:  #f1f1f1;\n",
              "        }#T_ff05560c_ea34_11eb_ba97_0242ac1c0002row14_col16{\n",
              "            font-size:  6pt;\n",
              "            background-color:  #525252;\n",
              "            color:  #f1f1f1;\n",
              "        }#T_ff05560c_ea34_11eb_ba97_0242ac1c0002row15_col12,#T_ff05560c_ea34_11eb_ba97_0242ac1c0002row20_col11{\n",
              "            font-size:  6pt;\n",
              "            background-color:  #c5c5c5;\n",
              "            color:  #000000;\n",
              "        }#T_ff05560c_ea34_11eb_ba97_0242ac1c0002row15_col16{\n",
              "            font-size:  6pt;\n",
              "            background-color:  #d7d7d7;\n",
              "            color:  #000000;\n",
              "        }#T_ff05560c_ea34_11eb_ba97_0242ac1c0002row16_col11,#T_ff05560c_ea34_11eb_ba97_0242ac1c0002row19_col5{\n",
              "            font-size:  6pt;\n",
              "            background-color:  #dcdcdc;\n",
              "            color:  #000000;\n",
              "        }#T_ff05560c_ea34_11eb_ba97_0242ac1c0002row16_col12{\n",
              "            font-size:  6pt;\n",
              "            background-color:  #2f2f2f;\n",
              "            color:  #f1f1f1;\n",
              "        }#T_ff05560c_ea34_11eb_ba97_0242ac1c0002row16_col15{\n",
              "            font-size:  6pt;\n",
              "            background-color:  #636363;\n",
              "            color:  #f1f1f1;\n",
              "        }#T_ff05560c_ea34_11eb_ba97_0242ac1c0002row17_col11{\n",
              "            font-size:  6pt;\n",
              "            background-color:  #070707;\n",
              "            color:  #f1f1f1;\n",
              "        }#T_ff05560c_ea34_11eb_ba97_0242ac1c0002row17_col14{\n",
              "            font-size:  6pt;\n",
              "            background-color:  #1f1f1f;\n",
              "            color:  #f1f1f1;\n",
              "        }#T_ff05560c_ea34_11eb_ba97_0242ac1c0002row18_col8,#T_ff05560c_ea34_11eb_ba97_0242ac1c0002row19_col2,#T_ff05560c_ea34_11eb_ba97_0242ac1c0002row19_col4{\n",
              "            font-size:  6pt;\n",
              "            background-color:  #e9e9e9;\n",
              "            color:  #000000;\n",
              "        }#T_ff05560c_ea34_11eb_ba97_0242ac1c0002row18_col9{\n",
              "            font-size:  6pt;\n",
              "            background-color:  #7d7d7d;\n",
              "            color:  #000000;\n",
              "        }#T_ff05560c_ea34_11eb_ba97_0242ac1c0002row18_col14{\n",
              "            font-size:  6pt;\n",
              "            background-color:  #e1e1e1;\n",
              "            color:  #000000;\n",
              "        }#T_ff05560c_ea34_11eb_ba97_0242ac1c0002row19_col3,#T_ff05560c_ea34_11eb_ba97_0242ac1c0002row19_col6{\n",
              "            font-size:  6pt;\n",
              "            background-color:  #a4a4a4;\n",
              "            color:  #000000;\n",
              "        }#T_ff05560c_ea34_11eb_ba97_0242ac1c0002row19_col7{\n",
              "            font-size:  6pt;\n",
              "            background-color:  #727272;\n",
              "            color:  #000000;\n",
              "        }#T_ff05560c_ea34_11eb_ba97_0242ac1c0002row19_col12{\n",
              "            font-size:  6pt;\n",
              "            background-color:  #616161;\n",
              "            color:  #f1f1f1;\n",
              "        }#T_ff05560c_ea34_11eb_ba97_0242ac1c0002row19_col13{\n",
              "            font-size:  6pt;\n",
              "            background-color:  #f3f3f3;\n",
              "            color:  #000000;\n",
              "        }#T_ff05560c_ea34_11eb_ba97_0242ac1c0002row20_col10{\n",
              "            font-size:  6pt;\n",
              "            background-color:  #484848;\n",
              "            color:  #f1f1f1;\n",
              "        }#T_ff05560c_ea34_11eb_ba97_0242ac1c0002row21_col2{\n",
              "            font-size:  6pt;\n",
              "            background-color:  #b3b3b3;\n",
              "            color:  #000000;\n",
              "        }#T_ff05560c_ea34_11eb_ba97_0242ac1c0002row21_col8{\n",
              "            font-size:  6pt;\n",
              "            background-color:  #1a1a1a;\n",
              "            color:  #f1f1f1;\n",
              "        }#T_ff05560c_ea34_11eb_ba97_0242ac1c0002row21_col9{\n",
              "            font-size:  6pt;\n",
              "            background-color:  #d6d6d6;\n",
              "            color:  #000000;\n",
              "        }</style><table id=\"T_ff05560c_ea34_11eb_ba97_0242ac1c0002\" ><thead>    <tr>        <th class=\"blank level0\" ></th>        <th class=\"col_heading level0 col0\" >0</th>        <th class=\"col_heading level0 col1\" >1</th>        <th class=\"col_heading level0 col2\" >2</th>        <th class=\"col_heading level0 col3\" >3</th>        <th class=\"col_heading level0 col4\" >4</th>        <th class=\"col_heading level0 col5\" >5</th>        <th class=\"col_heading level0 col6\" >6</th>        <th class=\"col_heading level0 col7\" >7</th>        <th class=\"col_heading level0 col8\" >8</th>        <th class=\"col_heading level0 col9\" >9</th>        <th class=\"col_heading level0 col10\" >10</th>        <th class=\"col_heading level0 col11\" >11</th>        <th class=\"col_heading level0 col12\" >12</th>        <th class=\"col_heading level0 col13\" >13</th>        <th class=\"col_heading level0 col14\" >14</th>        <th class=\"col_heading level0 col15\" >15</th>        <th class=\"col_heading level0 col16\" >16</th>    </tr></thead><tbody>\n",
              "                <tr>\n",
              "                        <th id=\"T_ff05560c_ea34_11eb_ba97_0242ac1c0002level0_row0\" class=\"row_heading level0 row0\" >0</th>\n",
              "                        <td id=\"T_ff05560c_ea34_11eb_ba97_0242ac1c0002row0_col0\" class=\"data row0 col0\" >0</td>\n",
              "                        <td id=\"T_ff05560c_ea34_11eb_ba97_0242ac1c0002row0_col1\" class=\"data row0 col1\" >0</td>\n",
              "                        <td id=\"T_ff05560c_ea34_11eb_ba97_0242ac1c0002row0_col2\" class=\"data row0 col2\" >0</td>\n",
              "                        <td id=\"T_ff05560c_ea34_11eb_ba97_0242ac1c0002row0_col3\" class=\"data row0 col3\" >0</td>\n",
              "                        <td id=\"T_ff05560c_ea34_11eb_ba97_0242ac1c0002row0_col4\" class=\"data row0 col4\" >0</td>\n",
              "                        <td id=\"T_ff05560c_ea34_11eb_ba97_0242ac1c0002row0_col5\" class=\"data row0 col5\" >0</td>\n",
              "                        <td id=\"T_ff05560c_ea34_11eb_ba97_0242ac1c0002row0_col6\" class=\"data row0 col6\" >0</td>\n",
              "                        <td id=\"T_ff05560c_ea34_11eb_ba97_0242ac1c0002row0_col7\" class=\"data row0 col7\" >0</td>\n",
              "                        <td id=\"T_ff05560c_ea34_11eb_ba97_0242ac1c0002row0_col8\" class=\"data row0 col8\" >0</td>\n",
              "                        <td id=\"T_ff05560c_ea34_11eb_ba97_0242ac1c0002row0_col9\" class=\"data row0 col9\" >0</td>\n",
              "                        <td id=\"T_ff05560c_ea34_11eb_ba97_0242ac1c0002row0_col10\" class=\"data row0 col10\" >0</td>\n",
              "                        <td id=\"T_ff05560c_ea34_11eb_ba97_0242ac1c0002row0_col11\" class=\"data row0 col11\" >0</td>\n",
              "                        <td id=\"T_ff05560c_ea34_11eb_ba97_0242ac1c0002row0_col12\" class=\"data row0 col12\" >0</td>\n",
              "                        <td id=\"T_ff05560c_ea34_11eb_ba97_0242ac1c0002row0_col13\" class=\"data row0 col13\" >0</td>\n",
              "                        <td id=\"T_ff05560c_ea34_11eb_ba97_0242ac1c0002row0_col14\" class=\"data row0 col14\" >0</td>\n",
              "                        <td id=\"T_ff05560c_ea34_11eb_ba97_0242ac1c0002row0_col15\" class=\"data row0 col15\" >0</td>\n",
              "                        <td id=\"T_ff05560c_ea34_11eb_ba97_0242ac1c0002row0_col16\" class=\"data row0 col16\" >0</td>\n",
              "            </tr>\n",
              "            <tr>\n",
              "                        <th id=\"T_ff05560c_ea34_11eb_ba97_0242ac1c0002level0_row1\" class=\"row_heading level0 row1\" >1</th>\n",
              "                        <td id=\"T_ff05560c_ea34_11eb_ba97_0242ac1c0002row1_col0\" class=\"data row1 col0\" >0</td>\n",
              "                        <td id=\"T_ff05560c_ea34_11eb_ba97_0242ac1c0002row1_col1\" class=\"data row1 col1\" >0</td>\n",
              "                        <td id=\"T_ff05560c_ea34_11eb_ba97_0242ac1c0002row1_col2\" class=\"data row1 col2\" >0</td>\n",
              "                        <td id=\"T_ff05560c_ea34_11eb_ba97_0242ac1c0002row1_col3\" class=\"data row1 col3\" >0</td>\n",
              "                        <td id=\"T_ff05560c_ea34_11eb_ba97_0242ac1c0002row1_col4\" class=\"data row1 col4\" >0</td>\n",
              "                        <td id=\"T_ff05560c_ea34_11eb_ba97_0242ac1c0002row1_col5\" class=\"data row1 col5\" >0</td>\n",
              "                        <td id=\"T_ff05560c_ea34_11eb_ba97_0242ac1c0002row1_col6\" class=\"data row1 col6\" >0</td>\n",
              "                        <td id=\"T_ff05560c_ea34_11eb_ba97_0242ac1c0002row1_col7\" class=\"data row1 col7\" >0</td>\n",
              "                        <td id=\"T_ff05560c_ea34_11eb_ba97_0242ac1c0002row1_col8\" class=\"data row1 col8\" >0</td>\n",
              "                        <td id=\"T_ff05560c_ea34_11eb_ba97_0242ac1c0002row1_col9\" class=\"data row1 col9\" >0</td>\n",
              "                        <td id=\"T_ff05560c_ea34_11eb_ba97_0242ac1c0002row1_col10\" class=\"data row1 col10\" >0</td>\n",
              "                        <td id=\"T_ff05560c_ea34_11eb_ba97_0242ac1c0002row1_col11\" class=\"data row1 col11\" >0</td>\n",
              "                        <td id=\"T_ff05560c_ea34_11eb_ba97_0242ac1c0002row1_col12\" class=\"data row1 col12\" >0</td>\n",
              "                        <td id=\"T_ff05560c_ea34_11eb_ba97_0242ac1c0002row1_col13\" class=\"data row1 col13\" >0</td>\n",
              "                        <td id=\"T_ff05560c_ea34_11eb_ba97_0242ac1c0002row1_col14\" class=\"data row1 col14\" >0</td>\n",
              "                        <td id=\"T_ff05560c_ea34_11eb_ba97_0242ac1c0002row1_col15\" class=\"data row1 col15\" >0</td>\n",
              "                        <td id=\"T_ff05560c_ea34_11eb_ba97_0242ac1c0002row1_col16\" class=\"data row1 col16\" >0</td>\n",
              "            </tr>\n",
              "            <tr>\n",
              "                        <th id=\"T_ff05560c_ea34_11eb_ba97_0242ac1c0002level0_row2\" class=\"row_heading level0 row2\" >2</th>\n",
              "                        <td id=\"T_ff05560c_ea34_11eb_ba97_0242ac1c0002row2_col0\" class=\"data row2 col0\" >0</td>\n",
              "                        <td id=\"T_ff05560c_ea34_11eb_ba97_0242ac1c0002row2_col1\" class=\"data row2 col1\" >0</td>\n",
              "                        <td id=\"T_ff05560c_ea34_11eb_ba97_0242ac1c0002row2_col2\" class=\"data row2 col2\" >0</td>\n",
              "                        <td id=\"T_ff05560c_ea34_11eb_ba97_0242ac1c0002row2_col3\" class=\"data row2 col3\" >0</td>\n",
              "                        <td id=\"T_ff05560c_ea34_11eb_ba97_0242ac1c0002row2_col4\" class=\"data row2 col4\" >0</td>\n",
              "                        <td id=\"T_ff05560c_ea34_11eb_ba97_0242ac1c0002row2_col5\" class=\"data row2 col5\" >29</td>\n",
              "                        <td id=\"T_ff05560c_ea34_11eb_ba97_0242ac1c0002row2_col6\" class=\"data row2 col6\" >150</td>\n",
              "                        <td id=\"T_ff05560c_ea34_11eb_ba97_0242ac1c0002row2_col7\" class=\"data row2 col7\" >195</td>\n",
              "                        <td id=\"T_ff05560c_ea34_11eb_ba97_0242ac1c0002row2_col8\" class=\"data row2 col8\" >254</td>\n",
              "                        <td id=\"T_ff05560c_ea34_11eb_ba97_0242ac1c0002row2_col9\" class=\"data row2 col9\" >255</td>\n",
              "                        <td id=\"T_ff05560c_ea34_11eb_ba97_0242ac1c0002row2_col10\" class=\"data row2 col10\" >254</td>\n",
              "                        <td id=\"T_ff05560c_ea34_11eb_ba97_0242ac1c0002row2_col11\" class=\"data row2 col11\" >176</td>\n",
              "                        <td id=\"T_ff05560c_ea34_11eb_ba97_0242ac1c0002row2_col12\" class=\"data row2 col12\" >193</td>\n",
              "                        <td id=\"T_ff05560c_ea34_11eb_ba97_0242ac1c0002row2_col13\" class=\"data row2 col13\" >150</td>\n",
              "                        <td id=\"T_ff05560c_ea34_11eb_ba97_0242ac1c0002row2_col14\" class=\"data row2 col14\" >96</td>\n",
              "                        <td id=\"T_ff05560c_ea34_11eb_ba97_0242ac1c0002row2_col15\" class=\"data row2 col15\" >0</td>\n",
              "                        <td id=\"T_ff05560c_ea34_11eb_ba97_0242ac1c0002row2_col16\" class=\"data row2 col16\" >0</td>\n",
              "            </tr>\n",
              "            <tr>\n",
              "                        <th id=\"T_ff05560c_ea34_11eb_ba97_0242ac1c0002level0_row3\" class=\"row_heading level0 row3\" >3</th>\n",
              "                        <td id=\"T_ff05560c_ea34_11eb_ba97_0242ac1c0002row3_col0\" class=\"data row3 col0\" >0</td>\n",
              "                        <td id=\"T_ff05560c_ea34_11eb_ba97_0242ac1c0002row3_col1\" class=\"data row3 col1\" >0</td>\n",
              "                        <td id=\"T_ff05560c_ea34_11eb_ba97_0242ac1c0002row3_col2\" class=\"data row3 col2\" >0</td>\n",
              "                        <td id=\"T_ff05560c_ea34_11eb_ba97_0242ac1c0002row3_col3\" class=\"data row3 col3\" >48</td>\n",
              "                        <td id=\"T_ff05560c_ea34_11eb_ba97_0242ac1c0002row3_col4\" class=\"data row3 col4\" >166</td>\n",
              "                        <td id=\"T_ff05560c_ea34_11eb_ba97_0242ac1c0002row3_col5\" class=\"data row3 col5\" >224</td>\n",
              "                        <td id=\"T_ff05560c_ea34_11eb_ba97_0242ac1c0002row3_col6\" class=\"data row3 col6\" >253</td>\n",
              "                        <td id=\"T_ff05560c_ea34_11eb_ba97_0242ac1c0002row3_col7\" class=\"data row3 col7\" >253</td>\n",
              "                        <td id=\"T_ff05560c_ea34_11eb_ba97_0242ac1c0002row3_col8\" class=\"data row3 col8\" >234</td>\n",
              "                        <td id=\"T_ff05560c_ea34_11eb_ba97_0242ac1c0002row3_col9\" class=\"data row3 col9\" >196</td>\n",
              "                        <td id=\"T_ff05560c_ea34_11eb_ba97_0242ac1c0002row3_col10\" class=\"data row3 col10\" >253</td>\n",
              "                        <td id=\"T_ff05560c_ea34_11eb_ba97_0242ac1c0002row3_col11\" class=\"data row3 col11\" >253</td>\n",
              "                        <td id=\"T_ff05560c_ea34_11eb_ba97_0242ac1c0002row3_col12\" class=\"data row3 col12\" >253</td>\n",
              "                        <td id=\"T_ff05560c_ea34_11eb_ba97_0242ac1c0002row3_col13\" class=\"data row3 col13\" >253</td>\n",
              "                        <td id=\"T_ff05560c_ea34_11eb_ba97_0242ac1c0002row3_col14\" class=\"data row3 col14\" >233</td>\n",
              "                        <td id=\"T_ff05560c_ea34_11eb_ba97_0242ac1c0002row3_col15\" class=\"data row3 col15\" >0</td>\n",
              "                        <td id=\"T_ff05560c_ea34_11eb_ba97_0242ac1c0002row3_col16\" class=\"data row3 col16\" >0</td>\n",
              "            </tr>\n",
              "            <tr>\n",
              "                        <th id=\"T_ff05560c_ea34_11eb_ba97_0242ac1c0002level0_row4\" class=\"row_heading level0 row4\" >4</th>\n",
              "                        <td id=\"T_ff05560c_ea34_11eb_ba97_0242ac1c0002row4_col0\" class=\"data row4 col0\" >0</td>\n",
              "                        <td id=\"T_ff05560c_ea34_11eb_ba97_0242ac1c0002row4_col1\" class=\"data row4 col1\" >93</td>\n",
              "                        <td id=\"T_ff05560c_ea34_11eb_ba97_0242ac1c0002row4_col2\" class=\"data row4 col2\" >244</td>\n",
              "                        <td id=\"T_ff05560c_ea34_11eb_ba97_0242ac1c0002row4_col3\" class=\"data row4 col3\" >249</td>\n",
              "                        <td id=\"T_ff05560c_ea34_11eb_ba97_0242ac1c0002row4_col4\" class=\"data row4 col4\" >253</td>\n",
              "                        <td id=\"T_ff05560c_ea34_11eb_ba97_0242ac1c0002row4_col5\" class=\"data row4 col5\" >187</td>\n",
              "                        <td id=\"T_ff05560c_ea34_11eb_ba97_0242ac1c0002row4_col6\" class=\"data row4 col6\" >46</td>\n",
              "                        <td id=\"T_ff05560c_ea34_11eb_ba97_0242ac1c0002row4_col7\" class=\"data row4 col7\" >10</td>\n",
              "                        <td id=\"T_ff05560c_ea34_11eb_ba97_0242ac1c0002row4_col8\" class=\"data row4 col8\" >8</td>\n",
              "                        <td id=\"T_ff05560c_ea34_11eb_ba97_0242ac1c0002row4_col9\" class=\"data row4 col9\" >4</td>\n",
              "                        <td id=\"T_ff05560c_ea34_11eb_ba97_0242ac1c0002row4_col10\" class=\"data row4 col10\" >10</td>\n",
              "                        <td id=\"T_ff05560c_ea34_11eb_ba97_0242ac1c0002row4_col11\" class=\"data row4 col11\" >194</td>\n",
              "                        <td id=\"T_ff05560c_ea34_11eb_ba97_0242ac1c0002row4_col12\" class=\"data row4 col12\" >253</td>\n",
              "                        <td id=\"T_ff05560c_ea34_11eb_ba97_0242ac1c0002row4_col13\" class=\"data row4 col13\" >253</td>\n",
              "                        <td id=\"T_ff05560c_ea34_11eb_ba97_0242ac1c0002row4_col14\" class=\"data row4 col14\" >233</td>\n",
              "                        <td id=\"T_ff05560c_ea34_11eb_ba97_0242ac1c0002row4_col15\" class=\"data row4 col15\" >0</td>\n",
              "                        <td id=\"T_ff05560c_ea34_11eb_ba97_0242ac1c0002row4_col16\" class=\"data row4 col16\" >0</td>\n",
              "            </tr>\n",
              "            <tr>\n",
              "                        <th id=\"T_ff05560c_ea34_11eb_ba97_0242ac1c0002level0_row5\" class=\"row_heading level0 row5\" >5</th>\n",
              "                        <td id=\"T_ff05560c_ea34_11eb_ba97_0242ac1c0002row5_col0\" class=\"data row5 col0\" >0</td>\n",
              "                        <td id=\"T_ff05560c_ea34_11eb_ba97_0242ac1c0002row5_col1\" class=\"data row5 col1\" >107</td>\n",
              "                        <td id=\"T_ff05560c_ea34_11eb_ba97_0242ac1c0002row5_col2\" class=\"data row5 col2\" >253</td>\n",
              "                        <td id=\"T_ff05560c_ea34_11eb_ba97_0242ac1c0002row5_col3\" class=\"data row5 col3\" >253</td>\n",
              "                        <td id=\"T_ff05560c_ea34_11eb_ba97_0242ac1c0002row5_col4\" class=\"data row5 col4\" >230</td>\n",
              "                        <td id=\"T_ff05560c_ea34_11eb_ba97_0242ac1c0002row5_col5\" class=\"data row5 col5\" >48</td>\n",
              "                        <td id=\"T_ff05560c_ea34_11eb_ba97_0242ac1c0002row5_col6\" class=\"data row5 col6\" >0</td>\n",
              "                        <td id=\"T_ff05560c_ea34_11eb_ba97_0242ac1c0002row5_col7\" class=\"data row5 col7\" >0</td>\n",
              "                        <td id=\"T_ff05560c_ea34_11eb_ba97_0242ac1c0002row5_col8\" class=\"data row5 col8\" >0</td>\n",
              "                        <td id=\"T_ff05560c_ea34_11eb_ba97_0242ac1c0002row5_col9\" class=\"data row5 col9\" >0</td>\n",
              "                        <td id=\"T_ff05560c_ea34_11eb_ba97_0242ac1c0002row5_col10\" class=\"data row5 col10\" >0</td>\n",
              "                        <td id=\"T_ff05560c_ea34_11eb_ba97_0242ac1c0002row5_col11\" class=\"data row5 col11\" >192</td>\n",
              "                        <td id=\"T_ff05560c_ea34_11eb_ba97_0242ac1c0002row5_col12\" class=\"data row5 col12\" >253</td>\n",
              "                        <td id=\"T_ff05560c_ea34_11eb_ba97_0242ac1c0002row5_col13\" class=\"data row5 col13\" >253</td>\n",
              "                        <td id=\"T_ff05560c_ea34_11eb_ba97_0242ac1c0002row5_col14\" class=\"data row5 col14\" >156</td>\n",
              "                        <td id=\"T_ff05560c_ea34_11eb_ba97_0242ac1c0002row5_col15\" class=\"data row5 col15\" >0</td>\n",
              "                        <td id=\"T_ff05560c_ea34_11eb_ba97_0242ac1c0002row5_col16\" class=\"data row5 col16\" >0</td>\n",
              "            </tr>\n",
              "            <tr>\n",
              "                        <th id=\"T_ff05560c_ea34_11eb_ba97_0242ac1c0002level0_row6\" class=\"row_heading level0 row6\" >6</th>\n",
              "                        <td id=\"T_ff05560c_ea34_11eb_ba97_0242ac1c0002row6_col0\" class=\"data row6 col0\" >0</td>\n",
              "                        <td id=\"T_ff05560c_ea34_11eb_ba97_0242ac1c0002row6_col1\" class=\"data row6 col1\" >3</td>\n",
              "                        <td id=\"T_ff05560c_ea34_11eb_ba97_0242ac1c0002row6_col2\" class=\"data row6 col2\" >20</td>\n",
              "                        <td id=\"T_ff05560c_ea34_11eb_ba97_0242ac1c0002row6_col3\" class=\"data row6 col3\" >20</td>\n",
              "                        <td id=\"T_ff05560c_ea34_11eb_ba97_0242ac1c0002row6_col4\" class=\"data row6 col4\" >15</td>\n",
              "                        <td id=\"T_ff05560c_ea34_11eb_ba97_0242ac1c0002row6_col5\" class=\"data row6 col5\" >0</td>\n",
              "                        <td id=\"T_ff05560c_ea34_11eb_ba97_0242ac1c0002row6_col6\" class=\"data row6 col6\" >0</td>\n",
              "                        <td id=\"T_ff05560c_ea34_11eb_ba97_0242ac1c0002row6_col7\" class=\"data row6 col7\" >0</td>\n",
              "                        <td id=\"T_ff05560c_ea34_11eb_ba97_0242ac1c0002row6_col8\" class=\"data row6 col8\" >0</td>\n",
              "                        <td id=\"T_ff05560c_ea34_11eb_ba97_0242ac1c0002row6_col9\" class=\"data row6 col9\" >0</td>\n",
              "                        <td id=\"T_ff05560c_ea34_11eb_ba97_0242ac1c0002row6_col10\" class=\"data row6 col10\" >43</td>\n",
              "                        <td id=\"T_ff05560c_ea34_11eb_ba97_0242ac1c0002row6_col11\" class=\"data row6 col11\" >224</td>\n",
              "                        <td id=\"T_ff05560c_ea34_11eb_ba97_0242ac1c0002row6_col12\" class=\"data row6 col12\" >253</td>\n",
              "                        <td id=\"T_ff05560c_ea34_11eb_ba97_0242ac1c0002row6_col13\" class=\"data row6 col13\" >245</td>\n",
              "                        <td id=\"T_ff05560c_ea34_11eb_ba97_0242ac1c0002row6_col14\" class=\"data row6 col14\" >74</td>\n",
              "                        <td id=\"T_ff05560c_ea34_11eb_ba97_0242ac1c0002row6_col15\" class=\"data row6 col15\" >0</td>\n",
              "                        <td id=\"T_ff05560c_ea34_11eb_ba97_0242ac1c0002row6_col16\" class=\"data row6 col16\" >0</td>\n",
              "            </tr>\n",
              "            <tr>\n",
              "                        <th id=\"T_ff05560c_ea34_11eb_ba97_0242ac1c0002level0_row7\" class=\"row_heading level0 row7\" >7</th>\n",
              "                        <td id=\"T_ff05560c_ea34_11eb_ba97_0242ac1c0002row7_col0\" class=\"data row7 col0\" >0</td>\n",
              "                        <td id=\"T_ff05560c_ea34_11eb_ba97_0242ac1c0002row7_col1\" class=\"data row7 col1\" >0</td>\n",
              "                        <td id=\"T_ff05560c_ea34_11eb_ba97_0242ac1c0002row7_col2\" class=\"data row7 col2\" >0</td>\n",
              "                        <td id=\"T_ff05560c_ea34_11eb_ba97_0242ac1c0002row7_col3\" class=\"data row7 col3\" >0</td>\n",
              "                        <td id=\"T_ff05560c_ea34_11eb_ba97_0242ac1c0002row7_col4\" class=\"data row7 col4\" >0</td>\n",
              "                        <td id=\"T_ff05560c_ea34_11eb_ba97_0242ac1c0002row7_col5\" class=\"data row7 col5\" >0</td>\n",
              "                        <td id=\"T_ff05560c_ea34_11eb_ba97_0242ac1c0002row7_col6\" class=\"data row7 col6\" >0</td>\n",
              "                        <td id=\"T_ff05560c_ea34_11eb_ba97_0242ac1c0002row7_col7\" class=\"data row7 col7\" >0</td>\n",
              "                        <td id=\"T_ff05560c_ea34_11eb_ba97_0242ac1c0002row7_col8\" class=\"data row7 col8\" >0</td>\n",
              "                        <td id=\"T_ff05560c_ea34_11eb_ba97_0242ac1c0002row7_col9\" class=\"data row7 col9\" >0</td>\n",
              "                        <td id=\"T_ff05560c_ea34_11eb_ba97_0242ac1c0002row7_col10\" class=\"data row7 col10\" >249</td>\n",
              "                        <td id=\"T_ff05560c_ea34_11eb_ba97_0242ac1c0002row7_col11\" class=\"data row7 col11\" >253</td>\n",
              "                        <td id=\"T_ff05560c_ea34_11eb_ba97_0242ac1c0002row7_col12\" class=\"data row7 col12\" >245</td>\n",
              "                        <td id=\"T_ff05560c_ea34_11eb_ba97_0242ac1c0002row7_col13\" class=\"data row7 col13\" >126</td>\n",
              "                        <td id=\"T_ff05560c_ea34_11eb_ba97_0242ac1c0002row7_col14\" class=\"data row7 col14\" >0</td>\n",
              "                        <td id=\"T_ff05560c_ea34_11eb_ba97_0242ac1c0002row7_col15\" class=\"data row7 col15\" >0</td>\n",
              "                        <td id=\"T_ff05560c_ea34_11eb_ba97_0242ac1c0002row7_col16\" class=\"data row7 col16\" >0</td>\n",
              "            </tr>\n",
              "            <tr>\n",
              "                        <th id=\"T_ff05560c_ea34_11eb_ba97_0242ac1c0002level0_row8\" class=\"row_heading level0 row8\" >8</th>\n",
              "                        <td id=\"T_ff05560c_ea34_11eb_ba97_0242ac1c0002row8_col0\" class=\"data row8 col0\" >0</td>\n",
              "                        <td id=\"T_ff05560c_ea34_11eb_ba97_0242ac1c0002row8_col1\" class=\"data row8 col1\" >0</td>\n",
              "                        <td id=\"T_ff05560c_ea34_11eb_ba97_0242ac1c0002row8_col2\" class=\"data row8 col2\" >0</td>\n",
              "                        <td id=\"T_ff05560c_ea34_11eb_ba97_0242ac1c0002row8_col3\" class=\"data row8 col3\" >0</td>\n",
              "                        <td id=\"T_ff05560c_ea34_11eb_ba97_0242ac1c0002row8_col4\" class=\"data row8 col4\" >0</td>\n",
              "                        <td id=\"T_ff05560c_ea34_11eb_ba97_0242ac1c0002row8_col5\" class=\"data row8 col5\" >0</td>\n",
              "                        <td id=\"T_ff05560c_ea34_11eb_ba97_0242ac1c0002row8_col6\" class=\"data row8 col6\" >0</td>\n",
              "                        <td id=\"T_ff05560c_ea34_11eb_ba97_0242ac1c0002row8_col7\" class=\"data row8 col7\" >14</td>\n",
              "                        <td id=\"T_ff05560c_ea34_11eb_ba97_0242ac1c0002row8_col8\" class=\"data row8 col8\" >101</td>\n",
              "                        <td id=\"T_ff05560c_ea34_11eb_ba97_0242ac1c0002row8_col9\" class=\"data row8 col9\" >223</td>\n",
              "                        <td id=\"T_ff05560c_ea34_11eb_ba97_0242ac1c0002row8_col10\" class=\"data row8 col10\" >253</td>\n",
              "                        <td id=\"T_ff05560c_ea34_11eb_ba97_0242ac1c0002row8_col11\" class=\"data row8 col11\" >248</td>\n",
              "                        <td id=\"T_ff05560c_ea34_11eb_ba97_0242ac1c0002row8_col12\" class=\"data row8 col12\" >124</td>\n",
              "                        <td id=\"T_ff05560c_ea34_11eb_ba97_0242ac1c0002row8_col13\" class=\"data row8 col13\" >0</td>\n",
              "                        <td id=\"T_ff05560c_ea34_11eb_ba97_0242ac1c0002row8_col14\" class=\"data row8 col14\" >0</td>\n",
              "                        <td id=\"T_ff05560c_ea34_11eb_ba97_0242ac1c0002row8_col15\" class=\"data row8 col15\" >0</td>\n",
              "                        <td id=\"T_ff05560c_ea34_11eb_ba97_0242ac1c0002row8_col16\" class=\"data row8 col16\" >0</td>\n",
              "            </tr>\n",
              "            <tr>\n",
              "                        <th id=\"T_ff05560c_ea34_11eb_ba97_0242ac1c0002level0_row9\" class=\"row_heading level0 row9\" >9</th>\n",
              "                        <td id=\"T_ff05560c_ea34_11eb_ba97_0242ac1c0002row9_col0\" class=\"data row9 col0\" >0</td>\n",
              "                        <td id=\"T_ff05560c_ea34_11eb_ba97_0242ac1c0002row9_col1\" class=\"data row9 col1\" >0</td>\n",
              "                        <td id=\"T_ff05560c_ea34_11eb_ba97_0242ac1c0002row9_col2\" class=\"data row9 col2\" >0</td>\n",
              "                        <td id=\"T_ff05560c_ea34_11eb_ba97_0242ac1c0002row9_col3\" class=\"data row9 col3\" >0</td>\n",
              "                        <td id=\"T_ff05560c_ea34_11eb_ba97_0242ac1c0002row9_col4\" class=\"data row9 col4\" >0</td>\n",
              "                        <td id=\"T_ff05560c_ea34_11eb_ba97_0242ac1c0002row9_col5\" class=\"data row9 col5\" >11</td>\n",
              "                        <td id=\"T_ff05560c_ea34_11eb_ba97_0242ac1c0002row9_col6\" class=\"data row9 col6\" >166</td>\n",
              "                        <td id=\"T_ff05560c_ea34_11eb_ba97_0242ac1c0002row9_col7\" class=\"data row9 col7\" >239</td>\n",
              "                        <td id=\"T_ff05560c_ea34_11eb_ba97_0242ac1c0002row9_col8\" class=\"data row9 col8\" >253</td>\n",
              "                        <td id=\"T_ff05560c_ea34_11eb_ba97_0242ac1c0002row9_col9\" class=\"data row9 col9\" >253</td>\n",
              "                        <td id=\"T_ff05560c_ea34_11eb_ba97_0242ac1c0002row9_col10\" class=\"data row9 col10\" >253</td>\n",
              "                        <td id=\"T_ff05560c_ea34_11eb_ba97_0242ac1c0002row9_col11\" class=\"data row9 col11\" >187</td>\n",
              "                        <td id=\"T_ff05560c_ea34_11eb_ba97_0242ac1c0002row9_col12\" class=\"data row9 col12\" >30</td>\n",
              "                        <td id=\"T_ff05560c_ea34_11eb_ba97_0242ac1c0002row9_col13\" class=\"data row9 col13\" >0</td>\n",
              "                        <td id=\"T_ff05560c_ea34_11eb_ba97_0242ac1c0002row9_col14\" class=\"data row9 col14\" >0</td>\n",
              "                        <td id=\"T_ff05560c_ea34_11eb_ba97_0242ac1c0002row9_col15\" class=\"data row9 col15\" >0</td>\n",
              "                        <td id=\"T_ff05560c_ea34_11eb_ba97_0242ac1c0002row9_col16\" class=\"data row9 col16\" >0</td>\n",
              "            </tr>\n",
              "            <tr>\n",
              "                        <th id=\"T_ff05560c_ea34_11eb_ba97_0242ac1c0002level0_row10\" class=\"row_heading level0 row10\" >10</th>\n",
              "                        <td id=\"T_ff05560c_ea34_11eb_ba97_0242ac1c0002row10_col0\" class=\"data row10 col0\" >0</td>\n",
              "                        <td id=\"T_ff05560c_ea34_11eb_ba97_0242ac1c0002row10_col1\" class=\"data row10 col1\" >0</td>\n",
              "                        <td id=\"T_ff05560c_ea34_11eb_ba97_0242ac1c0002row10_col2\" class=\"data row10 col2\" >0</td>\n",
              "                        <td id=\"T_ff05560c_ea34_11eb_ba97_0242ac1c0002row10_col3\" class=\"data row10 col3\" >0</td>\n",
              "                        <td id=\"T_ff05560c_ea34_11eb_ba97_0242ac1c0002row10_col4\" class=\"data row10 col4\" >0</td>\n",
              "                        <td id=\"T_ff05560c_ea34_11eb_ba97_0242ac1c0002row10_col5\" class=\"data row10 col5\" >16</td>\n",
              "                        <td id=\"T_ff05560c_ea34_11eb_ba97_0242ac1c0002row10_col6\" class=\"data row10 col6\" >248</td>\n",
              "                        <td id=\"T_ff05560c_ea34_11eb_ba97_0242ac1c0002row10_col7\" class=\"data row10 col7\" >250</td>\n",
              "                        <td id=\"T_ff05560c_ea34_11eb_ba97_0242ac1c0002row10_col8\" class=\"data row10 col8\" >253</td>\n",
              "                        <td id=\"T_ff05560c_ea34_11eb_ba97_0242ac1c0002row10_col9\" class=\"data row10 col9\" >253</td>\n",
              "                        <td id=\"T_ff05560c_ea34_11eb_ba97_0242ac1c0002row10_col10\" class=\"data row10 col10\" >253</td>\n",
              "                        <td id=\"T_ff05560c_ea34_11eb_ba97_0242ac1c0002row10_col11\" class=\"data row10 col11\" >253</td>\n",
              "                        <td id=\"T_ff05560c_ea34_11eb_ba97_0242ac1c0002row10_col12\" class=\"data row10 col12\" >232</td>\n",
              "                        <td id=\"T_ff05560c_ea34_11eb_ba97_0242ac1c0002row10_col13\" class=\"data row10 col13\" >213</td>\n",
              "                        <td id=\"T_ff05560c_ea34_11eb_ba97_0242ac1c0002row10_col14\" class=\"data row10 col14\" >111</td>\n",
              "                        <td id=\"T_ff05560c_ea34_11eb_ba97_0242ac1c0002row10_col15\" class=\"data row10 col15\" >2</td>\n",
              "                        <td id=\"T_ff05560c_ea34_11eb_ba97_0242ac1c0002row10_col16\" class=\"data row10 col16\" >0</td>\n",
              "            </tr>\n",
              "            <tr>\n",
              "                        <th id=\"T_ff05560c_ea34_11eb_ba97_0242ac1c0002level0_row11\" class=\"row_heading level0 row11\" >11</th>\n",
              "                        <td id=\"T_ff05560c_ea34_11eb_ba97_0242ac1c0002row11_col0\" class=\"data row11 col0\" >0</td>\n",
              "                        <td id=\"T_ff05560c_ea34_11eb_ba97_0242ac1c0002row11_col1\" class=\"data row11 col1\" >0</td>\n",
              "                        <td id=\"T_ff05560c_ea34_11eb_ba97_0242ac1c0002row11_col2\" class=\"data row11 col2\" >0</td>\n",
              "                        <td id=\"T_ff05560c_ea34_11eb_ba97_0242ac1c0002row11_col3\" class=\"data row11 col3\" >0</td>\n",
              "                        <td id=\"T_ff05560c_ea34_11eb_ba97_0242ac1c0002row11_col4\" class=\"data row11 col4\" >0</td>\n",
              "                        <td id=\"T_ff05560c_ea34_11eb_ba97_0242ac1c0002row11_col5\" class=\"data row11 col5\" >0</td>\n",
              "                        <td id=\"T_ff05560c_ea34_11eb_ba97_0242ac1c0002row11_col6\" class=\"data row11 col6\" >0</td>\n",
              "                        <td id=\"T_ff05560c_ea34_11eb_ba97_0242ac1c0002row11_col7\" class=\"data row11 col7\" >43</td>\n",
              "                        <td id=\"T_ff05560c_ea34_11eb_ba97_0242ac1c0002row11_col8\" class=\"data row11 col8\" >98</td>\n",
              "                        <td id=\"T_ff05560c_ea34_11eb_ba97_0242ac1c0002row11_col9\" class=\"data row11 col9\" >98</td>\n",
              "                        <td id=\"T_ff05560c_ea34_11eb_ba97_0242ac1c0002row11_col10\" class=\"data row11 col10\" >208</td>\n",
              "                        <td id=\"T_ff05560c_ea34_11eb_ba97_0242ac1c0002row11_col11\" class=\"data row11 col11\" >253</td>\n",
              "                        <td id=\"T_ff05560c_ea34_11eb_ba97_0242ac1c0002row11_col12\" class=\"data row11 col12\" >253</td>\n",
              "                        <td id=\"T_ff05560c_ea34_11eb_ba97_0242ac1c0002row11_col13\" class=\"data row11 col13\" >253</td>\n",
              "                        <td id=\"T_ff05560c_ea34_11eb_ba97_0242ac1c0002row11_col14\" class=\"data row11 col14\" >253</td>\n",
              "                        <td id=\"T_ff05560c_ea34_11eb_ba97_0242ac1c0002row11_col15\" class=\"data row11 col15\" >187</td>\n",
              "                        <td id=\"T_ff05560c_ea34_11eb_ba97_0242ac1c0002row11_col16\" class=\"data row11 col16\" >22</td>\n",
              "            </tr>\n",
              "            <tr>\n",
              "                        <th id=\"T_ff05560c_ea34_11eb_ba97_0242ac1c0002level0_row12\" class=\"row_heading level0 row12\" >12</th>\n",
              "                        <td id=\"T_ff05560c_ea34_11eb_ba97_0242ac1c0002row12_col0\" class=\"data row12 col0\" >0</td>\n",
              "                        <td id=\"T_ff05560c_ea34_11eb_ba97_0242ac1c0002row12_col1\" class=\"data row12 col1\" >0</td>\n",
              "                        <td id=\"T_ff05560c_ea34_11eb_ba97_0242ac1c0002row12_col2\" class=\"data row12 col2\" >0</td>\n",
              "                        <td id=\"T_ff05560c_ea34_11eb_ba97_0242ac1c0002row12_col3\" class=\"data row12 col3\" >0</td>\n",
              "                        <td id=\"T_ff05560c_ea34_11eb_ba97_0242ac1c0002row12_col4\" class=\"data row12 col4\" >0</td>\n",
              "                        <td id=\"T_ff05560c_ea34_11eb_ba97_0242ac1c0002row12_col5\" class=\"data row12 col5\" >0</td>\n",
              "                        <td id=\"T_ff05560c_ea34_11eb_ba97_0242ac1c0002row12_col6\" class=\"data row12 col6\" >0</td>\n",
              "                        <td id=\"T_ff05560c_ea34_11eb_ba97_0242ac1c0002row12_col7\" class=\"data row12 col7\" >0</td>\n",
              "                        <td id=\"T_ff05560c_ea34_11eb_ba97_0242ac1c0002row12_col8\" class=\"data row12 col8\" >0</td>\n",
              "                        <td id=\"T_ff05560c_ea34_11eb_ba97_0242ac1c0002row12_col9\" class=\"data row12 col9\" >0</td>\n",
              "                        <td id=\"T_ff05560c_ea34_11eb_ba97_0242ac1c0002row12_col10\" class=\"data row12 col10\" >9</td>\n",
              "                        <td id=\"T_ff05560c_ea34_11eb_ba97_0242ac1c0002row12_col11\" class=\"data row12 col11\" >51</td>\n",
              "                        <td id=\"T_ff05560c_ea34_11eb_ba97_0242ac1c0002row12_col12\" class=\"data row12 col12\" >119</td>\n",
              "                        <td id=\"T_ff05560c_ea34_11eb_ba97_0242ac1c0002row12_col13\" class=\"data row12 col13\" >253</td>\n",
              "                        <td id=\"T_ff05560c_ea34_11eb_ba97_0242ac1c0002row12_col14\" class=\"data row12 col14\" >253</td>\n",
              "                        <td id=\"T_ff05560c_ea34_11eb_ba97_0242ac1c0002row12_col15\" class=\"data row12 col15\" >253</td>\n",
              "                        <td id=\"T_ff05560c_ea34_11eb_ba97_0242ac1c0002row12_col16\" class=\"data row12 col16\" >76</td>\n",
              "            </tr>\n",
              "            <tr>\n",
              "                        <th id=\"T_ff05560c_ea34_11eb_ba97_0242ac1c0002level0_row13\" class=\"row_heading level0 row13\" >13</th>\n",
              "                        <td id=\"T_ff05560c_ea34_11eb_ba97_0242ac1c0002row13_col0\" class=\"data row13 col0\" >0</td>\n",
              "                        <td id=\"T_ff05560c_ea34_11eb_ba97_0242ac1c0002row13_col1\" class=\"data row13 col1\" >0</td>\n",
              "                        <td id=\"T_ff05560c_ea34_11eb_ba97_0242ac1c0002row13_col2\" class=\"data row13 col2\" >0</td>\n",
              "                        <td id=\"T_ff05560c_ea34_11eb_ba97_0242ac1c0002row13_col3\" class=\"data row13 col3\" >0</td>\n",
              "                        <td id=\"T_ff05560c_ea34_11eb_ba97_0242ac1c0002row13_col4\" class=\"data row13 col4\" >0</td>\n",
              "                        <td id=\"T_ff05560c_ea34_11eb_ba97_0242ac1c0002row13_col5\" class=\"data row13 col5\" >0</td>\n",
              "                        <td id=\"T_ff05560c_ea34_11eb_ba97_0242ac1c0002row13_col6\" class=\"data row13 col6\" >0</td>\n",
              "                        <td id=\"T_ff05560c_ea34_11eb_ba97_0242ac1c0002row13_col7\" class=\"data row13 col7\" >0</td>\n",
              "                        <td id=\"T_ff05560c_ea34_11eb_ba97_0242ac1c0002row13_col8\" class=\"data row13 col8\" >0</td>\n",
              "                        <td id=\"T_ff05560c_ea34_11eb_ba97_0242ac1c0002row13_col9\" class=\"data row13 col9\" >0</td>\n",
              "                        <td id=\"T_ff05560c_ea34_11eb_ba97_0242ac1c0002row13_col10\" class=\"data row13 col10\" >0</td>\n",
              "                        <td id=\"T_ff05560c_ea34_11eb_ba97_0242ac1c0002row13_col11\" class=\"data row13 col11\" >0</td>\n",
              "                        <td id=\"T_ff05560c_ea34_11eb_ba97_0242ac1c0002row13_col12\" class=\"data row13 col12\" >1</td>\n",
              "                        <td id=\"T_ff05560c_ea34_11eb_ba97_0242ac1c0002row13_col13\" class=\"data row13 col13\" >183</td>\n",
              "                        <td id=\"T_ff05560c_ea34_11eb_ba97_0242ac1c0002row13_col14\" class=\"data row13 col14\" >253</td>\n",
              "                        <td id=\"T_ff05560c_ea34_11eb_ba97_0242ac1c0002row13_col15\" class=\"data row13 col15\" >253</td>\n",
              "                        <td id=\"T_ff05560c_ea34_11eb_ba97_0242ac1c0002row13_col16\" class=\"data row13 col16\" >139</td>\n",
              "            </tr>\n",
              "            <tr>\n",
              "                        <th id=\"T_ff05560c_ea34_11eb_ba97_0242ac1c0002level0_row14\" class=\"row_heading level0 row14\" >14</th>\n",
              "                        <td id=\"T_ff05560c_ea34_11eb_ba97_0242ac1c0002row14_col0\" class=\"data row14 col0\" >0</td>\n",
              "                        <td id=\"T_ff05560c_ea34_11eb_ba97_0242ac1c0002row14_col1\" class=\"data row14 col1\" >0</td>\n",
              "                        <td id=\"T_ff05560c_ea34_11eb_ba97_0242ac1c0002row14_col2\" class=\"data row14 col2\" >0</td>\n",
              "                        <td id=\"T_ff05560c_ea34_11eb_ba97_0242ac1c0002row14_col3\" class=\"data row14 col3\" >0</td>\n",
              "                        <td id=\"T_ff05560c_ea34_11eb_ba97_0242ac1c0002row14_col4\" class=\"data row14 col4\" >0</td>\n",
              "                        <td id=\"T_ff05560c_ea34_11eb_ba97_0242ac1c0002row14_col5\" class=\"data row14 col5\" >0</td>\n",
              "                        <td id=\"T_ff05560c_ea34_11eb_ba97_0242ac1c0002row14_col6\" class=\"data row14 col6\" >0</td>\n",
              "                        <td id=\"T_ff05560c_ea34_11eb_ba97_0242ac1c0002row14_col7\" class=\"data row14 col7\" >0</td>\n",
              "                        <td id=\"T_ff05560c_ea34_11eb_ba97_0242ac1c0002row14_col8\" class=\"data row14 col8\" >0</td>\n",
              "                        <td id=\"T_ff05560c_ea34_11eb_ba97_0242ac1c0002row14_col9\" class=\"data row14 col9\" >0</td>\n",
              "                        <td id=\"T_ff05560c_ea34_11eb_ba97_0242ac1c0002row14_col10\" class=\"data row14 col10\" >0</td>\n",
              "                        <td id=\"T_ff05560c_ea34_11eb_ba97_0242ac1c0002row14_col11\" class=\"data row14 col11\" >0</td>\n",
              "                        <td id=\"T_ff05560c_ea34_11eb_ba97_0242ac1c0002row14_col12\" class=\"data row14 col12\" >0</td>\n",
              "                        <td id=\"T_ff05560c_ea34_11eb_ba97_0242ac1c0002row14_col13\" class=\"data row14 col13\" >182</td>\n",
              "                        <td id=\"T_ff05560c_ea34_11eb_ba97_0242ac1c0002row14_col14\" class=\"data row14 col14\" >253</td>\n",
              "                        <td id=\"T_ff05560c_ea34_11eb_ba97_0242ac1c0002row14_col15\" class=\"data row14 col15\" >253</td>\n",
              "                        <td id=\"T_ff05560c_ea34_11eb_ba97_0242ac1c0002row14_col16\" class=\"data row14 col16\" >104</td>\n",
              "            </tr>\n",
              "            <tr>\n",
              "                        <th id=\"T_ff05560c_ea34_11eb_ba97_0242ac1c0002level0_row15\" class=\"row_heading level0 row15\" >15</th>\n",
              "                        <td id=\"T_ff05560c_ea34_11eb_ba97_0242ac1c0002row15_col0\" class=\"data row15 col0\" >0</td>\n",
              "                        <td id=\"T_ff05560c_ea34_11eb_ba97_0242ac1c0002row15_col1\" class=\"data row15 col1\" >0</td>\n",
              "                        <td id=\"T_ff05560c_ea34_11eb_ba97_0242ac1c0002row15_col2\" class=\"data row15 col2\" >0</td>\n",
              "                        <td id=\"T_ff05560c_ea34_11eb_ba97_0242ac1c0002row15_col3\" class=\"data row15 col3\" >0</td>\n",
              "                        <td id=\"T_ff05560c_ea34_11eb_ba97_0242ac1c0002row15_col4\" class=\"data row15 col4\" >0</td>\n",
              "                        <td id=\"T_ff05560c_ea34_11eb_ba97_0242ac1c0002row15_col5\" class=\"data row15 col5\" >0</td>\n",
              "                        <td id=\"T_ff05560c_ea34_11eb_ba97_0242ac1c0002row15_col6\" class=\"data row15 col6\" >0</td>\n",
              "                        <td id=\"T_ff05560c_ea34_11eb_ba97_0242ac1c0002row15_col7\" class=\"data row15 col7\" >0</td>\n",
              "                        <td id=\"T_ff05560c_ea34_11eb_ba97_0242ac1c0002row15_col8\" class=\"data row15 col8\" >0</td>\n",
              "                        <td id=\"T_ff05560c_ea34_11eb_ba97_0242ac1c0002row15_col9\" class=\"data row15 col9\" >0</td>\n",
              "                        <td id=\"T_ff05560c_ea34_11eb_ba97_0242ac1c0002row15_col10\" class=\"data row15 col10\" >0</td>\n",
              "                        <td id=\"T_ff05560c_ea34_11eb_ba97_0242ac1c0002row15_col11\" class=\"data row15 col11\" >0</td>\n",
              "                        <td id=\"T_ff05560c_ea34_11eb_ba97_0242ac1c0002row15_col12\" class=\"data row15 col12\" >85</td>\n",
              "                        <td id=\"T_ff05560c_ea34_11eb_ba97_0242ac1c0002row15_col13\" class=\"data row15 col13\" >249</td>\n",
              "                        <td id=\"T_ff05560c_ea34_11eb_ba97_0242ac1c0002row15_col14\" class=\"data row15 col14\" >253</td>\n",
              "                        <td id=\"T_ff05560c_ea34_11eb_ba97_0242ac1c0002row15_col15\" class=\"data row15 col15\" >253</td>\n",
              "                        <td id=\"T_ff05560c_ea34_11eb_ba97_0242ac1c0002row15_col16\" class=\"data row15 col16\" >36</td>\n",
              "            </tr>\n",
              "            <tr>\n",
              "                        <th id=\"T_ff05560c_ea34_11eb_ba97_0242ac1c0002level0_row16\" class=\"row_heading level0 row16\" >16</th>\n",
              "                        <td id=\"T_ff05560c_ea34_11eb_ba97_0242ac1c0002row16_col0\" class=\"data row16 col0\" >0</td>\n",
              "                        <td id=\"T_ff05560c_ea34_11eb_ba97_0242ac1c0002row16_col1\" class=\"data row16 col1\" >0</td>\n",
              "                        <td id=\"T_ff05560c_ea34_11eb_ba97_0242ac1c0002row16_col2\" class=\"data row16 col2\" >0</td>\n",
              "                        <td id=\"T_ff05560c_ea34_11eb_ba97_0242ac1c0002row16_col3\" class=\"data row16 col3\" >0</td>\n",
              "                        <td id=\"T_ff05560c_ea34_11eb_ba97_0242ac1c0002row16_col4\" class=\"data row16 col4\" >0</td>\n",
              "                        <td id=\"T_ff05560c_ea34_11eb_ba97_0242ac1c0002row16_col5\" class=\"data row16 col5\" >0</td>\n",
              "                        <td id=\"T_ff05560c_ea34_11eb_ba97_0242ac1c0002row16_col6\" class=\"data row16 col6\" >0</td>\n",
              "                        <td id=\"T_ff05560c_ea34_11eb_ba97_0242ac1c0002row16_col7\" class=\"data row16 col7\" >0</td>\n",
              "                        <td id=\"T_ff05560c_ea34_11eb_ba97_0242ac1c0002row16_col8\" class=\"data row16 col8\" >0</td>\n",
              "                        <td id=\"T_ff05560c_ea34_11eb_ba97_0242ac1c0002row16_col9\" class=\"data row16 col9\" >0</td>\n",
              "                        <td id=\"T_ff05560c_ea34_11eb_ba97_0242ac1c0002row16_col10\" class=\"data row16 col10\" >0</td>\n",
              "                        <td id=\"T_ff05560c_ea34_11eb_ba97_0242ac1c0002row16_col11\" class=\"data row16 col11\" >60</td>\n",
              "                        <td id=\"T_ff05560c_ea34_11eb_ba97_0242ac1c0002row16_col12\" class=\"data row16 col12\" >214</td>\n",
              "                        <td id=\"T_ff05560c_ea34_11eb_ba97_0242ac1c0002row16_col13\" class=\"data row16 col13\" >253</td>\n",
              "                        <td id=\"T_ff05560c_ea34_11eb_ba97_0242ac1c0002row16_col14\" class=\"data row16 col14\" >253</td>\n",
              "                        <td id=\"T_ff05560c_ea34_11eb_ba97_0242ac1c0002row16_col15\" class=\"data row16 col15\" >173</td>\n",
              "                        <td id=\"T_ff05560c_ea34_11eb_ba97_0242ac1c0002row16_col16\" class=\"data row16 col16\" >11</td>\n",
              "            </tr>\n",
              "            <tr>\n",
              "                        <th id=\"T_ff05560c_ea34_11eb_ba97_0242ac1c0002level0_row17\" class=\"row_heading level0 row17\" >17</th>\n",
              "                        <td id=\"T_ff05560c_ea34_11eb_ba97_0242ac1c0002row17_col0\" class=\"data row17 col0\" >0</td>\n",
              "                        <td id=\"T_ff05560c_ea34_11eb_ba97_0242ac1c0002row17_col1\" class=\"data row17 col1\" >0</td>\n",
              "                        <td id=\"T_ff05560c_ea34_11eb_ba97_0242ac1c0002row17_col2\" class=\"data row17 col2\" >0</td>\n",
              "                        <td id=\"T_ff05560c_ea34_11eb_ba97_0242ac1c0002row17_col3\" class=\"data row17 col3\" >0</td>\n",
              "                        <td id=\"T_ff05560c_ea34_11eb_ba97_0242ac1c0002row17_col4\" class=\"data row17 col4\" >0</td>\n",
              "                        <td id=\"T_ff05560c_ea34_11eb_ba97_0242ac1c0002row17_col5\" class=\"data row17 col5\" >0</td>\n",
              "                        <td id=\"T_ff05560c_ea34_11eb_ba97_0242ac1c0002row17_col6\" class=\"data row17 col6\" >0</td>\n",
              "                        <td id=\"T_ff05560c_ea34_11eb_ba97_0242ac1c0002row17_col7\" class=\"data row17 col7\" >0</td>\n",
              "                        <td id=\"T_ff05560c_ea34_11eb_ba97_0242ac1c0002row17_col8\" class=\"data row17 col8\" >0</td>\n",
              "                        <td id=\"T_ff05560c_ea34_11eb_ba97_0242ac1c0002row17_col9\" class=\"data row17 col9\" >0</td>\n",
              "                        <td id=\"T_ff05560c_ea34_11eb_ba97_0242ac1c0002row17_col10\" class=\"data row17 col10\" >98</td>\n",
              "                        <td id=\"T_ff05560c_ea34_11eb_ba97_0242ac1c0002row17_col11\" class=\"data row17 col11\" >247</td>\n",
              "                        <td id=\"T_ff05560c_ea34_11eb_ba97_0242ac1c0002row17_col12\" class=\"data row17 col12\" >253</td>\n",
              "                        <td id=\"T_ff05560c_ea34_11eb_ba97_0242ac1c0002row17_col13\" class=\"data row17 col13\" >253</td>\n",
              "                        <td id=\"T_ff05560c_ea34_11eb_ba97_0242ac1c0002row17_col14\" class=\"data row17 col14\" >226</td>\n",
              "                        <td id=\"T_ff05560c_ea34_11eb_ba97_0242ac1c0002row17_col15\" class=\"data row17 col15\" >9</td>\n",
              "                        <td id=\"T_ff05560c_ea34_11eb_ba97_0242ac1c0002row17_col16\" class=\"data row17 col16\" >0</td>\n",
              "            </tr>\n",
              "            <tr>\n",
              "                        <th id=\"T_ff05560c_ea34_11eb_ba97_0242ac1c0002level0_row18\" class=\"row_heading level0 row18\" >18</th>\n",
              "                        <td id=\"T_ff05560c_ea34_11eb_ba97_0242ac1c0002row18_col0\" class=\"data row18 col0\" >0</td>\n",
              "                        <td id=\"T_ff05560c_ea34_11eb_ba97_0242ac1c0002row18_col1\" class=\"data row18 col1\" >0</td>\n",
              "                        <td id=\"T_ff05560c_ea34_11eb_ba97_0242ac1c0002row18_col2\" class=\"data row18 col2\" >0</td>\n",
              "                        <td id=\"T_ff05560c_ea34_11eb_ba97_0242ac1c0002row18_col3\" class=\"data row18 col3\" >0</td>\n",
              "                        <td id=\"T_ff05560c_ea34_11eb_ba97_0242ac1c0002row18_col4\" class=\"data row18 col4\" >0</td>\n",
              "                        <td id=\"T_ff05560c_ea34_11eb_ba97_0242ac1c0002row18_col5\" class=\"data row18 col5\" >0</td>\n",
              "                        <td id=\"T_ff05560c_ea34_11eb_ba97_0242ac1c0002row18_col6\" class=\"data row18 col6\" >0</td>\n",
              "                        <td id=\"T_ff05560c_ea34_11eb_ba97_0242ac1c0002row18_col7\" class=\"data row18 col7\" >0</td>\n",
              "                        <td id=\"T_ff05560c_ea34_11eb_ba97_0242ac1c0002row18_col8\" class=\"data row18 col8\" >42</td>\n",
              "                        <td id=\"T_ff05560c_ea34_11eb_ba97_0242ac1c0002row18_col9\" class=\"data row18 col9\" >150</td>\n",
              "                        <td id=\"T_ff05560c_ea34_11eb_ba97_0242ac1c0002row18_col10\" class=\"data row18 col10\" >252</td>\n",
              "                        <td id=\"T_ff05560c_ea34_11eb_ba97_0242ac1c0002row18_col11\" class=\"data row18 col11\" >253</td>\n",
              "                        <td id=\"T_ff05560c_ea34_11eb_ba97_0242ac1c0002row18_col12\" class=\"data row18 col12\" >253</td>\n",
              "                        <td id=\"T_ff05560c_ea34_11eb_ba97_0242ac1c0002row18_col13\" class=\"data row18 col13\" >233</td>\n",
              "                        <td id=\"T_ff05560c_ea34_11eb_ba97_0242ac1c0002row18_col14\" class=\"data row18 col14\" >53</td>\n",
              "                        <td id=\"T_ff05560c_ea34_11eb_ba97_0242ac1c0002row18_col15\" class=\"data row18 col15\" >0</td>\n",
              "                        <td id=\"T_ff05560c_ea34_11eb_ba97_0242ac1c0002row18_col16\" class=\"data row18 col16\" >0</td>\n",
              "            </tr>\n",
              "            <tr>\n",
              "                        <th id=\"T_ff05560c_ea34_11eb_ba97_0242ac1c0002level0_row19\" class=\"row_heading level0 row19\" >19</th>\n",
              "                        <td id=\"T_ff05560c_ea34_11eb_ba97_0242ac1c0002row19_col0\" class=\"data row19 col0\" >0</td>\n",
              "                        <td id=\"T_ff05560c_ea34_11eb_ba97_0242ac1c0002row19_col1\" class=\"data row19 col1\" >0</td>\n",
              "                        <td id=\"T_ff05560c_ea34_11eb_ba97_0242ac1c0002row19_col2\" class=\"data row19 col2\" >42</td>\n",
              "                        <td id=\"T_ff05560c_ea34_11eb_ba97_0242ac1c0002row19_col3\" class=\"data row19 col3\" >115</td>\n",
              "                        <td id=\"T_ff05560c_ea34_11eb_ba97_0242ac1c0002row19_col4\" class=\"data row19 col4\" >42</td>\n",
              "                        <td id=\"T_ff05560c_ea34_11eb_ba97_0242ac1c0002row19_col5\" class=\"data row19 col5\" >60</td>\n",
              "                        <td id=\"T_ff05560c_ea34_11eb_ba97_0242ac1c0002row19_col6\" class=\"data row19 col6\" >115</td>\n",
              "                        <td id=\"T_ff05560c_ea34_11eb_ba97_0242ac1c0002row19_col7\" class=\"data row19 col7\" >159</td>\n",
              "                        <td id=\"T_ff05560c_ea34_11eb_ba97_0242ac1c0002row19_col8\" class=\"data row19 col8\" >240</td>\n",
              "                        <td id=\"T_ff05560c_ea34_11eb_ba97_0242ac1c0002row19_col9\" class=\"data row19 col9\" >253</td>\n",
              "                        <td id=\"T_ff05560c_ea34_11eb_ba97_0242ac1c0002row19_col10\" class=\"data row19 col10\" >253</td>\n",
              "                        <td id=\"T_ff05560c_ea34_11eb_ba97_0242ac1c0002row19_col11\" class=\"data row19 col11\" >250</td>\n",
              "                        <td id=\"T_ff05560c_ea34_11eb_ba97_0242ac1c0002row19_col12\" class=\"data row19 col12\" >175</td>\n",
              "                        <td id=\"T_ff05560c_ea34_11eb_ba97_0242ac1c0002row19_col13\" class=\"data row19 col13\" >25</td>\n",
              "                        <td id=\"T_ff05560c_ea34_11eb_ba97_0242ac1c0002row19_col14\" class=\"data row19 col14\" >0</td>\n",
              "                        <td id=\"T_ff05560c_ea34_11eb_ba97_0242ac1c0002row19_col15\" class=\"data row19 col15\" >0</td>\n",
              "                        <td id=\"T_ff05560c_ea34_11eb_ba97_0242ac1c0002row19_col16\" class=\"data row19 col16\" >0</td>\n",
              "            </tr>\n",
              "            <tr>\n",
              "                        <th id=\"T_ff05560c_ea34_11eb_ba97_0242ac1c0002level0_row20\" class=\"row_heading level0 row20\" >20</th>\n",
              "                        <td id=\"T_ff05560c_ea34_11eb_ba97_0242ac1c0002row20_col0\" class=\"data row20 col0\" >0</td>\n",
              "                        <td id=\"T_ff05560c_ea34_11eb_ba97_0242ac1c0002row20_col1\" class=\"data row20 col1\" >0</td>\n",
              "                        <td id=\"T_ff05560c_ea34_11eb_ba97_0242ac1c0002row20_col2\" class=\"data row20 col2\" >187</td>\n",
              "                        <td id=\"T_ff05560c_ea34_11eb_ba97_0242ac1c0002row20_col3\" class=\"data row20 col3\" >253</td>\n",
              "                        <td id=\"T_ff05560c_ea34_11eb_ba97_0242ac1c0002row20_col4\" class=\"data row20 col4\" >253</td>\n",
              "                        <td id=\"T_ff05560c_ea34_11eb_ba97_0242ac1c0002row20_col5\" class=\"data row20 col5\" >253</td>\n",
              "                        <td id=\"T_ff05560c_ea34_11eb_ba97_0242ac1c0002row20_col6\" class=\"data row20 col6\" >253</td>\n",
              "                        <td id=\"T_ff05560c_ea34_11eb_ba97_0242ac1c0002row20_col7\" class=\"data row20 col7\" >253</td>\n",
              "                        <td id=\"T_ff05560c_ea34_11eb_ba97_0242ac1c0002row20_col8\" class=\"data row20 col8\" >253</td>\n",
              "                        <td id=\"T_ff05560c_ea34_11eb_ba97_0242ac1c0002row20_col9\" class=\"data row20 col9\" >253</td>\n",
              "                        <td id=\"T_ff05560c_ea34_11eb_ba97_0242ac1c0002row20_col10\" class=\"data row20 col10\" >197</td>\n",
              "                        <td id=\"T_ff05560c_ea34_11eb_ba97_0242ac1c0002row20_col11\" class=\"data row20 col11\" >86</td>\n",
              "                        <td id=\"T_ff05560c_ea34_11eb_ba97_0242ac1c0002row20_col12\" class=\"data row20 col12\" >0</td>\n",
              "                        <td id=\"T_ff05560c_ea34_11eb_ba97_0242ac1c0002row20_col13\" class=\"data row20 col13\" >0</td>\n",
              "                        <td id=\"T_ff05560c_ea34_11eb_ba97_0242ac1c0002row20_col14\" class=\"data row20 col14\" >0</td>\n",
              "                        <td id=\"T_ff05560c_ea34_11eb_ba97_0242ac1c0002row20_col15\" class=\"data row20 col15\" >0</td>\n",
              "                        <td id=\"T_ff05560c_ea34_11eb_ba97_0242ac1c0002row20_col16\" class=\"data row20 col16\" >0</td>\n",
              "            </tr>\n",
              "            <tr>\n",
              "                        <th id=\"T_ff05560c_ea34_11eb_ba97_0242ac1c0002level0_row21\" class=\"row_heading level0 row21\" >21</th>\n",
              "                        <td id=\"T_ff05560c_ea34_11eb_ba97_0242ac1c0002row21_col0\" class=\"data row21 col0\" >0</td>\n",
              "                        <td id=\"T_ff05560c_ea34_11eb_ba97_0242ac1c0002row21_col1\" class=\"data row21 col1\" >0</td>\n",
              "                        <td id=\"T_ff05560c_ea34_11eb_ba97_0242ac1c0002row21_col2\" class=\"data row21 col2\" >103</td>\n",
              "                        <td id=\"T_ff05560c_ea34_11eb_ba97_0242ac1c0002row21_col3\" class=\"data row21 col3\" >253</td>\n",
              "                        <td id=\"T_ff05560c_ea34_11eb_ba97_0242ac1c0002row21_col4\" class=\"data row21 col4\" >253</td>\n",
              "                        <td id=\"T_ff05560c_ea34_11eb_ba97_0242ac1c0002row21_col5\" class=\"data row21 col5\" >253</td>\n",
              "                        <td id=\"T_ff05560c_ea34_11eb_ba97_0242ac1c0002row21_col6\" class=\"data row21 col6\" >253</td>\n",
              "                        <td id=\"T_ff05560c_ea34_11eb_ba97_0242ac1c0002row21_col7\" class=\"data row21 col7\" >253</td>\n",
              "                        <td id=\"T_ff05560c_ea34_11eb_ba97_0242ac1c0002row21_col8\" class=\"data row21 col8\" >232</td>\n",
              "                        <td id=\"T_ff05560c_ea34_11eb_ba97_0242ac1c0002row21_col9\" class=\"data row21 col9\" >67</td>\n",
              "                        <td id=\"T_ff05560c_ea34_11eb_ba97_0242ac1c0002row21_col10\" class=\"data row21 col10\" >1</td>\n",
              "                        <td id=\"T_ff05560c_ea34_11eb_ba97_0242ac1c0002row21_col11\" class=\"data row21 col11\" >0</td>\n",
              "                        <td id=\"T_ff05560c_ea34_11eb_ba97_0242ac1c0002row21_col12\" class=\"data row21 col12\" >0</td>\n",
              "                        <td id=\"T_ff05560c_ea34_11eb_ba97_0242ac1c0002row21_col13\" class=\"data row21 col13\" >0</td>\n",
              "                        <td id=\"T_ff05560c_ea34_11eb_ba97_0242ac1c0002row21_col14\" class=\"data row21 col14\" >0</td>\n",
              "                        <td id=\"T_ff05560c_ea34_11eb_ba97_0242ac1c0002row21_col15\" class=\"data row21 col15\" >0</td>\n",
              "                        <td id=\"T_ff05560c_ea34_11eb_ba97_0242ac1c0002row21_col16\" class=\"data row21 col16\" >0</td>\n",
              "            </tr>\n",
              "    </tbody></table>"
            ],
            "text/plain": [
              "<pandas.io.formats.style.Styler at 0x7fe3b7931950>"
            ]
          },
          "metadata": {
            "tags": []
          },
          "execution_count": 10
        }
      ]
    },
    {
      "cell_type": "code",
      "metadata": {
        "id": "lkNgfjOFwkPH",
        "colab": {
          "base_uri": "https://localhost:8080/"
        },
        "outputId": "411c2108-25d1-4fe6-ea68-475e41b85354"
      },
      "source": [
        "three_tensors = [tensor(Image.open(o)) for o in threes]\n",
        "seven_tensors = [tensor(Image.open(o)) for o in sevens]\n",
        "len(three_tensors),len(seven_tensors)"
      ],
      "execution_count": 12,
      "outputs": [
        {
          "output_type": "execute_result",
          "data": {
            "text/plain": [
              "(6131, 6265)"
            ]
          },
          "metadata": {
            "tags": []
          },
          "execution_count": 12
        }
      ]
    },
    {
      "cell_type": "code",
      "metadata": {
        "colab": {
          "base_uri": "https://localhost:8080/"
        },
        "id": "GofD5vJVmaz7",
        "outputId": "0503b041-e29b-4083-8548-45e44a79f935"
      },
      "source": [
        "three_tensors[1]"
      ],
      "execution_count": 14,
      "outputs": [
        {
          "output_type": "execute_result",
          "data": {
            "text/plain": [
              "tensor([[  0,   0,   0,   0,   0,   0,   0,   0,   0,   0,   0,   0,   0,   0,   0,   0,   0,   0,   0,   0,   0,   0,   0,   0,   0,   0,   0,   0],\n",
              "        [  0,   0,   0,   0,   0,   0,   0,   0,   0,   0,   0,   0,   0,   0,   0,   0,   0,   0,   0,   0,   0,   0,   0,   0,   0,   0,   0,   0],\n",
              "        [  0,   0,   0,   0,   0,   0,   0,   0,   0,   0,   0,   0,   0,   0,   0,   0,   0,   0,   0,   0,   0,   0,   0,   0,   0,   0,   0,   0],\n",
              "        [  0,   0,   0,   0,   0,   0,   0,   0,   0,   0,   0,   0,   0,   0,   0,   0,   0,   0,   0,   0,   0,   0,   0,   0,   0,   0,   0,   0],\n",
              "        [  0,   0,   0,   0,   0,   0,   0,   0,   0,   0,   0,   0,   0,   0,   0,   0,   0,   0,   0,   0,   0,   0,   0,   0,   0,   0,   0,   0],\n",
              "        [  0,   0,   0,   0,   0,   0,   0,   0,   0,  29, 150, 195, 254, 255, 254, 176, 193, 150,  96,   0,   0,   0,   0,   0,   0,   0,   0,   0],\n",
              "        [  0,   0,   0,   0,   0,   0,   0,  48, 166, 224, 253, 253, 234, 196, 253, 253, 253, 253, 233,   0,   0,   0,   0,   0,   0,   0,   0,   0],\n",
              "        [  0,   0,   0,   0,   0,  93, 244, 249, 253, 187,  46,  10,   8,   4,  10, 194, 253, 253, 233,   0,   0,   0,   0,   0,   0,   0,   0,   0],\n",
              "        [  0,   0,   0,   0,   0, 107, 253, 253, 230,  48,   0,   0,   0,   0,   0, 192, 253, 253, 156,   0,   0,   0,   0,   0,   0,   0,   0,   0],\n",
              "        [  0,   0,   0,   0,   0,   3,  20,  20,  15,   0,   0,   0,   0,   0,  43, 224, 253, 245,  74,   0,   0,   0,   0,   0,   0,   0,   0,   0],\n",
              "        [  0,   0,   0,   0,   0,   0,   0,   0,   0,   0,   0,   0,   0,   0, 249, 253, 245, 126,   0,   0,   0,   0,   0,   0,   0,   0,   0,   0],\n",
              "        [  0,   0,   0,   0,   0,   0,   0,   0,   0,   0,   0,  14, 101, 223, 253, 248, 124,   0,   0,   0,   0,   0,   0,   0,   0,   0,   0,   0],\n",
              "        [  0,   0,   0,   0,   0,   0,   0,   0,   0,  11, 166, 239, 253, 253, 253, 187,  30,   0,   0,   0,   0,   0,   0,   0,   0,   0,   0,   0],\n",
              "        [  0,   0,   0,   0,   0,   0,   0,   0,   0,  16, 248, 250, 253, 253, 253, 253, 232, 213, 111,   2,   0,   0,   0,   0,   0,   0,   0,   0],\n",
              "        [  0,   0,   0,   0,   0,   0,   0,   0,   0,   0,   0,  43,  98,  98, 208, 253, 253, 253, 253, 187,  22,   0,   0,   0,   0,   0,   0,   0],\n",
              "        [  0,   0,   0,   0,   0,   0,   0,   0,   0,   0,   0,   0,   0,   0,   9,  51, 119, 253, 253, 253,  76,   0,   0,   0,   0,   0,   0,   0],\n",
              "        [  0,   0,   0,   0,   0,   0,   0,   0,   0,   0,   0,   0,   0,   0,   0,   0,   1, 183, 253, 253, 139,   0,   0,   0,   0,   0,   0,   0],\n",
              "        [  0,   0,   0,   0,   0,   0,   0,   0,   0,   0,   0,   0,   0,   0,   0,   0,   0, 182, 253, 253, 104,   0,   0,   0,   0,   0,   0,   0],\n",
              "        [  0,   0,   0,   0,   0,   0,   0,   0,   0,   0,   0,   0,   0,   0,   0,   0,  85, 249, 253, 253,  36,   0,   0,   0,   0,   0,   0,   0],\n",
              "        [  0,   0,   0,   0,   0,   0,   0,   0,   0,   0,   0,   0,   0,   0,   0,  60, 214, 253, 253, 173,  11,   0,   0,   0,   0,   0,   0,   0],\n",
              "        [  0,   0,   0,   0,   0,   0,   0,   0,   0,   0,   0,   0,   0,   0,  98, 247, 253, 253, 226,   9,   0,   0,   0,   0,   0,   0,   0,   0],\n",
              "        [  0,   0,   0,   0,   0,   0,   0,   0,   0,   0,   0,   0,  42, 150, 252, 253, 253, 233,  53,   0,   0,   0,   0,   0,   0,   0,   0,   0],\n",
              "        [  0,   0,   0,   0,   0,   0,  42, 115,  42,  60, 115, 159, 240, 253, 253, 250, 175,  25,   0,   0,   0,   0,   0,   0,   0,   0,   0,   0],\n",
              "        [  0,   0,   0,   0,   0,   0, 187, 253, 253, 253, 253, 253, 253, 253, 197,  86,   0,   0,   0,   0,   0,   0,   0,   0,   0,   0,   0,   0],\n",
              "        [  0,   0,   0,   0,   0,   0, 103, 253, 253, 253, 253, 253, 232,  67,   1,   0,   0,   0,   0,   0,   0,   0,   0,   0,   0,   0,   0,   0],\n",
              "        [  0,   0,   0,   0,   0,   0,   0,   0,   0,   0,   0,   0,   0,   0,   0,   0,   0,   0,   0,   0,   0,   0,   0,   0,   0,   0,   0,   0],\n",
              "        [  0,   0,   0,   0,   0,   0,   0,   0,   0,   0,   0,   0,   0,   0,   0,   0,   0,   0,   0,   0,   0,   0,   0,   0,   0,   0,   0,   0],\n",
              "        [  0,   0,   0,   0,   0,   0,   0,   0,   0,   0,   0,   0,   0,   0,   0,   0,   0,   0,   0,   0,   0,   0,   0,   0,   0,   0,   0,   0]], dtype=torch.uint8)"
            ]
          },
          "metadata": {
            "tags": []
          },
          "execution_count": 14
        }
      ]
    },
    {
      "cell_type": "code",
      "metadata": {
        "colab": {
          "base_uri": "https://localhost:8080/",
          "height": 102
        },
        "id": "1y2tbotMmtpi",
        "outputId": "f7a59279-2155-497d-b3e8-6cea96fb7180"
      },
      "source": [
        "show_image(three_tensors[1])"
      ],
      "execution_count": 13,
      "outputs": [
        {
          "output_type": "execute_result",
          "data": {
            "text/plain": [
              "<matplotlib.axes._subplots.AxesSubplot at 0x7fe3b4221ed0>"
            ]
          },
          "metadata": {
            "tags": []
          },
          "execution_count": 13
        },
        {
          "output_type": "display_data",
          "data": {
            "image/png": "[encoded data removed]",
            "text/plain": [
              "<Figure size 72x72 with 1 Axes>"
            ]
          },
          "metadata": {
            "tags": [],
            "needs_background": "light"
          }
        }
      ]
    },
    {
      "cell_type": "code",
      "metadata": {
        "colab": {
          "base_uri": "https://localhost:8080/"
        },
        "id": "ILKKupwtm2Pn",
        "outputId": "4ac49c7b-d4de-415d-d952-763a3a673222"
      },
      "source": [
        "stacked_threes = torch.stack(three_tensors).float()/255\n",
        "stacked_sevens = torch.stack(seven_tensors).float()/255\n",
        "stacked_threes.shape,stacked_sevens.shape"
      ],
      "execution_count": 16,
      "outputs": [
        {
          "output_type": "execute_result",
          "data": {
            "text/plain": [
              "(torch.Size([6131, 28, 28]), torch.Size([6265, 28, 28]))"
            ]
          },
          "metadata": {
            "tags": []
          },
          "execution_count": 16
        }
      ]
    },
    {
      "cell_type": "code",
      "metadata": {
        "colab": {
          "base_uri": "https://localhost:8080/",
          "height": 102
        },
        "id": "PRFolYHonai6",
        "outputId": "21cbf708-b18a-4e5a-d7e4-90e09979875e"
      },
      "source": [
        "show_image(stacked_threes.mean(0))"
      ],
      "execution_count": 18,
      "outputs": [
        {
          "output_type": "execute_result",
          "data": {
            "text/plain": [
              "<matplotlib.axes._subplots.AxesSubplot at 0x7fe3b1faae90>"
            ]
          },
          "metadata": {
            "tags": []
          },
          "execution_count": 18
        },
        {
          "output_type": "display_data",
          "data": {
            "image/png": "[encoded data removed]",
            "text/plain": [
              "<Figure size 72x72 with 1 Axes>"
            ]
          },
          "metadata": {
            "tags": [],
            "needs_background": "light"
          }
        }
      ]
    },
    {
      "cell_type": "code",
      "metadata": {
        "id": "fzaYN9UqnmQl"
      },
      "source": [
        ""
      ],
      "execution_count": null,
      "outputs": []
    }
  ]
}